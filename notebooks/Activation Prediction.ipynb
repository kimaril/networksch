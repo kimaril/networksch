{
 "cells": [
  {
   "cell_type": "code",
   "execution_count": 1,
   "metadata": {},
   "outputs": [],
   "source": [
    "import numpy as np\n",
    "import matplotlib.pyplot as plt\n",
    "%matplotlib inline\n",
    "import networkx as nx \n",
    "import pandas as pd\n",
    "import random\n",
    "from tqdm import tqdm_notebook\n",
    "from scipy.stats.stats import pearsonr\n",
    "from scipy.stats.stats import spearmanr\n",
    "from scipy.stats.stats import kendalltau"
   ]
  },
  {
   "cell_type": "code",
   "execution_count": 2,
   "metadata": {},
   "outputs": [],
   "source": [
    "G = nx.read_edgelist('../data/raw/ca-netscience.txt', nodetype=int)"
   ]
  },
  {
   "cell_type": "code",
   "execution_count": 3,
   "metadata": {},
   "outputs": [],
   "source": [
    "def localized_group(G,group_size=20):\n",
    "    nodes=list(G.nodes())\n",
    "    a=np.random.choice(nodes, size=1, replace=False)[0]\n",
    "    neighbors=list(G[a])\n",
    "    for node in neighbors:\n",
    "        neighbors=neighbors+list(G[node])\n",
    "    s=list(set(neighbors))\n",
    "    if(len(s)>=group_size):\n",
    "        group=list(np.random.choice(s, size=group_size, replace=False))\n",
    "        return group\n",
    "    else:\n",
    "        return s\n",
    "    \n",
    "def activated_nodes(G,active, rate=0.12): # return list of activated nodes\n",
    "    targets=[]\n",
    "    for node in active:\n",
    "        targets=targets+list(G[node]) # list of neighbors\n",
    "           \n",
    "    if (len(targets)>0):\n",
    "        s=np.random.binomial(1, rate, len(targets))\n",
    "        activated=list(np.array(targets)[np.nonzero(s)])\n",
    "        if (len(activated)>0):\n",
    "            return activated\n",
    "        else: \n",
    "            return False\n",
    "    else:\n",
    "        return False\n",
    "    \n",
    "def spread(G, spreader, steps=100):\n",
    "    active=spreader #initial spreader\n",
    "    visited=[]\n",
    "    t=0\n",
    "    while(t<steps):\n",
    "        t=t+1\n",
    "        s=activated_nodes(G,active)\n",
    "        active=[]\n",
    "        if (s==False):\n",
    "            t=steps\n",
    "        else:\n",
    "            for node in s:\n",
    "                if (node not in visited):\n",
    "                    active.append(node)\n",
    "                    visited.append(node)\n",
    "            if (len(active)==0):\n",
    "                t=steps\n",
    "    return (visited)\n",
    "\n",
    "def fraction(list1,list2):\n",
    "    return len(set(list1) & set(list2))/len(list1)\n",
    "\n",
    "def spreading_ability(G,node, targets,num=2000):\n",
    "    s=np.zeros(num)\n",
    "    for i in range(num):\n",
    "        s[i]=fraction(targets,(spread(G, [node])))\n",
    "    return sum(s)/num"
   ]
  },
  {
   "cell_type": "code",
   "execution_count": 4,
   "metadata": {},
   "outputs": [],
   "source": [
    "pos = nx.spring_layout(G, iterations=200)\n",
    "nodes = list(G.nodes())\n",
    "\n",
    "def walk_and_save(G, num_samples=50, draw=False, save=False):\n",
    "    target_list, spreading_abilities = [], []\n",
    "    for i in tqdm_notebook(range(num_samples), desc='Generating sample...'):\n",
    "        targets = localized_group(G, group_size=20)\n",
    "        target_list.append(targets)\n",
    "        \n",
    "        s = []\n",
    "        for node in nodes:\n",
    "            a = spreading_ability(G, node, targets)\n",
    "            s.append(a)\n",
    "        spreading_abilities.append(s)\n",
    "        \n",
    "        if draw:\n",
    "            net = nx.draw(G, pos, node_size=25, with_labels=False)\n",
    "            net = nx.draw_networkx_nodes(G, pos,\n",
    "                                   nodelist=targets,\n",
    "                                   node_color='b',node_size=25)\n",
    "            net.savefig(fname='../viz/{}.png'.format(i))\n",
    "            \n",
    "        if save:\n",
    "            df_t = pd.DataFrame(columns=['target'])\n",
    "            df_t['target'] = targets\n",
    "            df_t.to_csv('../data/raw/targets_{}.csv'.format(i), index=False)\n",
    "\n",
    "            df_sa = pd.DataFrame(columns=['node', 'spreading_ability'])\n",
    "            df_sa['node'] = list(np.array(nodes)[np.nonzero(s)])\n",
    "            df_sa['spreading_ability'] = list(np.array(s)[np.nonzero(s)])\n",
    "            df_sa.to_csv('../data/raw/spreading_{}.csv'.format(i), index=False)\n",
    "        \n",
    "    return target_list, spreading_abilities"
   ]
  },
  {
   "cell_type": "code",
   "execution_count": 5,
   "metadata": {},
   "outputs": [],
   "source": [
    "def draw_(Gk, pos, metrics, rescale_metrics=True):\n",
    "    def rescale_log(weigths_list):\n",
    "        cutoff = 1e-20\n",
    "        for _ in range(len(weigths_list)):\n",
    "            if weigths_list[_] < cutoff:\n",
    "                weigths_list[_] = cutoff\n",
    "        return 1/(np.log(np.array(weigths_list)))\n",
    "    if rescale_metrics:\n",
    "        metrics = rescale_log(metrics)\n",
    "    norm = 1000/np.max(metrics)\n",
    "    options = {\n",
    "    'with_labels':True,\n",
    "    'node_color': [v * norm for v in metrics],\n",
    "    'node_size': [v * norm for v in metrics],\n",
    "    'line_color': 'grey',\n",
    "    'linewidths': 0.5,\n",
    "    'width': 0.5,\n",
    "    'cmap': 'YlGnBu',\n",
    "    'with_labels':True\n",
    "    }\n",
    "    nx.draw(Gk, pos, **options)\n",
    "    \n",
    "# plt.figure(figsize=(30,25))\n",
    "# draw_(G, pos, s, rescale_metrics=False)"
   ]
  },
  {
   "cell_type": "code",
   "execution_count": 6,
   "metadata": {},
   "outputs": [],
   "source": [
    "def get_exp_decay(G, targets):\n",
    "    # exp decay\n",
    "    weights = []\n",
    "    for n in nodes:\n",
    "        cumulative_weight = []\n",
    "        for tar in targets:\n",
    "            weight = nx.shortest_path_length(G, source=tar, target=n)\n",
    "            cumulative_weight.append(weight)\n",
    "#         weights.append(np.exp(-sum(cumulative_weight)/len(targets)))\n",
    "        weights.append(sum(np.exp(-np.array(cumulative_weight)))/len(targets))\n",
    "    return weights"
   ]
  },
  {
   "cell_type": "code",
   "execution_count": 7,
   "metadata": {},
   "outputs": [],
   "source": [
    "def evaluate(weigths, s):\n",
    "    pearson = pearsonr(weigths_list, s)[0]\n",
    "    spearman = spearmanr(weigths_list, s)[0]\n",
    "    ktau = kendalltau(weigths_list, s)[0]\n",
    "    return pearson, spearman, ktau\n",
    "    \n",
    "def print_results(res):\n",
    "    print(\"Pearson correlation: {}\".format(round(res[0], ndigits=4)))\n",
    "    print(\"Spearman correlation: {}\".format(round(res[1], ndigits=4)))\n",
    "    print(\"Kendall rank correlation coeff: {}\".format(round(res[2], ndigits=4)))\n",
    "    print()"
   ]
  },
  {
   "cell_type": "code",
   "execution_count": null,
   "metadata": {},
   "outputs": [
    {
     "data": {
      "application/vnd.jupyter.widget-view+json": {
       "model_id": "b22c7b38c48346738794cec6ad21c3fa",
       "version_major": 2,
       "version_minor": 0
      },
      "text/plain": [
       "HBox(children=(IntProgress(value=0, description='Generating sample...', style=ProgressStyle(description_width=…"
      ]
     },
     "metadata": {},
     "output_type": "display_data"
    }
   ],
   "source": [
    "closeness = np.array(list(nx.closeness_centrality(G).values()))\n",
    "katz = np.array(list(nx.katz_centrality_numpy(G).values()))\n",
    "betweenness = np.array(list(nx.betweenness_centrality(G).values()))\n",
    "eigenvector = np.array(list(nx.eigenvector_centrality(G).values()))\n",
    "pagerank = np.array(list(nx.pagerank(G, alpha=0.85).values()))\n",
    "flow = np.array(list(nx.approximate_current_flow_betweenness_centrality(G).values()))\n",
    "exp_deviation_closeness = closeness/np.mean(closeness)\n",
    "\n",
    "sample_t, sample_s = walk_and_save(G, num_samples=100, draw=False)"
   ]
  },
  {
   "cell_type": "code",
   "execution_count": null,
   "metadata": {},
   "outputs": [],
   "source": [
    "res = []\n",
    "for targets, spreading in tqdm_notebook(zip(sample_t, sample_s)):\n",
    "    weights = get_exp_decay(G, targets)\n",
    "    pred = np.array(weights)*(1+0.5*closeness+0.5*eigenvector+0.01*degrees)\n",
    "    res.append(evaluate(pred, spreading))\n",
    "    \n",
    "res = np.array(res)"
   ]
  },
  {
   "cell_type": "code",
   "execution_count": null,
   "metadata": {},
   "outputs": [],
   "source": [
    "np.mean(res, axis=0)"
   ]
  },
  {
   "cell_type": "code",
   "execution_count": null,
   "metadata": {
    "scrolled": true
   },
   "outputs": [],
   "source": [
    "# plt.figure(figsize=(30,25))\n",
    "\n",
    "# draw_(G,pos,rescale_log(np.array(weigths_list)*np.array(cl_centr)));"
   ]
  },
  {
   "cell_type": "code",
   "execution_count": null,
   "metadata": {},
   "outputs": [],
   "source": [
    "# plt.figure(figsize=(30,25))\n",
    "# plt.plot(rescale_log(np.array(weigths_list)**np.array(cl_centr))/5)\n",
    "# plt.plot(rescale_log(s))\n",
    "# plt.show()"
   ]
  }
 ],
 "metadata": {
  "kernelspec": {
   "display_name": "networksch",
   "language": "python",
   "name": "networksch"
  },
  "language_info": {
   "codemirror_mode": {
    "name": "ipython",
    "version": 3
   },
   "file_extension": ".py",
   "mimetype": "text/x-python",
   "name": "python",
   "nbconvert_exporter": "python",
   "pygments_lexer": "ipython3",
   "version": "3.7.1"
  },
  "varInspector": {
   "cols": {
    "lenName": 16,
    "lenType": 16,
    "lenVar": 40
   },
   "kernels_config": {
    "python": {
     "delete_cmd_postfix": "",
     "delete_cmd_prefix": "del ",
     "library": "var_list.py",
     "varRefreshCmd": "print(var_dic_list())"
    },
    "r": {
     "delete_cmd_postfix": ") ",
     "delete_cmd_prefix": "rm(",
     "library": "var_list.r",
     "varRefreshCmd": "cat(var_dic_list()) "
    }
   },
   "types_to_exclude": [
    "module",
    "function",
    "builtin_function_or_method",
    "instance",
    "_Feature"
   ],
   "window_display": true
  }
 },
 "nbformat": 4,
 "nbformat_minor": 2
}
