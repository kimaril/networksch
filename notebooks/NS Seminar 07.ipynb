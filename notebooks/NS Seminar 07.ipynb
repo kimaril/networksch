{
 "cells": [
  {
   "cell_type": "markdown",
   "metadata": {},
   "source": [
    "# Конфигурационная модель и рандомизация сетей"
   ]
  },
  {
   "cell_type": "code",
   "execution_count": 1,
   "metadata": {
    "collapsed": true
   },
   "outputs": [],
   "source": [
    "import numpy as np\n",
    "import matplotlib.pyplot as plt\n",
    "\n",
    "%matplotlib inline\n",
    "import networkx as nx"
   ]
  },
  {
   "cell_type": "markdown",
   "metadata": {},
   "source": [
    "Конфигурационная модель - генератор случайной сети с заданным распределением степеней вершин. Алгоритм заключается в следующих шагах: \n",
    "* каждой  вершине $i$ графа  присваивается $k_i$ «полуребер»;\n",
    "* из   последовательности таких «полуребер» случайным образом выбирается пара и соответствующие вершины $i$ и $j$ соединяются ребром; \n",
    "* предыдущий  шаг  повторяется  до  тех пор,  все ребра не будут задействованы.\n",
    "![](config01.png)\n"
   ]
  },
  {
   "cell_type": "code",
   "execution_count": 2,
   "metadata": {},
   "outputs": [
    {
     "data": {
      "image/png": "[encoded data removed]",
      "text/plain": [
       "<matplotlib.figure.Figure at 0x25b72cff828>"
      ]
     },
     "metadata": {},
     "output_type": "display_data"
    }
   ],
   "source": [
    "degrees=[3,2,2,1]\n",
    "\n",
    "fig, axes = plt.subplots(nrows=2, ncols=2,figsize=(12, 8))\n",
    "\n",
    "plt.subplot(221)\n",
    "G=nx.configuration_model(degrees,seed=5)\n",
    "nx.draw(G,nx.spring_layout(G,iterations=10),node_size=500,with_labels=True)\n",
    "\n",
    "plt.subplot(222)\n",
    "G=nx.configuration_model(degrees,seed=10)\n",
    "nx.draw(G,nx.spring_layout(G,iterations=10),node_size=500,with_labels=True)\n",
    "\n",
    "plt.subplot(223)\n",
    "G=nx.configuration_model(degrees,seed=28)\n",
    "nx.draw(G,nx.spring_layout(G,iterations=10),node_size=500,with_labels=True)\n",
    "\n",
    "plt.subplot(224)\n",
    "G=nx.configuration_model(degrees,seed=115)\n",
    "nx.draw(G,nx.spring_layout(G,iterations=10),node_size=500,with_labels=True)"
   ]
  },
  {
   "cell_type": "code",
   "execution_count": 3,
   "metadata": {},
   "outputs": [
    {
     "name": "stdout",
     "output_type": "stream",
     "text": [
      "[(0, 0), (0, 2), (1, 3), (1, 2)]\n",
      "[(0, 0)]\n"
     ]
    }
   ],
   "source": [
    "print(list(G.edges()))\n",
    "print(list(G.selfloop_edges())) #все петли"
   ]
  },
  {
   "cell_type": "markdown",
   "metadata": {},
   "source": [
    "### Топология конфигурационной сети:\n",
    "Ожидаемое число мультиребер:\n",
    "$$\n",
    "M=\\frac{1}{2} \\left(\\frac{\\langle k^2\\rangle-\\langle k\\rangle}{\\langle k\\rangle}\\right)^2,\n",
    "$$\n",
    "Ожидаемое число петель: \n",
    "$$\n",
    "S=\\frac{\\langle k^2\\rangle-\\langle k\\rangle}{2\\langle k\\rangle},\n",
    "$$\n",
    "\n",
    "Коэффициент кластеризации: \n",
    "\n",
    "$$\n",
    "C=\\frac{1}{N} \\frac{(\\langle k^2\\rangle-\\langle k\\rangle)^2}{\\langle k\\rangle^3},\n",
    "$$\n"
   ]
  },
  {
   "cell_type": "code",
   "execution_count": null,
   "metadata": {
    "collapsed": true
   },
   "outputs": [],
   "source": []
  },
  {
   "cell_type": "markdown",
   "metadata": {},
   "source": [
    "#### Задача 1.  Конфигурационная модель сетей со степенным распределением\n",
    "* напишите функции, вычисляющие по заданному массиву степеней теоретические значения числа мультиребер, петель и коэффициент кластеризации;"
   ]
  },
  {
   "cell_type": "code",
   "execution_count": 5,
   "metadata": {
    "collapsed": true
   },
   "outputs": [],
   "source": [
    "#def "
   ]
  },
  {
   "cell_type": "markdown",
   "metadata": {},
   "source": [
    "* напишите функции, вычисляющие число мультиребер, число петель и средний коэффициент кластеризации для заданного мультиграфа; "
   ]
  },
  {
   "cell_type": "code",
   "execution_count": 6,
   "metadata": {
    "collapsed": true
   },
   "outputs": [],
   "source": [
    "#def"
   ]
  },
  {
   "cell_type": "markdown",
   "metadata": {},
   "source": [
    "* объедините написанные функции в одну, которая выводит теоретические значения в конфигурационной модели и наблюдаемые;"
   ]
  },
  {
   "cell_type": "code",
   "execution_count": 7,
   "metadata": {
    "collapsed": true
   },
   "outputs": [],
   "source": [
    "#def "
   ]
  },
  {
   "cell_type": "markdown",
   "metadata": {},
   "source": [
    "* сгенерируйте значения степеней вершин из степенного распределения для различных значений $\\gamma \\in \\left[2.0, 3.0\\right]$. Для этих распределений выведите теоретические и наблюдаемые значения числа мультиребер, петель и коэффициента кластеризации в конфигурационной модели. Объясните полученные результаты."
   ]
  },
  {
   "cell_type": "code",
   "execution_count": 30,
   "metadata": {
    "collapsed": true
   },
   "outputs": [],
   "source": [
    "def power_law(gamma,x_min=2,size=10000):\n",
    "    x=np.zeros(size,dtype=int)\n",
    "    for i in range(size):\n",
    "        r=np.random.random()\n",
    "        x[i]=int(x_min*np.float_power((r),1/(-gamma+1)))\n",
    "    return x"
   ]
  },
  {
   "cell_type": "code",
   "execution_count": 50,
   "metadata": {
    "collapsed": true
   },
   "outputs": [],
   "source": [
    "#ваш ход здесь"
   ]
  },
  {
   "cell_type": "markdown",
   "metadata": {},
   "source": [
    "#### Задача 2. Конфигурационная модель сложной сети \n",
    "* постройте конфигурационную модель сети заболеваний;\n",
    "* сравните топологические характеристики сложной сети и ее конфигурационной модели: коэффициент кластеризации, транзитивность, средний кратчайший путь."
   ]
  },
  {
   "cell_type": "code",
   "execution_count": null,
   "metadata": {
    "collapsed": true
   },
   "outputs": [],
   "source": [
    "from google.colab import files\n",
    "\n",
    "uploaded = files.upload()\n",
    "\n",
    "for fn in uploaded.keys():\n",
    "    print('User uploaded file \"{name}\" with length {length} bytes'.format(name=fn, length=len(uploaded[fn])))"
   ]
  },
  {
   "cell_type": "code",
   "execution_count": 51,
   "metadata": {
    "collapsed": true
   },
   "outputs": [],
   "source": [
    "G=nx.read_edgelist('bio-diseasome.txt')"
   ]
  },
  {
   "cell_type": "markdown",
   "metadata": {
    "collapsed": true
   },
   "source": [
    "#### Задача 3. Алгоритм рандомизации\n",
    "  ![](switch.jpg)\n",
    "  \n",
    "  * напишите функцию, проверяющую, совпадают ли два вектора степеней для заданных графов $G_1$ и $G_2$;"
   ]
  },
  {
   "cell_type": "code",
   "execution_count": 52,
   "metadata": {
    "collapsed": true
   },
   "outputs": [],
   "source": [
    "def check_degrees(G1,G2):\n",
    "    return True\n",
    "    return False"
   ]
  },
  {
   "cell_type": "markdown",
   "metadata": {},
   "source": [
    "* напишите функцию рандомизации сети: \n",
    "  * (А) случайным образом выберите пару ребер, которые можно переключить между собой (новые ребра не должны быть петлями и мультиребрами!!!) и выполните переключение;\n",
    "  * (B) повторите шаг (A) $N_{steps}$ раз. \n",
    "  \n",
    "* проверьте, что ваша рандомизация действительно сохраняет степени вершин;"
   ]
  },
  {
   "cell_type": "code",
   "execution_count": null,
   "metadata": {
    "collapsed": true
   },
   "outputs": [],
   "source": [
    "#ваш ход здесь"
   ]
  },
  {
   "cell_type": "markdown",
   "metadata": {},
   "source": [
    "* напишите функцию, вычисляющую долю связей, оставшихся на месте после рандомизации для заданного графа $G$ и его рандомизированной версии $G_{rand}$;\n",
    "\n",
    "* постройте зависимость доли ребер, остающихся на месте от числа переключений. Число переключений выразите через число ребер в сети, т.е. $N_{steps}=\\left[0.1E,~0.2E,~\\dots~5E\\right]$, $E$- число ребер."
   ]
  },
  {
   "cell_type": "markdown",
   "metadata": {},
   "source": [
    "#### Задание 4. Рандомизация сложной сети\n",
    "* постройте ансамбль рандомизированных сетей для сети заболеваний (размер ансамбля: $N_{ens}=100$, число шагов рандомизации $10E$);\n",
    "* сравните топологические свойства сети со средним значением по ансамблю рандомизированных сетей;\n",
    "* постройте зависимости среднего кратчайшего пути и коэффициента кластеризации рандомизированной сети от количества шагов рандомизации;"
   ]
  },
  {
   "cell_type": "markdown",
   "metadata": {},
   "source": [
    "#### Задача 5. (дополнительно) Генератор сетей со степенным распределением. \n",
    "* сгенерируйте степени вершин из степенного распределения для заданного $\\gamma$;\n",
    "* постройте конфигурационную модель;\n",
    "* с помощью алгоритмов рандомизации избавьтесь от мультиребер и петель.\n"
   ]
  },
  {
   "cell_type": "code",
   "execution_count": null,
   "metadata": {
    "collapsed": true
   },
   "outputs": [],
   "source": []
  }
 ],
 "metadata": {
  "kernelspec": {
   "display_name": "Python 3",
   "language": "python",
   "name": "python3"
  },
  "language_info": {
   "codemirror_mode": {
    "name": "ipython",
    "version": 3
   },
   "file_extension": ".py",
   "mimetype": "text/x-python",
   "name": "python",
   "nbconvert_exporter": "python",
   "pygments_lexer": "ipython3",
   "version": "3.6.9"
  },
  "latex_envs": {
   "LaTeX_envs_menu_present": true,
   "autoclose": false,
   "autocomplete": true,
   "bibliofile": "biblio.bib",
   "cite_by": "apalike",
   "current_citInitial": 1,
   "eqLabelWithNumbers": true,
   "eqNumInitial": 1,
   "hotkeys": {
    "equation": "Ctrl-E",
    "itemize": "Ctrl-I"
   },
   "labels_anchors": false,
   "latex_user_defs": false,
   "report_style_numbering": false,
   "user_envs_cfg": false
  }
 },
 "nbformat": 4,
 "nbformat_minor": 2
}
