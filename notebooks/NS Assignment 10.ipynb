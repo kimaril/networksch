{
 "cells": [
  {
   "cell_type": "markdown",
   "metadata": {},
   "source": [
    "# Задание 10"
   ]
  },
  {
   "cell_type": "code",
   "execution_count": 1,
   "metadata": {
    "collapsed": true
   },
   "outputs": [],
   "source": [
    "import numpy as np\n",
    "import matplotlib.pyplot as plt\n",
    "%matplotlib inline\n",
    "import networkx as nx"
   ]
  },
  {
   "cell_type": "markdown",
   "metadata": {},
   "source": [
    "### 1.  Спектральные методы выделения сообществ (3 балла)\n",
    "Будем работать с маленькой сетью социального взаимодействия среди [дельфинов](http://citeseerx.ist.psu.edu/viewdoc/download?doi=10.1.1.174.3721&rep=rep1&type=pdf). \n",
    "* разбейте сеть на два сообщества по собственному вектору матрицы Лапласа;\n",
    "* разбейте сеть на два сообщества по собственному вектору матрицы модулярности;\n",
    "\n",
    "\n",
    "Одинаковы ли эти разбиения? \n",
    "(Сделайте симпатичную визуализацию для наглядности) "
   ]
  },
  {
   "cell_type": "code",
   "execution_count": 2,
   "metadata": {
    "collapsed": true
   },
   "outputs": [],
   "source": [
    "G=nx.read_edgelist('soc-dolphins.txt', nodetype=int)"
   ]
  },
  {
   "cell_type": "markdown",
   "metadata": {},
   "source": [
    "### 2. Label propagation (3 балла)\n",
    "Реализуйте алгоритм [Label propagation](https://en.wikipedia.org/wiki/Label_propagation_algorithm):\n",
    "\n",
    "* в начальный момент времени всем вершинам ставится в соответствие отдельное сообщество.\n",
    "* Каждая вершина в графе определяется в то сообщество, которому принадлежит большинство\n",
    "    его соседей. Если же таких сообществ несколько, то выбирается случайно одно из\n",
    "    них. Из-за случайности важно на каждой итерации изменять порядок обхода вершин. \n",
    "* Алгоритм заканчивает работу, когда нечего изменять: все вершины относятся к тем сообществам, что\n",
    "    и большинство их соседей.\n",
    "    \n",
    "Какие сообщества у дельфинов выделяет ваш алгоритм, сравните со спектральными методами. "
   ]
  },
  {
   "cell_type": "markdown",
   "metadata": {},
   "source": [
    "### 3.  Тестирование алгоритмов на блочно-стохастических сетях (3 балла)\n",
    "Будем тестировать алгоритмы выделения сообществ на сетях, состоящих из двух блоков равного размера $N$ с плотностью внутри блока $p_{in}$ и вероятностью связывания между вершинами разных блоков $p_{out}$. \n",
    "Пусть $f$ - доля вершин, которые были верно классифицированы алгоритмом. \n",
    "Постройте зависимость $f$ от параметра $\\mu=\\frac{p_{out}}{p_{in}+p_{out}}$ для разных алгоритмов выделения сообществ (на ваше усмотрение).\n",
    "\n",
    "Для моделирования используйте фиксированное значение $p_{in}$ и варьируйте $p_{out}$. Например, $p_{in}=0.3$, $p_{out} \\in \\left[0,0.3\\right]$"
   ]
  },
  {
   "cell_type": "code",
   "execution_count": 4,
   "metadata": {
    "collapsed": true
   },
   "outputs": [],
   "source": [
    "import community as co # алгоритм Лювена"
   ]
  },
  {
   "cell_type": "markdown",
   "metadata": {},
   "source": [
    "### 4. Перколяция $k$- клик (треугольников) ( 3 балла)\n",
    "\n",
    "* напишите функцию вычисляющую наибольший подграф, состоящий из смежных треугольников. Треугольники называются смежными, если они имеют общую сторону (две общие вершины). Назовем такой подграф перколяционным кластером. \n",
    "\n",
    "* постройте зависимость числа вершин перколяционного кластера от вероятности связи в случайном графе Эрдеша-Реньи. \n",
    "\n",
    "\n",
    "Обратите внимание, мы строили такую зависимость для гигантской компоненты, т.е. для перколяции по $k=2$ кликам. \n",
    "Порог перколяции по треугольникам определяется:\n",
    "$$\n",
    "p_{c}=\\frac{1}{\\sqrt{2N}}\n",
    "$$"
   ]
  },
  {
   "cell_type": "code",
   "execution_count": null,
   "metadata": {
    "collapsed": true
   },
   "outputs": [],
   "source": []
  }
 ],
 "metadata": {
  "kernelspec": {
   "display_name": "Python 3",
   "language": "python",
   "name": "python3"
  },
  "language_info": {
   "codemirror_mode": {
    "name": "ipython",
    "version": 3
   },
   "file_extension": ".py",
   "mimetype": "text/x-python",
   "name": "python",
   "nbconvert_exporter": "python",
   "pygments_lexer": "ipython3",
   "version": "3.6.9"
  },
  "latex_envs": {
   "LaTeX_envs_menu_present": true,
   "autoclose": false,
   "autocomplete": true,
   "bibliofile": "biblio.bib",
   "cite_by": "apalike",
   "current_citInitial": 1,
   "eqLabelWithNumbers": true,
   "eqNumInitial": 1,
   "hotkeys": {
    "equation": "Ctrl-E",
    "itemize": "Ctrl-I"
   },
   "labels_anchors": false,
   "latex_user_defs": false,
   "report_style_numbering": false,
   "user_envs_cfg": false
  }
 },
 "nbformat": 4,
 "nbformat_minor": 2
}
