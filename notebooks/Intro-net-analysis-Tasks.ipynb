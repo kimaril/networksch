{
 "cells": [
  {
   "cell_type": "code",
   "execution_count": 92,
   "metadata": {
    "colab": {},
    "colab_type": "code",
    "id": "hHW85mwHyuKN"
   },
   "outputs": [],
   "source": [
    "import numpy as np\n",
    "import matplotlib.pyplot as plt\n",
    "%matplotlib inline\n",
    "import networkx as nx \n",
    "import pandas as pd\n",
    "import random\n",
    "from itertools import combinations\n",
    "import glob\n",
    "from tqdm._tqdm_notebook import tqdm_notebook\n",
    "from ipywidgets import interact"
   ]
  },
  {
   "cell_type": "markdown",
   "metadata": {
    "colab_type": "text",
    "id": "yEGOYRM3yuKV"
   },
   "source": [
    "### Задачи\n",
    "#### 1.  Корреляция метрик центральности. \n",
    "Вычислите коэффициенты корреляции Пирсона, Спирмана и коэффициент ранговой корреляции Кендалла между различными метриками центральности для сети ca-netscience. Какие метрики коррелируют сильнее/слабее. Почему?"
   ]
  },
  {
   "cell_type": "code",
   "execution_count": 2,
   "metadata": {
    "colab": {},
    "colab_type": "code",
    "id": "92C54A-qyuKW"
   },
   "outputs": [],
   "source": [
    "G=nx.read_edgelist('../data/raw/ca-netscience.txt', nodetype=int)"
   ]
  },
  {
   "cell_type": "code",
   "execution_count": 3,
   "metadata": {
    "colab": {},
    "colab_type": "code",
    "id": "Olmdw8QPyuKZ"
   },
   "outputs": [],
   "source": [
    "from scipy.stats.stats import pearsonr\n",
    "from scipy.stats.stats import spearmanr\n",
    "from scipy.stats.stats import kendalltau"
   ]
  },
  {
   "cell_type": "code",
   "execution_count": 5,
   "metadata": {},
   "outputs": [],
   "source": [
    "centralities = {\"d_centr\" : d_centr, \"cl_center\" : cl_centr, \"b_centr\" : b_centr, \"pg_rank\" : pg_rank}\n",
    "pearson = [(pair[0][0], pair[1][0], \n",
    "            pearsonr(pair[0][1], pair[1][1])) \n",
    "           for pair in combinations(centralities.items(), 2)]\n",
    "spearman = [(pair[0][0], pair[1][0], \n",
    "            spearmanr(pair[0][1], pair[1][1])) \n",
    "            for pair in combinations(centralities.items(), 2)]\n",
    "kendallt = [(pair[0][0], pair[1][0], \n",
    "             kendalltau(pair[0][1], pair[1][1])) \n",
    "            for pair in combinations(centralities.items(), 2)]"
   ]
  },
  {
   "cell_type": "code",
   "execution_count": 6,
   "metadata": {},
   "outputs": [
    {
     "data": {
      "text/plain": [
       "[('d_centr', 'cl_center', (0.3468385498308445, 3.738473352365928e-12)),\n",
       " ('d_centr', 'b_centr', (0.6883288078640052, 1.6288949440337164e-54)),\n",
       " ('d_centr', 'pg_rank', (0.9580285791089506, 1.1658804779009453e-206)),\n",
       " ('cl_center', 'b_centr', (0.4302320492333678, 1.6522442144347428e-18)),\n",
       " ('cl_center', 'pg_rank', (0.3666710871557104, 1.6668901216513776e-13)),\n",
       " ('b_centr', 'pg_rank', (0.7503372701075068, 9.267514064349868e-70))]"
      ]
     },
     "execution_count": 6,
     "metadata": {},
     "output_type": "execute_result"
    }
   ],
   "source": [
    "pearson"
   ]
  },
  {
   "cell_type": "code",
   "execution_count": 7,
   "metadata": {},
   "outputs": [
    {
     "data": {
      "text/plain": [
       "[('d_centr',\n",
       "  'cl_center',\n",
       "  SpearmanrResult(correlation=0.21607202543542003, pvalue=2.207456006926487e-05)),\n",
       " ('d_centr',\n",
       "  'b_centr',\n",
       "  SpearmanrResult(correlation=0.6940624160527029, pvalue=9.243593712626446e-56)),\n",
       " ('d_centr',\n",
       "  'pg_rank',\n",
       "  SpearmanrResult(correlation=0.9426702766423645, pvalue=9.053334289175823e-182)),\n",
       " ('cl_center',\n",
       "  'b_centr',\n",
       "  SpearmanrResult(correlation=0.32815809399999457, pvalue=5.7650050502286924e-11)),\n",
       " ('cl_center',\n",
       "  'pg_rank',\n",
       "  SpearmanrResult(correlation=0.1923242779616551, pvalue=0.00016521313189749197)),\n",
       " ('b_centr',\n",
       "  'pg_rank',\n",
       "  SpearmanrResult(correlation=0.7610604749080085, pvalue=7.361576667968014e-73))]"
      ]
     },
     "execution_count": 7,
     "metadata": {},
     "output_type": "execute_result"
    }
   ],
   "source": [
    "spearman"
   ]
  },
  {
   "cell_type": "code",
   "execution_count": 8,
   "metadata": {},
   "outputs": [
    {
     "data": {
      "text/plain": [
       "[('d_centr',\n",
       "  'cl_center',\n",
       "  KendalltauResult(correlation=0.15956158446822052, pvalue=1.2125409819314218e-05)),\n",
       " ('d_centr',\n",
       "  'b_centr',\n",
       "  KendalltauResult(correlation=0.5863723587014148, pvalue=6.005153757968817e-47)),\n",
       " ('d_centr',\n",
       "  'pg_rank',\n",
       "  KendalltauResult(correlation=0.8291713154512923, pvalue=1.2382055458322474e-114)),\n",
       " ('cl_center',\n",
       "  'b_centr',\n",
       "  KendalltauResult(correlation=0.25460569871744615, pvalue=4.098578823728731e-11)),\n",
       " ('cl_center',\n",
       "  'pg_rank',\n",
       "  KendalltauResult(correlation=0.13177111506387817, pvalue=0.0001334884915738705)),\n",
       " ('b_centr',\n",
       "  'pg_rank',\n",
       "  KendalltauResult(correlation=0.6233121225303533, pvalue=7.813905514695115e-59))]"
      ]
     },
     "execution_count": 8,
     "metadata": {},
     "output_type": "execute_result"
    }
   ],
   "source": [
    "kendallt"
   ]
  },
  {
   "cell_type": "markdown",
   "metadata": {
    "colab_type": "text",
    "id": "jID3y_tdyuKd"
   },
   "source": [
    "#### 2. Свойства и моделирование социальной сети. \n",
    " *  Исследуйте свойства социальной сети Facebook (кусочек). Сравните  свойства с рандомизированной сетью.  \n",
    " *  Постройте случайную сеть с тем же числом вершин и числом ребер (подберите соответствующие параметры моделей). Сравните распределение степеней связности, кластеризацию. "
   ]
  },
  {
   "cell_type": "code",
   "execution_count": 9,
   "metadata": {
    "colab": {},
    "colab_type": "code",
    "id": "ncnqZUEcyuKe",
    "outputId": "106a641a-77cb-4144-e255-e162397285d7"
   },
   "outputs": [
    {
     "name": "stdout",
     "output_type": "stream",
     "text": [
      "Number of nodes: 4039\n",
      "Number of edges: 88234\n"
     ]
    }
   ],
   "source": [
    "G_face = nx.read_edgelist('../data/raw/facebook.txt')\n",
    "print(\"Number of nodes: %d\" % nx.number_of_nodes(G_face))\n",
    "print(\"Number of edges: %d\" % nx.number_of_edges(G_face))"
   ]
  },
  {
   "cell_type": "code",
   "execution_count": 10,
   "metadata": {},
   "outputs": [],
   "source": [
    "import random\n",
    "def randomization(G0,steps):\n",
    "    G = G0.copy()\n",
    "    L = list(G.edges()) # получаем список ребер графа\n",
    "    edges = G.number_of_edges() - 1 # число ребер графа - 1 для индексации\n",
    "    st = 0 \n",
    "    while(st<steps):\n",
    "        e1, e2 = random.randint(0, edges), random.randint(0, edges) # генерим два рандомных индекса ребер\n",
    "        (P, Q) = L[e1] # раномное ребро номер один \n",
    "        (R, S) = L[e2] # рандомное ребро номер два\n",
    "        # перелинкуем ребра между двумя парами рандомных вершин\n",
    "        if ((P!=R) and (Q!=S) and(not G.has_edge(P, R)) and(not G.has_edge(Q, S))):\n",
    "            G.remove_edge(R,S) \n",
    "            G.remove_edge(P,Q)\n",
    "            G.add_edge(P,R)\n",
    "            G.add_edge(Q,S)\n",
    "            # запихнем новые ребра в список L ребер графа G\n",
    "            L[e1]=(P,R)\n",
    "            L[e2]=(Q,S)\n",
    "            st=st+1\n",
    "    return(G)"
   ]
  },
  {
   "cell_type": "code",
   "execution_count": 52,
   "metadata": {},
   "outputs": [],
   "source": [
    "G_face_rand = randomization(G_face, 800000)"
   ]
  },
  {
   "cell_type": "code",
   "execution_count": 181,
   "metadata": {
    "scrolled": true
   },
   "outputs": [
    {
     "data": {
      "image/png": "[encoded data removed]",
      "text/plain": [
       "<Figure size 1152x576 with 2 Axes>"
      ]
     },
     "metadata": {
      "needs_background": "light"
     },
     "output_type": "display_data"
    }
   ],
   "source": [
    "w=10\n",
    "h=10\n",
    "fig=plt.figure(figsize=(16, 8))\n",
    "columns = 2\n",
    "rows = 1\n",
    "nets = [(\"Raw\", nx.adjacency_matrix(G_face).todense()), (\"Rand\", nx.adjacency_matrix(G_face_rand).todense())]\n",
    "for i in range(1, columns*rows +1):\n",
    "    fig.add_subplot(rows, columns, i)\n",
    "    plt.imshow(nets[i-1][-1], cmap='binary')\n",
    "    plt.title(nets[i-1][0])\n",
    "plt.show()"
   ]
  },
  {
   "cell_type": "code",
   "execution_count": 44,
   "metadata": {},
   "outputs": [
    {
     "name": "stdout",
     "output_type": "stream",
     "text": [
      "Max degree: 1045\n",
      "Min degree: 1\n",
      "Mean degree: 43.691\n"
     ]
    }
   ],
   "source": [
    "degrees = [d for node, d in G_face.degree()]\n",
    "print(\"Max degree: {}\".format(max(degrees)))\n",
    "print(\"Min degree: {}\".format(min(degrees)))\n",
    "print(\"Mean degree: {}\".format(round(np.mean(degrees), ndigits=3)))"
   ]
  },
  {
   "cell_type": "markdown",
   "metadata": {
    "colab_type": "text",
    "id": "tiPIJIhYyuKj"
   },
   "source": [
    "#### 3. Центральность персонажей в сети games of Thrones \n",
    "\n",
    "Будем изучать метрики центральностей персонажей в книгах \"A Song of Ice and Fire\" (G.R.R. Martin). Два героя связаны ребром, если их имена появляются в тексте на расстоянии не более 15 слов в соответствующей книге. [Данные](https://github.com/mathbeveridge/asoiaf) находятся в открытом доступе для 5 книг.\n",
    "Сеть -- взвешенная, вес ребра определяется числом взаимодействий (упоминаний в тексте)."
   ]
  },
  {
   "cell_type": "code",
   "execution_count": 60,
   "metadata": {
    "colab": {},
    "colab_type": "code",
    "id": "0G94yuTqyuKk"
   },
   "outputs": [
    {
     "data": {
      "application/vnd.jupyter.widget-view+json": {
       "model_id": "710a6b5f156c44b9b6adc442f78ef1ce",
       "version_major": 2,
       "version_minor": 0
      },
      "text/plain": [
       "HBox(children=(IntProgress(value=0, max=5), HTML(value='')))"
      ]
     },
     "metadata": {},
     "output_type": "display_data"
    },
    {
     "name": "stdout",
     "output_type": "stream",
     "text": [
      "\n"
     ]
    }
   ],
   "source": [
    "books = []\n",
    "for path in tqdm_notebook(glob.glob('../data/raw/game_of_thrones_network/*-edges.csv')):\n",
    "    books.append(pd.read_csv(path))"
   ]
  },
  {
   "cell_type": "code",
   "execution_count": 62,
   "metadata": {
    "colab": {},
    "colab_type": "code",
    "id": "fCtprVAGyuK_",
    "outputId": "e2eb0f75-ddf0-4d6c-d173-8cbdc6fcc01f"
   },
   "outputs": [
    {
     "data": {
      "text/html": [
       "<div>\n",
       "<style scoped>\n",
       "    .dataframe tbody tr th:only-of-type {\n",
       "        vertical-align: middle;\n",
       "    }\n",
       "\n",
       "    .dataframe tbody tr th {\n",
       "        vertical-align: top;\n",
       "    }\n",
       "\n",
       "    .dataframe thead th {\n",
       "        text-align: right;\n",
       "    }\n",
       "</style>\n",
       "<table border=\"1\" class=\"dataframe\">\n",
       "  <thead>\n",
       "    <tr style=\"text-align: right;\">\n",
       "      <th></th>\n",
       "      <th>Source</th>\n",
       "      <th>Target</th>\n",
       "      <th>Type</th>\n",
       "      <th>weight</th>\n",
       "      <th>book</th>\n",
       "    </tr>\n",
       "  </thead>\n",
       "  <tbody>\n",
       "    <tr>\n",
       "      <td>0</td>\n",
       "      <td>Addam-Marbrand</td>\n",
       "      <td>Jaime-Lannister</td>\n",
       "      <td>Undirected</td>\n",
       "      <td>3</td>\n",
       "      <td>1</td>\n",
       "    </tr>\n",
       "    <tr>\n",
       "      <td>1</td>\n",
       "      <td>Addam-Marbrand</td>\n",
       "      <td>Tywin-Lannister</td>\n",
       "      <td>Undirected</td>\n",
       "      <td>6</td>\n",
       "      <td>1</td>\n",
       "    </tr>\n",
       "    <tr>\n",
       "      <td>2</td>\n",
       "      <td>Aegon-I-Targaryen</td>\n",
       "      <td>Daenerys-Targaryen</td>\n",
       "      <td>Undirected</td>\n",
       "      <td>5</td>\n",
       "      <td>1</td>\n",
       "    </tr>\n",
       "    <tr>\n",
       "      <td>3</td>\n",
       "      <td>Aegon-I-Targaryen</td>\n",
       "      <td>Eddard-Stark</td>\n",
       "      <td>Undirected</td>\n",
       "      <td>4</td>\n",
       "      <td>1</td>\n",
       "    </tr>\n",
       "    <tr>\n",
       "      <td>4</td>\n",
       "      <td>Aemon-Targaryen-(Maester-Aemon)</td>\n",
       "      <td>Alliser-Thorne</td>\n",
       "      <td>Undirected</td>\n",
       "      <td>4</td>\n",
       "      <td>1</td>\n",
       "    </tr>\n",
       "  </tbody>\n",
       "</table>\n",
       "</div>"
      ],
      "text/plain": [
       "                            Source              Target        Type  weight  \\\n",
       "0                   Addam-Marbrand     Jaime-Lannister  Undirected       3   \n",
       "1                   Addam-Marbrand     Tywin-Lannister  Undirected       6   \n",
       "2                Aegon-I-Targaryen  Daenerys-Targaryen  Undirected       5   \n",
       "3                Aegon-I-Targaryen        Eddard-Stark  Undirected       4   \n",
       "4  Aemon-Targaryen-(Maester-Aemon)      Alliser-Thorne  Undirected       4   \n",
       "\n",
       "   book  \n",
       "0     1  \n",
       "1     1  \n",
       "2     1  \n",
       "3     1  \n",
       "4     1  "
      ]
     },
     "execution_count": 62,
     "metadata": {},
     "output_type": "execute_result"
    }
   ],
   "source": [
    "books[0].head()"
   ]
  },
  {
   "cell_type": "code",
   "execution_count": 99,
   "metadata": {
    "colab": {},
    "colab_type": "code",
    "id": "y-pDwOAEyuLB"
   },
   "outputs": [],
   "source": [
    "graphs = [nx.from_pandas_edgelist(b, 'Source', 'Target', edge_attr=\"weight\", create_using=nx.Graph()) for b in books]"
   ]
  },
  {
   "cell_type": "code",
   "execution_count": 100,
   "metadata": {},
   "outputs": [
    {
     "name": "stdout",
     "output_type": "stream",
     "text": [
      "Number of nodes: 187\n",
      "Number of edges: 684\n"
     ]
    }
   ],
   "source": [
    "print(\"Number of nodes: {}\".format(nx.number_of_nodes(G1)))\n",
    "print(\"Number of edges: {}\".format(nx.number_of_edges(G1)))"
   ]
  },
  {
   "cell_type": "code",
   "execution_count": 88,
   "metadata": {},
   "outputs": [],
   "source": [
    "def draw_(G,pos, metrics):\n",
    "    norm=1000/np.max(metrics)\n",
    "    options = {\n",
    "    'with_labels': False,\n",
    "    'node_color': [v * norm for v in metrics],\n",
    "    'node_size': [v * norm for v in metrics],\n",
    "    'line_color': 'grey',\n",
    "    'linewidths': 1,\n",
    "    'width': 1,\n",
    "    'cmap': 'YlGnBu'\n",
    "    }\n",
    "    nx.draw(G, pos, **options)"
   ]
  },
  {
   "cell_type": "code",
   "execution_count": 101,
   "metadata": {},
   "outputs": [
    {
     "data": {
      "application/vnd.jupyter.widget-view+json": {
       "model_id": "e0e69c5304684dde8c362c572a060bb9",
       "version_major": 2,
       "version_minor": 0
      },
      "text/plain": [
       "interactive(children=(Dropdown(description='i', options=(1, 2, 3, 4, 5), value=1), Output()), _dom_classes=('w…"
      ]
     },
     "metadata": {},
     "output_type": "display_data"
    }
   ],
   "source": [
    "@interact\n",
    "def show_metrics(i = list(range(1, 6))):\n",
    "    g = graphs[i-1]\n",
    "    degrees = [d for n, d in g.degree()]\n",
    "    names = [n for n, d in g.degree()]\n",
    "    print(\"Max degree of {1}: {0}\".format(names[np.argmax(degrees)], max(degrees)))\n",
    "    print(\"Min degree of {1}: {0}\".format(names[np.argmin(degrees)], min(degrees)))\n",
    "    print(\"Mean degree: {}\".format(round(np.mean(degrees), ndigits=3)))"
   ]
  },
  {
   "cell_type": "code",
   "execution_count": 95,
   "metadata": {},
   "outputs": [
    {
     "data": {
      "application/vnd.jupyter.widget-view+json": {
       "model_id": "9bbc88e7a6544ae1beb15e19e1315e80",
       "version_major": 2,
       "version_minor": 0
      },
      "text/plain": [
       "interactive(children=(Dropdown(description='i', options=(1, 2, 3, 4, 5), value=1), Output()), _dom_classes=('w…"
      ]
     },
     "metadata": {},
     "output_type": "display_data"
    }
   ],
   "source": [
    "@interact\n",
    "def show_graph(i=list(range(1,6))):\n",
    "    pos = nx.spring_layout(G1,iterations=10)\n",
    "    draw_(G1, pos, degrees)"
   ]
  },
  {
   "cell_type": "markdown",
   "metadata": {
    "colab_type": "text",
    "id": "_yxEcb_tyuLC"
   },
   "source": [
    "Постройте функцию weighted_degree, учитывающую вес ребер: \n",
    "\n",
    "$$d_{w}^{i}=\\sum_{j} w_{i,j},$$ где $w_{i,j}$ -- вес ребра $(i,j)$ ($w_{i,j}=0$, если нет ребра между вершинами $i$ и $j$).\n",
    "\n",
    "weighted_degree - аналог центральности по степени. Остальные метрики могут быть вычислены во взвешенной сети. \n",
    "Используя различные метрики центральности, проследите как менялась важность персонажа (например, Tyrion-Lannister ) от книги к книге. \n",
    "P.S. Информативнее сравнивать ранг по центральности ( т.е. какое место по значению центральности занимает персонаж в отсортированном списке), а не значение. "
   ]
  },
  {
   "cell_type": "code",
   "execution_count": 136,
   "metadata": {},
   "outputs": [],
   "source": [
    "baelish_idx = np.argwhere([l=='Petyr-Baelish' for l in list(graphs[0].nodes)])[0][0]"
   ]
  },
  {
   "cell_type": "code",
   "execution_count": 169,
   "metadata": {},
   "outputs": [],
   "source": [
    "d_centralities = []\n",
    "cl_centralities = []\n",
    "b_centralities = []\n",
    "pg_ranks = []\n",
    "\n",
    "get_character_rank_by_index = lambda metrics, idx : np.argwhere(np.argsort(metrics)==idx)[0][0]\n",
    "\n",
    "for g in graphs:\n",
    "    d_centr = get_character_rank_by_index(list(nx.degree_centrality(g).values()), baelish_idx) # центральность по степени\n",
    "    cl_centr = get_character_rank_by_index(list(nx.closeness_centrality(g).values()), baelish_idx) # центральность \n",
    "                                                                                                   #по близости\n",
    "    # центральность по посредничеству\n",
    "    b_centr = get_character_rank_by_index(list(nx.betweenness_centrality(g, weight='weight').values()), baelish_idx) \n",
    "    pg_rank = get_character_rank_by_index(list(nx.pagerank(g, weight='weight', alpha=0.75).values()), \n",
    "                                          baelish_idx) # значения page rank \n",
    "    d_centralities.append(d_centr)\n",
    "    cl_centralities.append(cl_centr)\n",
    "    b_centralities.append(b_centr)\n",
    "    pg_ranks.append(pg_rank)"
   ]
  },
  {
   "cell_type": "code",
   "execution_count": 183,
   "metadata": {},
   "outputs": [
    {
     "data": {
      "image/png": "[encoded data removed]",
      "text/plain": [
       "<Figure size 1152x576 with 4 Axes>"
      ]
     },
     "metadata": {
      "needs_background": "light"
     },
     "output_type": "display_data"
    }
   ],
   "source": [
    "metrics_names = [\"Degree centrality\", \"Closeness centrality\", \"Betweenness centrality\", \"Page Rank\"]\n",
    "metrics_lists = [d_centralities, cl_centralities, b_centralities, pg_ranks]\n",
    "plt.figure(figsize=(16, 8))\n",
    "for i in range(4):\n",
    "    plt.subplot(2, 2, i+1)\n",
    "    plt.plot(np.arange(1, 6, dtype=int), metrics_lists[i], 'o-')\n",
    "    plt.ylabel(metrics_names[i] + \" (rank)\")\n",
    "    plt.xticks(ticks=np.arange(1,6))\n",
    "    plt.xlabel('Books')\n",
    "plt.show()"
   ]
  },
  {
   "cell_type": "code",
   "execution_count": 193,
   "metadata": {},
   "outputs": [
    {
     "name": "stdout",
     "output_type": "stream",
     "text": [
      "Degree centrality - Closeness centrality:\n",
      "Pearson: (0.9579122521488818, 0.010299270642042009)\n",
      "SpearmanrResult(correlation=0.8999999999999998, pvalue=0.03738607346849874)\n",
      "KendalltauResult(correlation=0.7999999999999999, pvalue=0.05004352124870513)\n",
      "\n",
      "Degree centrality - Betweenness centrality:\n",
      "Pearson: (0.9138186870085497, 0.029974930501178852)\n",
      "SpearmanrResult(correlation=0.8999999999999998, pvalue=0.03738607346849874)\n",
      "KendalltauResult(correlation=0.7999999999999999, pvalue=0.05004352124870513)\n",
      "\n",
      "Degree centrality - Page Rank:\n",
      "Pearson: (0.9751635693095934, 0.004681047436111339)\n",
      "SpearmanrResult(correlation=0.9999999999999999, pvalue=1.4042654220543672e-24)\n",
      "KendalltauResult(correlation=0.9999999999999999, pvalue=0.014305878435429657)\n",
      "\n",
      "Closeness centrality - Betweenness centrality:\n",
      "Pearson: (0.7873541762370369, 0.11388253188755988)\n",
      "SpearmanrResult(correlation=0.7999999999999999, pvalue=0.10408803866182788)\n",
      "KendalltauResult(correlation=0.6, pvalue=0.1416446902951368)\n",
      "\n",
      "Closeness centrality - Page Rank:\n",
      "Pearson: (0.8924028439898812, 0.04167720801676379)\n",
      "SpearmanrResult(correlation=0.8999999999999998, pvalue=0.03738607346849874)\n",
      "KendalltauResult(correlation=0.7999999999999999, pvalue=0.05004352124870513)\n",
      "\n",
      "Betweenness centrality - Page Rank:\n",
      "Pearson: (0.9537586431537837, 0.011853434989320545)\n",
      "SpearmanrResult(correlation=0.8999999999999998, pvalue=0.03738607346849874)\n",
      "KendalltauResult(correlation=0.7999999999999999, pvalue=0.05004352124870513)\n",
      "\n"
     ]
    }
   ],
   "source": [
    "pairs = list(combinations(zip(metrics_lists, metrics_names), 2))\n",
    "for p in pairs:\n",
    "    print(p[0][1] + \" - \" + p[1][1] + \":\")\n",
    "    print(\"Pearson: {}\".format(pearsonr(p[0][0], p[1][0])))\n",
    "    print(spearmanr(p[0][0], p[1][0]))    \n",
    "    print(kendalltau(p[0][0], p[1][0]))    \n",
    "    print()"
   ]
  }
 ],
 "metadata": {
  "colab": {
   "name": "Intro-net-analysis-Tasks.ipynb",
   "provenance": []
  },
  "kernelspec": {
   "display_name": "Python 3",
   "language": "python",
   "name": "python3"
  },
  "language_info": {
   "codemirror_mode": {
    "name": "ipython",
    "version": 3
   },
   "file_extension": ".py",
   "mimetype": "text/x-python",
   "name": "python",
   "nbconvert_exporter": "python",
   "pygments_lexer": "ipython3",
   "version": "3.7.1"
  },
  "varInspector": {
   "cols": {
    "lenName": 16,
    "lenType": 16,
    "lenVar": 40
   },
   "kernels_config": {
    "python": {
     "delete_cmd_postfix": "",
     "delete_cmd_prefix": "del ",
     "library": "var_list.py",
     "varRefreshCmd": "print(var_dic_list())"
    },
    "r": {
     "delete_cmd_postfix": ") ",
     "delete_cmd_prefix": "rm(",
     "library": "var_list.r",
     "varRefreshCmd": "cat(var_dic_list()) "
    }
   },
   "types_to_exclude": [
    "module",
    "function",
    "builtin_function_or_method",
    "instance",
    "_Feature"
   ],
   "window_display": true
  }
 },
 "nbformat": 4,
 "nbformat_minor": 1
}
