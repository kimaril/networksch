{
 "cells": [
  {
   "cell_type": "markdown",
   "metadata": {
    "colab_type": "text",
    "id": "sMdwajHybM1o"
   },
   "source": [
    "# Задание 02"
   ]
  },
  {
   "cell_type": "code",
   "execution_count": 1,
   "metadata": {
    "colab": {},
    "colab_type": "code",
    "id": "EfNWJ85QbM1t"
   },
   "outputs": [],
   "source": [
    "import numpy as np\n",
    "import matplotlib.pyplot as plt\n",
    "from collections import Counter\n",
    "import networkx as nx\n",
    "from math import ceil\n",
    "from tqdm.notebook import tqdm\n",
    "import pandas as pd\n",
    "import seaborn as sns\n",
    "from ipywidgets import interact\n",
    "%matplotlib inline"
   ]
  },
  {
   "cell_type": "code",
   "execution_count": 2,
   "metadata": {},
   "outputs": [],
   "source": [
    "def eigenvector_centrality(G):\n",
    "    return nx.eigenvector_centrality(G, max_iter=500)"
   ]
  },
  {
   "cell_type": "markdown",
   "metadata": {
    "colab_type": "text",
    "id": "i-2i713lbM1x"
   },
   "source": [
    "Будем изучать важность персонажей в книгах \"A Song of Ice and Fire\" (G.R.R. Martin). Два героя связаны ребром, если их имена появляются в тексте на расстоянии не более 15 слов в соответствующей книге. [Данные](https://github.com/mathbeveridge/asoiaf) находятся в открытом доступе для 5 книг.\n",
    "Сеть $-$ взвешенная, вес ребра определяется числом взаимодействий (упоминаний в тексте)."
   ]
  },
  {
   "cell_type": "code",
   "execution_count": 3,
   "metadata": {
    "colab": {},
    "colab_type": "code",
    "id": "SWH_AxZmbM1y"
   },
   "outputs": [],
   "source": [
    "book1 = pd.read_csv('../data/got/asoiaf-book1-edges.csv')\n",
    "book2 = pd.read_csv('../data/got/asoiaf-book2-edges.csv')\n",
    "book3 = pd.read_csv('../data/got/asoiaf-book3-edges.csv')\n",
    "book4 = pd.read_csv('../data/got/asoiaf-book4-edges.csv')\n",
    "book5 = pd.read_csv('../data/got/asoiaf-book5-edges.csv')"
   ]
  },
  {
   "cell_type": "code",
   "execution_count": 4,
   "metadata": {
    "colab": {},
    "colab_type": "code",
    "id": "-Adm5DaibM12",
    "outputId": "95633f1e-7782-44df-bce8-f557faa12db6",
    "scrolled": true
   },
   "outputs": [
    {
     "data": {
      "text/html": [
       "<div>\n",
       "<style scoped>\n",
       "    .dataframe tbody tr th:only-of-type {\n",
       "        vertical-align: middle;\n",
       "    }\n",
       "\n",
       "    .dataframe tbody tr th {\n",
       "        vertical-align: top;\n",
       "    }\n",
       "\n",
       "    .dataframe thead th {\n",
       "        text-align: right;\n",
       "    }\n",
       "</style>\n",
       "<table border=\"1\" class=\"dataframe\">\n",
       "  <thead>\n",
       "    <tr style=\"text-align: right;\">\n",
       "      <th></th>\n",
       "      <th>Source</th>\n",
       "      <th>Target</th>\n",
       "      <th>Type</th>\n",
       "      <th>weight</th>\n",
       "      <th>book</th>\n",
       "    </tr>\n",
       "  </thead>\n",
       "  <tbody>\n",
       "    <tr>\n",
       "      <th>0</th>\n",
       "      <td>Aegon-I-Targaryen</td>\n",
       "      <td>Daenerys-Targaryen</td>\n",
       "      <td>undirected</td>\n",
       "      <td>4</td>\n",
       "      <td>5</td>\n",
       "    </tr>\n",
       "    <tr>\n",
       "      <th>1</th>\n",
       "      <td>Aegon-Targaryen-(son-of-Rhaegar)</td>\n",
       "      <td>Daenerys-Targaryen</td>\n",
       "      <td>undirected</td>\n",
       "      <td>11</td>\n",
       "      <td>5</td>\n",
       "    </tr>\n",
       "    <tr>\n",
       "      <th>2</th>\n",
       "      <td>Aegon-Targaryen-(son-of-Rhaegar)</td>\n",
       "      <td>Elia-Martell</td>\n",
       "      <td>undirected</td>\n",
       "      <td>4</td>\n",
       "      <td>5</td>\n",
       "    </tr>\n",
       "    <tr>\n",
       "      <th>3</th>\n",
       "      <td>Aegon-Targaryen-(son-of-Rhaegar)</td>\n",
       "      <td>Franklyn-Flowers</td>\n",
       "      <td>undirected</td>\n",
       "      <td>3</td>\n",
       "      <td>5</td>\n",
       "    </tr>\n",
       "    <tr>\n",
       "      <th>4</th>\n",
       "      <td>Aegon-Targaryen-(son-of-Rhaegar)</td>\n",
       "      <td>Haldon</td>\n",
       "      <td>undirected</td>\n",
       "      <td>14</td>\n",
       "      <td>5</td>\n",
       "    </tr>\n",
       "  </tbody>\n",
       "</table>\n",
       "</div>"
      ],
      "text/plain": [
       "                             Source              Target        Type  weight  \\\n",
       "0                 Aegon-I-Targaryen  Daenerys-Targaryen  undirected       4   \n",
       "1  Aegon-Targaryen-(son-of-Rhaegar)  Daenerys-Targaryen  undirected      11   \n",
       "2  Aegon-Targaryen-(son-of-Rhaegar)        Elia-Martell  undirected       4   \n",
       "3  Aegon-Targaryen-(son-of-Rhaegar)    Franklyn-Flowers  undirected       3   \n",
       "4  Aegon-Targaryen-(son-of-Rhaegar)              Haldon  undirected      14   \n",
       "\n",
       "   book  \n",
       "0     5  \n",
       "1     5  \n",
       "2     5  \n",
       "3     5  \n",
       "4     5  "
      ]
     },
     "execution_count": 4,
     "metadata": {},
     "output_type": "execute_result"
    }
   ],
   "source": [
    "book5.head()"
   ]
  },
  {
   "cell_type": "code",
   "execution_count": 5,
   "metadata": {
    "colab": {},
    "colab_type": "code",
    "id": "QE_nQtPybM17"
   },
   "outputs": [],
   "source": [
    "G1 = nx.from_pandas_edgelist(book1,'Source', 'Target', edge_attr=True, create_using=nx.Graph())"
   ]
  },
  {
   "cell_type": "code",
   "execution_count": 6,
   "metadata": {
    "colab": {},
    "colab_type": "code",
    "id": "QE_nQtPybM17"
   },
   "outputs": [],
   "source": [
    "G2 = nx.from_pandas_edgelist(book2,'Source', 'Target', edge_attr=True, create_using=nx.Graph())"
   ]
  },
  {
   "cell_type": "code",
   "execution_count": 7,
   "metadata": {
    "colab": {},
    "colab_type": "code",
    "id": "QE_nQtPybM17"
   },
   "outputs": [],
   "source": [
    "G3 = nx.from_pandas_edgelist(book3,'Source', 'Target', edge_attr=True, create_using=nx.Graph())"
   ]
  },
  {
   "cell_type": "code",
   "execution_count": 8,
   "metadata": {
    "colab": {},
    "colab_type": "code",
    "id": "QE_nQtPybM17"
   },
   "outputs": [],
   "source": [
    "G4 = nx.from_pandas_edgelist(book4,'Source', 'Target', edge_attr=True, create_using=nx.Graph())"
   ]
  },
  {
   "cell_type": "code",
   "execution_count": 9,
   "metadata": {
    "colab": {},
    "colab_type": "code",
    "id": "dFrcLzNTbM2b"
   },
   "outputs": [],
   "source": [
    "G5 = nx.from_pandas_edgelist(book5,'Source', 'Target', edge_attr=True, create_using=nx.Graph())"
   ]
  },
  {
   "cell_type": "code",
   "execution_count": 10,
   "metadata": {},
   "outputs": [],
   "source": [
    "graphs = [G1, G2, G3, G4, G5]"
   ]
  },
  {
   "cell_type": "markdown",
   "metadata": {
    "colab_type": "text",
    "id": "j7OKP2dLbM16"
   },
   "source": [
    "#### Постройте сеть персонажей по первой книге. "
   ]
  },
  {
   "cell_type": "code",
   "execution_count": 11,
   "metadata": {
    "colab": {},
    "colab_type": "code",
    "id": "lh-JlllfbM1_",
    "outputId": "5833194f-771b-4b4d-d64c-27f386c3c4ec"
   },
   "outputs": [
    {
     "name": "stdout",
     "output_type": "stream",
     "text": [
      "('Jaime-Lannister', 'Loras-Tyrell', {'Source': 'Jaime-Lannister', 'Target': 'Loras-Tyrell', 'Type': 'Undirected', 'weight': 3, 'book': 1})\n"
     ]
    }
   ],
   "source": [
    "print(list(G1.edges(data=True))[16]) # ребро в сети"
   ]
  },
  {
   "cell_type": "code",
   "execution_count": 12,
   "metadata": {},
   "outputs": [],
   "source": [
    "def getTop(G, centrality, n=10):\n",
    "    return {k:v for k, v in sorted(centrality(G).items(), key=lambda x:x[-1], reverse=True)[:n]}"
   ]
  },
  {
   "cell_type": "markdown",
   "metadata": {
    "colab_type": "text",
    "id": "s57P-FanbM2C"
   },
   "source": [
    "#### 1.  Определите топ-10 персонажей по значению центральности по степени. Сколько среди них Старков? "
   ]
  },
  {
   "cell_type": "code",
   "execution_count": 13,
   "metadata": {
    "colab": {},
    "colab_type": "code",
    "id": "uv4uA7FsbM2D"
   },
   "outputs": [],
   "source": [
    "top10_degree_centrality = getTop(G1, nx.degree_centrality)"
   ]
  },
  {
   "cell_type": "code",
   "execution_count": 14,
   "metadata": {},
   "outputs": [
    {
     "name": "stdout",
     "output_type": "stream",
     "text": [
      "Num. of Starks in top-10: 5\n"
     ]
    }
   ],
   "source": [
    "print('Num. of Starks in top-10: {}'.format(sum(['stark' in n.lower() for n,c \n",
    "                                                 in top10_degree_centrality.items()])))"
   ]
  },
  {
   "cell_type": "markdown",
   "metadata": {
    "colab_type": "text",
    "id": "OH0-n6OrbM2G"
   },
   "source": [
    "#### 2. Постройте функцию weighted_degree, учитывающую вес ребер: \n",
    "\n",
    "$$d_{w}^{i}=\\sum_{j} w_{i,j},$$ где $w_{i,j}$ -- вес ребра $(i,j)$ ($w_{i,j}=0$, если нет ребра между вершинами $i$ и $j$).\n",
    "\n",
    "#### Какое значение взвешенной степени у Eddard-Stark в сети?"
   ]
  },
  {
   "cell_type": "code",
   "execution_count": 15,
   "metadata": {},
   "outputs": [],
   "source": [
    "def weighted_degree(G, node=None):\n",
    "    if node:\n",
    "        edges = G.edges(node)\n",
    "        wd = sum(G.get_edge_data(u, v)['weight'] for u, v in edges)\n",
    "        return wd\n",
    "    else:\n",
    "        return {n:weighted_degree(G, n) for n in G.nodes()}"
   ]
  },
  {
   "cell_type": "code",
   "execution_count": 16,
   "metadata": {},
   "outputs": [
    {
     "name": "stdout",
     "output_type": "stream",
     "text": [
      "Eddard Stark weighted degree: 1284\n"
     ]
    }
   ],
   "source": [
    "print('Eddard Stark weighted degree: {}'.format(weighted_degree(G1, 'Eddard-Stark')))"
   ]
  },
  {
   "cell_type": "markdown",
   "metadata": {
    "colab_type": "text",
    "id": "3XpByrNjbM2K"
   },
   "source": [
    "#### 3. Сколько персонажей из топ-10, определенным по центральности по степени (из вопроса 1) осталось в топ-10 по взвешенной степени ? "
   ]
  },
  {
   "cell_type": "code",
   "execution_count": 17,
   "metadata": {
    "colab": {},
    "colab_type": "code",
    "id": "o7sfmz1MbM2M"
   },
   "outputs": [],
   "source": [
    "top10_weighted_degree = getTop(G1, weighted_degree)"
   ]
  },
  {
   "cell_type": "code",
   "execution_count": 18,
   "metadata": {},
   "outputs": [
    {
     "name": "stdout",
     "output_type": "stream",
     "text": [
      "Answer: 8\n"
     ]
    }
   ],
   "source": [
    "print('Answer: {}'.format(len(set(top10_weighted_degree.keys()).intersection(top10_degree_centrality.keys()))))"
   ]
  },
  {
   "cell_type": "markdown",
   "metadata": {
    "colab_type": "text",
    "id": "3sdY1B07bM2P"
   },
   "source": [
    "#### 4.  Постройте топ-10 персонажей  по значению центральности по посредничеству. \n",
    "Сравните с топ-10 по степени и по взвешенной степени. "
   ]
  },
  {
   "cell_type": "code",
   "execution_count": 19,
   "metadata": {},
   "outputs": [],
   "source": [
    "top10_betweenness = getTop(G1, nx.betweenness_centrality)"
   ]
  },
  {
   "cell_type": "code",
   "execution_count": 20,
   "metadata": {},
   "outputs": [
    {
     "data": {
      "text/plain": [
       "{'Eddard-Stark': 0.2696038913836117,\n",
       " 'Robert-Baratheon': 0.21403028397371796,\n",
       " 'Tyrion-Lannister': 0.1902124972697492,\n",
       " 'Jon-Snow': 0.17158135899829566,\n",
       " 'Catelyn-Stark': 0.1513952715347627,\n",
       " 'Daenerys-Targaryen': 0.08627015537511595,\n",
       " 'Robb-Stark': 0.07298399629664767,\n",
       " 'Drogo': 0.06481224290874964,\n",
       " 'Bran-Stark': 0.05579958811784442,\n",
       " 'Sansa-Stark': 0.03714483664326785}"
      ]
     },
     "execution_count": 20,
     "metadata": {},
     "output_type": "execute_result"
    }
   ],
   "source": [
    "top10_betweenness"
   ]
  },
  {
   "cell_type": "markdown",
   "metadata": {
    "colab_type": "text",
    "id": "3sdY1B07bM2P"
   },
   "source": [
    "#### Какой новый персонаж появился в рейтинге?"
   ]
  },
  {
   "cell_type": "code",
   "execution_count": 21,
   "metadata": {
    "colab": {},
    "colab_type": "code",
    "id": "t5ZpXbbNbM2P"
   },
   "outputs": [
    {
     "name": "stdout",
     "output_type": "stream",
     "text": [
      "Answer: Drogo\n"
     ]
    }
   ],
   "source": [
    "new_character = set(top10_betweenness.keys()).difference(top10_degree_centrality.keys()).\\\n",
    "                difference(top10_weighted_degree)\n",
    "print('Answer: {}'.format(new_character.pop()))"
   ]
  },
  {
   "cell_type": "markdown",
   "metadata": {
    "colab_type": "text",
    "id": "v9qLfJU6bM2S"
   },
   "source": [
    "#### 5. Постройте топ-10 персонажей по значению центральности по посредничеству с учетом веса ребер. Кто теперь возглавляет список? "
   ]
  },
  {
   "cell_type": "code",
   "execution_count": 22,
   "metadata": {
    "colab": {},
    "colab_type": "code",
    "id": "jmkVZc04bM2T"
   },
   "outputs": [],
   "source": [
    "weighted_betweenness_centrality = lambda G : nx.betweenness_centrality(G, weight='weight')"
   ]
  },
  {
   "cell_type": "code",
   "execution_count": 23,
   "metadata": {},
   "outputs": [
    {
     "data": {
      "text/plain": [
       "{'Robert-Baratheon': 0.23341885664466297,\n",
       " 'Eddard-Stark': 0.18703429235687297,\n",
       " 'Tyrion-Lannister': 0.15311225972516293,\n",
       " 'Robb-Stark': 0.1024018949825402,\n",
       " 'Catelyn-Stark': 0.10169012330302643,\n",
       " 'Jon-Snow': 0.09027684366394043,\n",
       " 'Jaime-Lannister': 0.07745109164464009,\n",
       " 'Rodrik-Cassel': 0.07667992877670296,\n",
       " 'Drogo': 0.06894355184677767,\n",
       " 'Jorah-Mormont': 0.0627085149665795}"
      ]
     },
     "execution_count": 23,
     "metadata": {},
     "output_type": "execute_result"
    }
   ],
   "source": [
    "getTop(G1, weighted_betweenness_centrality)"
   ]
  },
  {
   "cell_type": "code",
   "execution_count": 24,
   "metadata": {},
   "outputs": [
    {
     "name": "stdout",
     "output_type": "stream",
     "text": [
      "{'Robert-Baratheon': 0.23341885664466297}\n"
     ]
    }
   ],
   "source": [
    "print(getTop(G1, weighted_betweenness_centrality, 1))"
   ]
  },
  {
   "cell_type": "markdown",
   "metadata": {
    "colab_type": "text",
    "id": "xo5E2qwqbM2W"
   },
   "source": [
    "####  6. Постройте топ-10 по значению PageRank (по умолчанию учитываются веса ребер). Какое место в топе  занимает Daenerys-Targaryen?"
   ]
  },
  {
   "cell_type": "code",
   "execution_count": 25,
   "metadata": {
    "colab": {},
    "colab_type": "code",
    "id": "s1j3m88EbM2X"
   },
   "outputs": [],
   "source": [
    "top10_pagerank = getTop(G1, nx.pagerank)"
   ]
  },
  {
   "cell_type": "code",
   "execution_count": 26,
   "metadata": {},
   "outputs": [
    {
     "name": "stdout",
     "output_type": "stream",
     "text": [
      "Answer: 8\n"
     ]
    }
   ],
   "source": [
    "for e, n in enumerate(top10_pagerank, 1):\n",
    "    if n=='Daenerys-Targaryen':\n",
    "        print('Answer: {}'.format(e))"
   ]
  },
  {
   "cell_type": "markdown",
   "metadata": {
    "colab_type": "text",
    "id": "YfPuLzI_bM2a"
   },
   "source": [
    "#### 7. Постройте рейтинг по значению центральности по степени для персонажей 5-ой книги. Какую теперь наивысшую строчку рейтинга занимает персонаж из Дома Старков?  "
   ]
  },
  {
   "cell_type": "code",
   "execution_count": 27,
   "metadata": {},
   "outputs": [],
   "source": [
    "stark5 = list(filter(lambda x : 'stark' in x[-1].lower(), \n",
    "                     enumerate(getTop(G5, nx.degree_centrality, n=None), 1)))"
   ]
  },
  {
   "cell_type": "code",
   "execution_count": 28,
   "metadata": {},
   "outputs": [
    {
     "name": "stdout",
     "output_type": "stream",
     "text": [
      "Answer: 21 place, Eddard-Stark\n"
     ]
    }
   ],
   "source": [
    "print('Answer: {} place, {}'.format(*stark5[0]))"
   ]
  },
  {
   "cell_type": "markdown",
   "metadata": {
    "colab_type": "text",
    "id": "QHNPmXrlbM2e"
   },
   "source": [
    "#### 8.  Выберите персонажа и постройте график, показывающий как менялась его влиятельность от номера книги. "
   ]
  },
  {
   "cell_type": "code",
   "execution_count": 29,
   "metadata": {},
   "outputs": [],
   "source": [
    "def getRank(G, centrality, character=None):\n",
    "    if character:\n",
    "        return list(filter(lambda x : x[-1]==character, enumerate(getTop(G, centrality, n=None), 1)))[0][0]\n",
    "    else:\n",
    "        return {k:i for i, (k, v) in enumerate(getTop(G, centrality, n=None).items(), 1)}\n",
    "\n",
    "def getCharacterCentralities(G, character=None):\n",
    "    if character:\n",
    "        return {'degree' : getRank(G, nx.degree_centrality, character), \n",
    "                'weighted_degree' : getRank(G, weighted_degree, character), \n",
    "                'eigenvector' : getRank(G, eigenvector_centrality, character),\n",
    "                'closeness' : getRank(G, nx.closeness_centrality, character),\n",
    "                'betweenness' : getRank(G, nx.betweenness_centrality, character),\n",
    "                'weighted_betweenness' : getRank(G, nx.betweenness_centrality, character),\n",
    "                'pagerank' : getRank(G, nx.pagerank, character)}\n",
    "    else:\n",
    "        return {'degree' : getRank(G, nx.degree_centrality), \n",
    "                'weighted_degree' : getRank(G, weighted_degree), \n",
    "                'eigenvector' : getRank(G, eigenvector_centrality),\n",
    "                'closeness' : getRank(G, nx.closeness_centrality),\n",
    "                'betweenness' : getRank(G, nx.betweenness_centrality),\n",
    "                'weighted_betweenness' : getRank(G, nx.betweenness_centrality),\n",
    "                'pagerank' : getRank(G, nx.pagerank)}\n",
    "def evolve(character, graphs, verbose=False):\n",
    "    evolution = []\n",
    "    if verbose:\n",
    "        itGraphs = tqdm(graphs)\n",
    "    else:\n",
    "        itGraphs = graphs\n",
    "    for G in itGraphs:\n",
    "        evolution.append(getCharacterCentralities(G, character))\n",
    "    return pd.DataFrame(evolution, index=[1, 2, 3, 4, 5])\n",
    "\n",
    "def plotSignificance(character, graphs, verbose=False):\n",
    "    df = evolve(character, graphs, verbose=verbose)*-1\n",
    "    # specify seaborn palette for plot\n",
    "    pal = sns.cubehelix_palette(df.shape[-1], reverse=False)\n",
    "    # plot\n",
    "    plot = sns.lineplot(data=df, markers=True, dashes=False, palette=pal)\n",
    "    name = \" \".join(character.split('-'))\n",
    "    title = 'Significance of {} through 5 books'.format(name)\n",
    "    yticks = plt.yticks()[0]\n",
    "    yticks = np.insert(arr=yticks[yticks < 0].astype(int), obj=0, values=[-1])\n",
    "    plt.yticks(ticks=yticks, labels=yticks*-1)\n",
    "    plt.xticks([1, 2, 3, 4, 5])\n",
    "    plt.xlabel('Books')\n",
    "    plt.ylabel('Centrality Rank')\n",
    "    plot.set_title(title)\n",
    "    return plot\n",
    "\n",
    "def plotCharactersEvolution(characters : list, verbose=False):\n",
    "    nrows = ceil(len(characters)/2)\n",
    "    ncols = len(characters)%2+2\n",
    "    fig, axis = plt.subplots(nrows=nrows, ncols=ncols, figsize=(20, 6))\n",
    "\n",
    "    for ax, character in zip(axis, characters):\n",
    "        fig.add_subplot(ax, plotSignificance(character, graphs, verbose=verbose))\n",
    "\n",
    "    plt.show()"
   ]
  },
  {
   "cell_type": "markdown",
   "metadata": {
    "colab_type": "text",
    "id": "sMdwajHybM1o"
   },
   "source": [
    "<center>State-of-the-art fanfiction analytics presents</center>\n",
    "<img src=https://vignette.wikia.nocookie.net/gameofthrones/images/4/4b/Littlefinger-sansa_kiss.png/revision/latest?cb=20160826000012 width=\"400\">"
   ]
  },
  {
   "cell_type": "code",
   "execution_count": 30,
   "metadata": {},
   "outputs": [
    {
     "data": {
      "image/png": "[encoded data removed]",
      "text/plain": [
       "<Figure size 1440x432 with 2 Axes>"
      ]
     },
     "metadata": {
      "needs_background": "light"
     },
     "output_type": "display_data"
    }
   ],
   "source": [
    "plotCharactersEvolution(characters=['Petyr-Baelish', 'Sansa-Stark'], verbose=False)"
   ]
  },
  {
   "cell_type": "markdown",
   "metadata": {},
   "source": [
    "#### 9. Кто из персонажей самый влиятельный? \n",
    "Постройте сеть, объединяющую сети по всем книгам. Постройте таблицу наиболее влиятельных персонажей в зависимости от выбранной метрики."
   ]
  },
  {
   "cell_type": "code",
   "execution_count": 31,
   "metadata": {},
   "outputs": [],
   "source": [
    "G_all = nx.compose_all(graphs)"
   ]
  },
  {
   "cell_type": "code",
   "execution_count": 32,
   "metadata": {},
   "outputs": [],
   "source": [
    "totalCentralities = getCharacterCentralities(G_all)\n",
    "df = pd.DataFrame(totalCentralities)"
   ]
  },
  {
   "cell_type": "code",
   "execution_count": 33,
   "metadata": {},
   "outputs": [],
   "source": [
    "df.index = df.index.map(lambda x : ' '.join(x.split('-')))"
   ]
  },
  {
   "cell_type": "code",
   "execution_count": 34,
   "metadata": {
    "scrolled": false
   },
   "outputs": [
    {
     "data": {
      "application/vnd.jupyter.widget-view+json": {
       "model_id": "971d0a614322441aa80dc241675cd2ec",
       "version_major": 2,
       "version_minor": 0
      },
      "text/plain": [
       "interactive(children=(Dropdown(description='col', options=('degree', 'weighted_degree', 'eigenvector', 'closen…"
      ]
     },
     "metadata": {},
     "output_type": "display_data"
    }
   ],
   "source": [
    "@interact\n",
    "def showTop10(col=df.columns, topn=(1, 30)):\n",
    "    return df.sort_values(by=col, ascending=True).head(topn)"
   ]
  }
 ],
 "metadata": {
  "colab": {
   "name": "NS Assignment 02.ipynb",
   "provenance": []
  },
  "kernelspec": {
   "display_name": "networksch",
   "language": "python",
   "name": "networksch"
  },
  "language_info": {
   "codemirror_mode": {
    "name": "ipython",
    "version": 3
   },
   "file_extension": ".py",
   "mimetype": "text/x-python",
   "name": "python",
   "nbconvert_exporter": "python",
   "pygments_lexer": "ipython3",
   "version": "3.6.9"
  },
  "latex_envs": {
   "LaTeX_envs_menu_present": true,
   "autoclose": false,
   "autocomplete": true,
   "bibliofile": "biblio.bib",
   "cite_by": "apalike",
   "current_citInitial": 1,
   "eqLabelWithNumbers": true,
   "eqNumInitial": 1,
   "hotkeys": {
    "equation": "Ctrl-E",
    "itemize": "Ctrl-I"
   },
   "labels_anchors": false,
   "latex_user_defs": false,
   "report_style_numbering": false,
   "user_envs_cfg": false
  }
 },
 "nbformat": 4,
 "nbformat_minor": 1
}
