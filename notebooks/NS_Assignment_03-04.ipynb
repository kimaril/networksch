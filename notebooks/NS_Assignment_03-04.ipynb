{
 "cells": [
  {
   "cell_type": "markdown",
   "metadata": {
    "colab_type": "text",
    "id": "f02BQxJBlopC"
   },
   "source": [
    "# Задание 03-04"
   ]
  },
  {
   "cell_type": "code",
   "execution_count": 1,
   "metadata": {
    "colab": {},
    "colab_type": "code",
    "id": "ul7RMKT8lopF"
   },
   "outputs": [],
   "source": [
    "import numpy as np\n",
    "from ipywidgets import interact\n",
    "import random\n",
    "from tqdm.notebook import tqdm\n",
    "import re\n",
    "import os\n",
    "import glob\n",
    "import matplotlib.pyplot as plt\n",
    "import pandas as pd\n",
    "import networkx as nx\n",
    "import seaborn as sns\n",
    "\n",
    "%matplotlib inline"
   ]
  },
  {
   "cell_type": "markdown",
   "metadata": {
    "colab_type": "text",
    "id": "xtZZaKJrlopJ"
   },
   "source": [
    "### Задача 1.  Эволюция графа Эрдеша-Реньи и фазовый переход\n",
    "Напишите программу эволюции случайного графа Эрдеша-Реньи $G(N,t)$: \n",
    "* создайте пустой граф с $N$ вершинами,\n",
    "* добавляйте случайным образом ребра по одному,\n",
    "* при каждом добавлении вычисляйте (и записывайте) размер гигантской компоненты;\n",
    "* постройте зависимость размера гигантской компоненты (число вершин, входящих в $GC$) от времени $t$. Видите ли вы рождение гигантской компоненты? При каком $t$ (числе ребер) он происходит?\n",
    "\n",
    "$N=500,t_{max}=500.$ "
   ]
  },
  {
   "cell_type": "code",
   "execution_count": 2,
   "metadata": {},
   "outputs": [],
   "source": [
    "N, t_max = 500, 500"
   ]
  },
  {
   "cell_type": "code",
   "execution_count": 3,
   "metadata": {},
   "outputs": [],
   "source": [
    "def ER_graph(N, t):\n",
    "    G = nx.Graph(np.zeros(shape=(N,N), dtype=int))\n",
    "    nodes = list(G.nodes())\n",
    "    GC_size = []\n",
    "    for i in range(t):\n",
    "        edge = random.sample(nodes, 2)\n",
    "        G.add_edge(*edge)\n",
    "        GC = max(nx.connected_components(G), key=len)\n",
    "        GC_size.append(len(GC))        \n",
    "    return G, GC_size"
   ]
  },
  {
   "cell_type": "code",
   "execution_count": 4,
   "metadata": {
    "scrolled": true
   },
   "outputs": [
    {
     "name": "stdout",
     "output_type": "stream",
     "text": [
      "Number of nodes (appr.) at which Giant Component is born: 240\n"
     ]
    }
   ],
   "source": [
    "G, GC_size = ER_graph(N, t_max)\n",
    "\n",
    "t_born = np.diff(GC_size).argmax()+1\n",
    "s_born = GC_size[t_born]\n",
    "print('Number of nodes (appr.) at which Giant Component is born: {}'.format(t_born))"
   ]
  },
  {
   "cell_type": "code",
   "execution_count": 5,
   "metadata": {
    "scrolled": false
   },
   "outputs": [
    {
     "data": {
      "image/png": "[encoded data removed]",
      "text/plain": [
       "<Figure size 1296x648 with 1 Axes>"
      ]
     },
     "metadata": {
      "needs_background": "light"
     },
     "output_type": "display_data"
    }
   ],
   "source": [
    "fig = plt.figure(figsize=(18, 9))\n",
    "sns.set(style=\"darkgrid\")\n",
    "pal = sns.palettes.cubehelix_palette(2, light=0.5)\n",
    "sns.lineplot(range(t_max), GC_size, color=pal[0])\n",
    "sns.scatterplot(x=[t_born], y=[s_born], style=['GC born'], markers=[\"*\"], s=[320], color=pal[-1])\n",
    "plt.title('Giant Component Evolution')\n",
    "plt.xlabel('Number of edges') \n",
    "plt.ylabel('GC size')\n",
    "plt.savefig('Kim_1.png')\n",
    "plt.show()"
   ]
  },
  {
   "cell_type": "markdown",
   "metadata": {},
   "source": [
    "For $p=p_{c}={\\frac {1}{n}}$\n",
    "[...] the number of vertices in the largest component of the graph is with high probability proportional to $n^{2/3}$."
   ]
  },
  {
   "cell_type": "markdown",
   "metadata": {
    "colab_type": "text",
    "id": "lLFn3x9FlopL"
   },
   "source": [
    "### Задача 2. Малый мир сложных сетей.  \n",
    "\n",
    "* напишите функцию, оценивающую средний кратчайший путь в сети: для $M$ случайно выбранных пар вершин вычислите длины кратчайших путей и посчитайте среднее значение на этой выборке;\n"
   ]
  },
  {
   "cell_type": "code",
   "execution_count": 6,
   "metadata": {
    "colab": {},
    "colab_type": "code",
    "id": "wJRlZFhxlopM"
   },
   "outputs": [],
   "source": [
    "def estimated_average_path(G, M):\n",
    "    N = G.number_of_nodes()\n",
    "     \n",
    "    paths = []\n",
    "    nodes = list(G.nodes())\n",
    "    u, v = random.sample(nodes, 2)\n",
    "    for i in range(M):\n",
    "        while not nx.has_path(G, u, v):\n",
    "            u, v = random.sample(nodes, 2)\n",
    "        paths.append(nx.shortest_path_length(G, u, v))\n",
    "    return np.mean(paths)"
   ]
  },
  {
   "cell_type": "code",
   "execution_count": 7,
   "metadata": {},
   "outputs": [
    {
     "name": "stdout",
     "output_type": "stream",
     "text": [
      "Estimated average path length: 6.0\n"
     ]
    }
   ],
   "source": [
    "print('Estimated average path length: {}'.format(estimated_average_path(G, 1000)))"
   ]
  },
  {
   "cell_type": "markdown",
   "metadata": {
    "colab_type": "text",
    "id": "KgOmYBwKlopP"
   },
   "source": [
    "* напишите функцию, определяющую меру малого мира сети [$\\bf\\sigma$](https://journals.plos.org/plosone/article?id=10.1371/journal.pone.0002051):\n",
    "$$\n",
    "\\sigma=\\frac{C/C_r}{L/L_r},\n",
    "$$\n",
    "где $C$ и $C_r$ - коэффициенты кластеризации сети и случайного графа Эрдеша-Реньи с теми же параметрами ($N,<k>$),что и в изучаемой сети, и $L$, $L_r$ - значения cреднего кратчайшего пути сети и случайного графа Эрдеша-Реньи. Значения характеристик для случайного графа вычислите аналитически:\n",
    "\n",
    "$$\n",
    "C_r(N,k)=\\frac{<k>}{N},\n",
    "$$\n",
    "[$$\n",
    "L_r(N,k)=\\frac{\\ln N-\\gamma}{\\ln <k>}+\\frac{1}{2},\n",
    "$$](https://arxiv.org/abs/cond-mat/0212230)\n",
    "где $\\gamma \\approx 0.5772$ - [константа Эйлера](https://ru.wikipedia.org/wiki/%D0%9F%D0%BE%D1%81%D1%82%D0%BE%D1%8F%D0%BD%D0%BD%D0%B0%D1%8F_%D0%AD%D0%B9%D0%BB%D0%B5%D1%80%D0%B0_%E2%80%94_%D0%9C%D0%B0%D1%81%D0%BA%D0%B5%D1%80%D0%BE%D0%BD%D0%B8). \n",
    "\n"
   ]
  },
  {
   "cell_type": "code",
   "execution_count": 8,
   "metadata": {},
   "outputs": [],
   "source": [
    "def listDegrees(G):\n",
    "    return [d for n, d in G.degree()]\n",
    "eulers_gamma = 0.5772"
   ]
  },
  {
   "cell_type": "code",
   "execution_count": 9,
   "metadata": {
    "colab": {},
    "colab_type": "code",
    "id": "dGcmRenJlopQ"
   },
   "outputs": [],
   "source": [
    "def small_world_coef(G): \n",
    "    N = G.number_of_nodes()\n",
    "    k = np.mean(listDegrees(G))\n",
    "    \n",
    "    L = estimated_average_path(G, 1000)\n",
    "    Lr = (np.log(N) - eulers_gamma)/np.log(k) + 0.5\n",
    "    \n",
    "    C = nx.average_clustering(G)\n",
    "    Cr = k/N\n",
    "    sigma = (C/Cr) / (L/Lr)\n",
    "    \n",
    "    return sigma"
   ]
  },
  {
   "cell_type": "markdown",
   "metadata": {
    "colab_type": "text",
    "id": "HWJ8cEp_lopU"
   },
   "source": [
    "* для заданных сетей оцените средний кратчайший путь в сети, сравните это значение с $\\ln N$ и вычислите меру малого мира $\\sigma$, результаты представьте в таблице:"
   ]
  },
  {
   "cell_type": "code",
   "execution_count": 10,
   "metadata": {},
   "outputs": [],
   "source": [
    "def parseEdgelist(path):\n",
    "    with open(path, mode='r') as f:\n",
    "        if len(f.readline().split())==2:\n",
    "            lines = [l.split() for l in f.readlines()]\n",
    "        else:\n",
    "            lines = [[s.strip() for s in re.split('[,\\t]', l)] for l in f.readlines()]\n",
    "    return nx.from_edgelist(lines)"
   ]
  },
  {
   "cell_type": "code",
   "execution_count": 11,
   "metadata": {
    "colab": {},
    "colab_type": "code",
    "id": "x6SyRKlplopY"
   },
   "outputs": [
    {
     "data": {
      "application/vnd.jupyter.widget-view+json": {
       "model_id": "83e2445151ce4ec9b76f7ff997765aa6",
       "version_major": 2,
       "version_minor": 0
      },
      "text/plain": [
       "HBox(children=(FloatProgress(value=0.0, max=6.0), HTML(value='')))"
      ]
     },
     "metadata": {},
     "output_type": "display_data"
    },
    {
     "name": "stdout",
     "output_type": "stream",
     "text": [
      "\n"
     ]
    }
   ],
   "source": [
    "tables = glob.glob('../data/*.*')\n",
    "graphs = [parseEdgelist(table) for table in tqdm(tables)]"
   ]
  },
  {
   "cell_type": "code",
   "execution_count": 12,
   "metadata": {
    "colab": {},
    "colab_type": "code",
    "id": "x6SyRKlplopY"
   },
   "outputs": [],
   "source": [
    "def graphsToDataFrame(graphs, tables):\n",
    "    cols=['nodes', 'edges', 'avg-path', 'ln-n', 'clustering-coef', 'small-world-measure']\n",
    "    \n",
    "    df = pd.DataFrame(columns=cols, index=range(len(graphs)))\n",
    "    \n",
    "    df.index = ['_'.join(os.path.basename(t).split('.')[:-1]) for t in tables]\n",
    "    df[\"nodes\"] = [g.number_of_nodes() for g in graphs]\n",
    "    df[\"edges\"] = [g.number_of_edges() for g in graphs]\n",
    "    df[\"avg-path\"] = [estimated_average_path(g, 1000) for g in graphs]\n",
    "    df[\"ln-n\"] = df['nodes'].apply(np.log)\n",
    "    df[\"clustering-coef\"] = [nx.average_clustering(g) for g in graphs]\n",
    "    df[\"small-world-measure\"] = [small_world_coef(g) for g in graphs]\n",
    "    \n",
    "    return df"
   ]
  },
  {
   "cell_type": "code",
   "execution_count": 13,
   "metadata": {},
   "outputs": [],
   "source": [
    "data = graphsToDataFrame(graphs, tables)"
   ]
  },
  {
   "cell_type": "markdown",
   "metadata": {
    "colab_type": "text",
    "id": "QUk3y0Yalopc"
   },
   "source": [
    "### Задача 3. Устойчивость малого мира сложных сетей. "
   ]
  },
  {
   "cell_type": "markdown",
   "metadata": {
    "colab_type": "text",
    "id": "56S3_zJ_lopd"
   },
   "source": [
    "* Напишите функцию, удаляющую $10\\%$ случайно выбранных ребер;\n",
    "\n",
    "* посмотрите, как изменятся характеристики, определяющие малый мир сети после удаления $10 \\% $ ребер:\n",
    "средний путь, коэффициент кластеризации, мера малого мира. Результаты добавьте в таблицу выше.\n"
   ]
  },
  {
   "cell_type": "code",
   "execution_count": 14,
   "metadata": {
    "colab": {},
    "colab_type": "code",
    "id": "ncihzVa1lope"
   },
   "outputs": [],
   "source": [
    "def pruning(G, p=0.1):\n",
    "    edges = list(G.edges())\n",
    "    q = round(len(edges)*p)\n",
    "    bunch = random.sample(edges, q)\n",
    "    G.remove_edges_from(bunch)\n",
    "    return G"
   ]
  },
  {
   "cell_type": "code",
   "execution_count": 15,
   "metadata": {
    "scrolled": true
   },
   "outputs": [],
   "source": [
    "tables_pruned = list(map(lambda x : '.pruned.'.join(x.split('.')), tables))\n",
    "graphs_pruned = [pruning(g) for g in graphs]\n",
    "data = data.append(graphsToDataFrame(graphs_pruned, tables_pruned))"
   ]
  },
  {
   "cell_type": "code",
   "execution_count": 16,
   "metadata": {},
   "outputs": [
    {
     "data": {
      "application/vnd.jupyter.widget-view+json": {
       "model_id": "c6be828e406d415d9fa3cdbb471ac718",
       "version_major": 2,
       "version_minor": 0
      },
      "text/plain": [
       "interactive(children=(Dropdown(description='col', options=('nodes', 'edges', 'avg-path', 'ln-n', 'clustering-c…"
      ]
     },
     "metadata": {},
     "output_type": "display_data"
    }
   ],
   "source": [
    "@interact\n",
    "def showDf(col=data.columns):\n",
    "    def highlight_cols(s):\n",
    "        color = sns.cubehelix_palette(start=2.8, rot=.1, n_colors=20).as_hex()[data.columns.get_loc(col)]\n",
    "        return 'background-color: %s' % color\n",
    "    return data.sort_values(by=col, ascending=True).style.applymap(highlight_cols, subset=pd.IndexSlice[:, [col]])"
   ]
  }
 ],
 "metadata": {
  "colab": {
   "name": "NS Assignment 03-04.ipynb",
   "provenance": []
  },
  "kernelspec": {
   "display_name": "networks",
   "language": "python",
   "name": "networks"
  },
  "language_info": {
   "codemirror_mode": {
    "name": "ipython",
    "version": 3
   },
   "file_extension": ".py",
   "mimetype": "text/x-python",
   "name": "python",
   "nbconvert_exporter": "python",
   "pygments_lexer": "ipython3",
   "version": "3.6.9"
  },
  "latex_envs": {
   "LaTeX_envs_menu_present": true,
   "autoclose": false,
   "autocomplete": true,
   "bibliofile": "biblio.bib",
   "cite_by": "apalike",
   "current_citInitial": 1,
   "eqLabelWithNumbers": true,
   "eqNumInitial": 1,
   "hotkeys": {
    "equation": "Ctrl-E",
    "itemize": "Ctrl-I"
   },
   "labels_anchors": false,
   "latex_user_defs": false,
   "report_style_numbering": false,
   "user_envs_cfg": false
  }
 },
 "nbformat": 4,
 "nbformat_minor": 1
}
