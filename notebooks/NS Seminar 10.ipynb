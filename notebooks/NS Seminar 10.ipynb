{
 "cells": [
  {
   "cell_type": "markdown",
   "metadata": {},
   "source": [
    "## Спектры сложных сетей"
   ]
  },
  {
   "cell_type": "code",
   "execution_count": 40,
   "metadata": {},
   "outputs": [],
   "source": [
    "import numpy as np\n",
    "import matplotlib.pyplot as plt\n",
    "%matplotlib inline\n",
    "import networkx as nx\n",
    "from itertools import product"
   ]
  },
  {
   "cell_type": "markdown",
   "metadata": {},
   "source": [
    "Напишем вспомогательную функцию вывода матрицы: "
   ]
  },
  {
   "cell_type": "code",
   "execution_count": 16,
   "metadata": {},
   "outputs": [],
   "source": [
    "def plot_matrix(A, normalize=False):\n",
    "    fmt = '.2f' if normalize else 'd'\n",
    "    plt.imshow(A,cmap='PiYG') \n",
    "    thresh=A.max() / 2\n",
    "    for i in range(A.shape[0]):\n",
    "            for j in range(A.shape[1]):\n",
    "                plt.text(j, i, format(A[i, j], fmt),\n",
    "                        ha=\"center\", va=\"center\",\n",
    "                         color=\"white\" if A[i, j] > thresh else \"black\")\n",
    "    plt.axis('off')"
   ]
  },
  {
   "cell_type": "markdown",
   "metadata": {},
   "source": [
    "Рассмотрим следующий граф:"
   ]
  },
  {
   "cell_type": "code",
   "execution_count": 19,
   "metadata": {},
   "outputs": [
    {
     "data": {
      "image/png": "[encoded data removed]",
      "text/plain": [
       "<Figure size 432x288 with 1 Axes>"
      ]
     },
     "metadata": {},
     "output_type": "display_data"
    }
   ],
   "source": [
    "BR = nx.barbell_graph(4,1)\n",
    "nx.draw(BR,node_size=1000,with_labels=True)"
   ]
  },
  {
   "cell_type": "markdown",
   "metadata": {},
   "source": [
    "## Матрицы графа и их спектральные свойства\n",
    "\n",
    "### 1. Матрица смежности: \n",
    "$$\n",
    "A_{ij} = \n",
    " \\begin{cases}\n",
    "   1, &\\text{  $(i,j) \\in E$},\\\\\n",
    "   0, &\\text{otherwise}.\n",
    " \\end{cases}\n",
    "$$"
   ]
  },
  {
   "cell_type": "code",
   "execution_count": 4,
   "metadata": {
    "scrolled": true
   },
   "outputs": [
    {
     "data": {
      "image/png": "[encoded data removed]",
      "text/plain": [
       "<Figure size 432x288 with 1 Axes>"
      ]
     },
     "metadata": {
      "needs_background": "light"
     },
     "output_type": "display_data"
    }
   ],
   "source": [
    "A=nx.adjacency_matrix(BR).todense()\n",
    "plot_matrix(A)"
   ]
  },
  {
   "cell_type": "markdown",
   "metadata": {},
   "source": [
    "#### Спектр "
   ]
  },
  {
   "cell_type": "markdown",
   "metadata": {},
   "source": [
    "Для симметричной матрицы воспользуемся [функцией](https://docs.scipy.org/doc/numpy/reference/generated/numpy.linalg.eigvalsh.html) нахождения собственных значений Эрмитовой матрицы."
   ]
  },
  {
   "cell_type": "code",
   "execution_count": 5,
   "metadata": {},
   "outputs": [
    {
     "name": "stdout",
     "output_type": "stream",
     "text": [
      "[-1.85577251 -1.         -1.         -1.         -1.         -1.\n",
      "  0.67836283  3.          3.17740968]\n"
     ]
    }
   ],
   "source": [
    "print(np.linalg.eigvalsh(A))"
   ]
  },
  {
   "cell_type": "markdown",
   "metadata": {},
   "source": [
    "Построим распределение собственных значений $\\rho(\\lambda)$:"
   ]
  },
  {
   "cell_type": "code",
   "execution_count": 21,
   "metadata": {},
   "outputs": [
    {
     "data": {
      "image/png": "[encoded data removed]",
      "text/plain": [
       "<Figure size 432x288 with 1 Axes>"
      ]
     },
     "metadata": {
      "needs_background": "light"
     },
     "output_type": "display_data"
    }
   ],
   "source": [
    "a=plt.hist(np.linalg.eigvalsh(A))\n",
    "plt.xlabel(r'$\\lambda$',fontsize=14)\n",
    "plt.ylabel(r'$\\rho(\\lambda)$',fontsize=14)\n",
    "plt.show()"
   ]
  },
  {
   "cell_type": "markdown",
   "metadata": {},
   "source": [
    "#### Важно: \n",
    "число \"изолированных\" собственных значений показывает число сообществ (кластеров) в сети."
   ]
  },
  {
   "cell_type": "markdown",
   "metadata": {},
   "source": [
    "#### Собственные вектора\n",
    "Principal eigenvector соответствует максимальному с.з. матрицы смежности и совпадает с eigenvector centrality"
   ]
  },
  {
   "cell_type": "code",
   "execution_count": 7,
   "metadata": {},
   "outputs": [
    {
     "name": "stdout",
     "output_type": "stream",
     "text": [
      "Eigenvector= [-0.32752864 -0.32752864 -0.32752864 -0.38563539 -0.38563539 -0.32752864\n",
      " -0.32752864 -0.32752864 -0.24273571]\n",
      "Eigenvector centrality= [0.32752831731291443, 0.32752831731291443, 0.32752831731291443, 0.38563582165174676, 0.38563582165174687, 0.3275283173129145, 0.3275283173129145, 0.3275283173129145, 0.24273696518451682]\n"
     ]
    }
   ],
   "source": [
    " w, v = LA.eigh(A)\n",
    "print('Eigenvector=', np.ravel(v[:,-1]))\n",
    "print('Eigenvector centrality=',list(nx.eigenvector_centrality(BR).values()))"
   ]
  },
  {
   "cell_type": "markdown",
   "metadata": {},
   "source": [
    "### 2. Матрица Лапласа: \n",
    "$$\n",
    "L=D-A, $$\n",
    "\n",
    "$$\n",
    "L_{ij}=\n",
    " \\begin{cases}\n",
    "   k_i, &\\text{  $i=j$},\\\\\n",
    "   -1, &\\text{  $ i \\neq j,  (i,j) \\in E$},\\\\\n",
    "   0, &\\text{  otherwise}.\\\\\n",
    " \\end{cases}\n",
    "$$"
   ]
  },
  {
   "cell_type": "code",
   "execution_count": 8,
   "metadata": {
    "scrolled": true
   },
   "outputs": [
    {
     "data": {
      "image/png": "[encoded data removed]",
      "text/plain": [
       "<Figure size 432x288 with 1 Axes>"
      ]
     },
     "metadata": {
      "needs_background": "light"
     },
     "output_type": "display_data"
    }
   ],
   "source": [
    "L=nx.laplacian_matrix(BR).todense()\n",
    "plot_matrix(L)"
   ]
  },
  {
   "cell_type": "code",
   "execution_count": 39,
   "metadata": {},
   "outputs": [
    {
     "data": {
      "text/plain": [
       "True"
      ]
     },
     "execution_count": 39,
     "metadata": {},
     "output_type": "execute_result"
    }
   ],
   "source": [
    "(1, 0) in BR.edges()"
   ]
  },
  {
   "cell_type": "markdown",
   "metadata": {},
   "source": [
    "#### Спектр \n",
    "всегда содержит $\\lambda=0$, число нулевых с.з. совпадает с числом компонент графа. Первое ненулевое с.з. называется [алгебраической связностью графа](https://en.wikipedia.org/wiki/Algebraic_connectivity), оно коррелирует с числом ребер, которые надо удалить, чтобы развалить граф на несвязанные компоненты. "
   ]
  },
  {
   "cell_type": "code",
   "execution_count": 9,
   "metadata": {},
   "outputs": [
    {
     "name": "stdout",
     "output_type": "stream",
     "text": [
      "[5.48172618e-16 2.08712153e-01 1.69722436e+00 4.00000000e+00\n",
      " 4.00000000e+00 4.00000000e+00 4.00000000e+00 4.79128785e+00\n",
      " 5.30277564e+00]\n"
     ]
    }
   ],
   "source": [
    "print(np.linalg.eigvalsh(L))"
   ]
  },
  {
   "cell_type": "markdown",
   "metadata": {},
   "source": [
    "Добавим ребро $(3,5)$ и посмотрим как изменится алгебраическая связность графа:"
   ]
  },
  {
   "cell_type": "code",
   "execution_count": 10,
   "metadata": {},
   "outputs": [
    {
     "name": "stdout",
     "output_type": "stream",
     "text": [
      "Algebraic connectivity= 0.2087121525220802\n",
      "Algebraic connectivity= 0.45861873485089033\n"
     ]
    }
   ],
   "source": [
    "print('Algebraic connectivity=', LA.eigvalsh(L)[1])\n",
    "BR.add_edge(3,5) # добавим еще одно ребро в граф\n",
    "print('Algebraic connectivity=', LA.eigvalsh(nx.laplacian_matrix(BR).todense())[1])\n",
    "BR.remove_edge(3,5)"
   ]
  },
  {
   "cell_type": "markdown",
   "metadata": {},
   "source": [
    "#### Собственные вектора\n",
    "* Fiedler vector соответствует первому ненулевому с.з. матрицы Лапласа"
   ]
  },
  {
   "cell_type": "code",
   "execution_count": 11,
   "metadata": {},
   "outputs": [
    {
     "name": "stdout",
     "output_type": "stream",
     "text": [
      "Fiedler vector= [-3.71332471e-01 -3.71332471e-01 -3.71332471e-01 -2.93830875e-01\n",
      "  2.93830872e-01  3.71332476e-01  3.71332476e-01  3.71332476e-01\n",
      " -1.09644509e-08]\n"
     ]
    }
   ],
   "source": [
    "print('Fiedler vector=', nx.fiedler_vector(BR))"
   ]
  },
  {
   "cell_type": "markdown",
   "metadata": {},
   "source": [
    "Знак компонент фидлеровского вектора показывает на \"принадлежность\" к сообществу(кластеру)."
   ]
  },
  {
   "cell_type": "markdown",
   "metadata": {},
   "source": [
    "### Спектры случайных графов\n",
    "* графы Эрдеша-Реньи\n",
    "\n",
    "Почти все собственные значения лежат на интервале $\\left[-2r, 2r\\right]$, где:\n",
    "$$\n",
    "r=\\sqrt{Np(1-p)}.\n",
    "$$Спектральная плотность удовлетворяет \n",
    "$$\n",
    "\\rho(\\lambda)=\\frac{\\sqrt{4-\\left(\\displaystyle\\frac{\\lambda}{r}\\right)^2}}{2\\pi}\n",
    "$$\n"
   ]
  },
  {
   "cell_type": "code",
   "execution_count": 12,
   "metadata": {},
   "outputs": [
    {
     "name": "stderr",
     "output_type": "stream",
     "text": [
      "/home/kim/.local/lib/python3.6/site-packages/ipykernel_launcher.py:6: MatplotlibDeprecationWarning: \n",
      "The 'normed' kwarg was deprecated in Matplotlib 2.1 and will be removed in 3.1. Use 'density' instead.\n",
      "  \n"
     ]
    },
    {
     "data": {
      "text/plain": [
       "Text(0, 0.5, '$\\\\rho(\\\\lambda)$')"
      ]
     },
     "execution_count": 12,
     "metadata": {},
     "output_type": "execute_result"
    },
    {
     "data": {
      "image/png": "[encoded data removed]",
      "text/plain": [
       "<Figure size 432x288 with 1 Axes>"
      ]
     },
     "metadata": {
      "needs_background": "light"
     },
     "output_type": "display_data"
    }
   ],
   "source": [
    "N,p=1000,0.01\n",
    "ER=nx.erdos_renyi_graph(N,p)\n",
    "A=nx.adjacency_matrix(ER).todense()\n",
    "\n",
    "spec=LA.eigvalsh(A)\n",
    "a=plt.hist(spec,bins=100,normed=True)\n",
    "\n",
    "plt.xlabel(r'$\\lambda$',fontsize=14)\n",
    "plt.ylabel(r'$\\rho(\\lambda)$',fontsize=14)\n"
   ]
  },
  {
   "cell_type": "markdown",
   "metadata": {},
   "source": [
    "Изолированное собственное значение соответсвует одной компоненте связности, и удовлетворяет неравенству $k_{min}<\\lambda_1<k_{max}$, где $k_{min}$ и $k_{max}$ - наименьшее и наибольшее значения степени в сети. \n",
    "\n",
    "Построим теоретический полукруг:"
   ]
  },
  {
   "cell_type": "code",
   "execution_count": 13,
   "metadata": {},
   "outputs": [
    {
     "name": "stderr",
     "output_type": "stream",
     "text": [
      "/home/kim/.local/lib/python3.6/site-packages/ipykernel_launcher.py:2: MatplotlibDeprecationWarning: \n",
      "The 'normed' kwarg was deprecated in Matplotlib 2.1 and will be removed in 3.1. Use 'density' instead.\n",
      "  \n"
     ]
    },
    {
     "data": {
      "text/plain": [
       "Text(0, 0.5, '$\\\\rho(\\\\lambda)$')"
      ]
     },
     "execution_count": 13,
     "metadata": {},
     "output_type": "execute_result"
    },
    {
     "data": {
      "image/png": "[encoded data removed]",
      "text/plain": [
       "<Figure size 432x288 with 1 Axes>"
      ]
     },
     "metadata": {
      "needs_background": "light"
     },
     "output_type": "display_data"
    }
   ],
   "source": [
    "r=np.sqrt(N*p*(1-p))\n",
    "a=plt.hist(spec/r,bins=100,range=[-2,2],normed=True)\n",
    "plt.plot(np.linspace(-2,2,1000),\n",
    "         np.sqrt(4-np.linspace(-2,2,1000)**2)/(2*np.pi),'--',color='r')\n",
    "\n",
    "plt.xlabel(r'$\\lambda$',fontsize=14)\n",
    "plt.ylabel(r'$\\rho(\\lambda)$',fontsize=14)"
   ]
  },
  {
   "cell_type": "markdown",
   "metadata": {},
   "source": [
    "* Барабаши-Альберта\n",
    "\n",
    "Спектр случайного графа Барабаши-Альберта имеет характерный треугольний вид. Спектральная плотность подчиняется зависимости:\n",
    "$$\n",
    "\\rho(\\lambda)=\n",
    " \\begin{cases}\n",
    "  \\displaystyle ( \\frac{\\lambda}{r}+2)/4, &\\text{  $ -2\\le \\lambda/r \\le 0$},\\\\\n",
    "   \\displaystyle ( 2-\\frac{\\lambda}{r})/4, &\\text{  $ 0\\le \\lambda/r \\le 2$},\\\\\n",
    "   0, &\\text{  otherwise}.\\\\\n",
    " \\end{cases}\n",
    "$$\n"
   ]
  },
  {
   "cell_type": "code",
   "execution_count": 14,
   "metadata": {},
   "outputs": [
    {
     "data": {
      "text/plain": [
       "Text(0, 0.5, '$\\\\rho(\\\\lambda)$')"
      ]
     },
     "execution_count": 14,
     "metadata": {},
     "output_type": "execute_result"
    },
    {
     "data": {
      "image/png": "[encoded data removed]",
      "text/plain": [
       "<Figure size 432x288 with 1 Axes>"
      ]
     },
     "metadata": {
      "needs_background": "light"
     },
     "output_type": "display_data"
    }
   ],
   "source": [
    "N=1000\n",
    "BA=nx.barabasi_albert_graph(N,3)\n",
    "A=nx.adjacency_matrix(BA).todense()\n",
    "spec=LA.eigvalsh(A)\n",
    "a=plt.hist(spec,bins=100)\n",
    "\n",
    "plt.xlabel(r'$\\lambda$',fontsize=14)\n",
    "plt.ylabel(r'$\\rho(\\lambda)$',fontsize=14)"
   ]
  },
  {
   "cell_type": "code",
   "execution_count": 15,
   "metadata": {},
   "outputs": [
    {
     "name": "stderr",
     "output_type": "stream",
     "text": [
      "/home/kim/.local/lib/python3.6/site-packages/ipykernel_launcher.py:3: MatplotlibDeprecationWarning: \n",
      "The 'normed' kwarg was deprecated in Matplotlib 2.1 and will be removed in 3.1. Use 'density' instead.\n",
      "  This is separate from the ipykernel package so we can avoid doing imports until\n"
     ]
    },
    {
     "data": {
      "text/plain": [
       "Text(0, 0.5, '$\\\\rho(\\\\lambda)$')"
      ]
     },
     "execution_count": 15,
     "metadata": {},
     "output_type": "execute_result"
    },
    {
     "data": {
      "image/png": "[encoded data removed]",
      "text/plain": [
       "<Figure size 432x288 with 1 Axes>"
      ]
     },
     "metadata": {
      "needs_background": "light"
     },
     "output_type": "display_data"
    }
   ],
   "source": [
    "p=nx.density(BA)\n",
    "r=np.sqrt(N*p*(1-p))\n",
    "a=plt.hist(spec/r,bins=100,range=[-2,2],normed=True)\n",
    "\n",
    "plt.plot(np.linspace(-2,0,1000),\n",
    "         (np.linspace(-2,0,1000)+2)/4,'--',color='r')\n",
    "\n",
    "plt.plot(np.linspace(0,2,1000),\n",
    "         (-np.linspace(0,2,1000)+2)/4,'--',color='r')\n",
    "\n",
    "plt.xlabel(r'$\\lambda$',fontsize=14)\n",
    "plt.ylabel(r'$\\rho(\\lambda)$',fontsize=14)"
   ]
  }
 ],
 "metadata": {
  "kernelspec": {
   "display_name": "Python 3",
   "language": "python",
   "name": "python3"
  },
  "language_info": {
   "codemirror_mode": {
    "name": "ipython",
    "version": 3
   },
   "file_extension": ".py",
   "mimetype": "text/x-python",
   "name": "python",
   "nbconvert_exporter": "python",
   "pygments_lexer": "ipython3",
   "version": "3.6.9"
  },
  "latex_envs": {
   "LaTeX_envs_menu_present": true,
   "autoclose": false,
   "autocomplete": true,
   "bibliofile": "biblio.bib",
   "cite_by": "apalike",
   "current_citInitial": 1,
   "eqLabelWithNumbers": true,
   "eqNumInitial": 1,
   "hotkeys": {
    "equation": "Ctrl-E",
    "itemize": "Ctrl-I"
   },
   "labels_anchors": false,
   "latex_user_defs": false,
   "report_style_numbering": false,
   "user_envs_cfg": false
  }
 },
 "nbformat": 4,
 "nbformat_minor": 2
}
