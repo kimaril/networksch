{
 "cells": [
  {
   "cell_type": "markdown",
   "metadata": {},
   "source": [
    "## Задание 07 "
   ]
  },
  {
   "cell_type": "code",
   "execution_count": 1,
   "metadata": {},
   "outputs": [],
   "source": [
    "import matplotlib.pyplot as plt\n",
    "\n",
    "import numpy as np\n",
    "%matplotlib inline\n",
    "import networkx as nx\n",
    "import pandas as pd\n",
    "\n",
    "import ndlib.models.epidemics.SIModel as si\n",
    "import ndlib.models.epidemics.SISModel as sis\n",
    "import ndlib.models.epidemics.SIRModel as sir\n",
    "import ndlib.models.ModelConfig as mc"
   ]
  },
  {
   "cell_type": "markdown",
   "metadata": {},
   "source": [
    "### 1. Влияние топологии на характерное время распространение эпидемии в SI модели.\n",
    "\n",
    "* Сгенерируйте случайные графы из разных моделей: Эрдеша-Реньи, Барабаши-Альберта, Ваттса-Строгатца. \n",
    "\n",
    "Число вершин всех графов $N=10^4$, а средняя степень у всех примерно одинакова и, например, $\\left< k\\right>\\approx10$. \n",
    "\n",
    "* Смоделируйте SI модель, изобразите на одном графике среднюю долю инфицированных от времени для разных графов.  \n",
    "\n",
    "Параметры модели SI - $\\beta$ и число шагов по времени - подберите самостоятельно. Усреднение можно проводить по 100 запускам SI (Не по графам!!!).\n",
    "\n",
    "На этом же графике изобразите кривую, отвечающую приближению среднего поля. \n",
    "\n",
    "* Видите ли вы отличия в распространении эпидемии? Объясните результаты. "
   ]
  },
  {
   "cell_type": "code",
   "execution_count": 35,
   "metadata": {},
   "outputs": [],
   "source": [
    "n = 10000\n",
    "Ge = nx.erdos_renyi_graph(n, 0.001, seed=1234)\n",
    "#Gb = nx.barabasi_albert_graph(n, m, seed=1234)\n",
    "#Gw = nx.watts_strogatz_graph(n, 10, 0.5, seed=1234)"
   ]
  },
  {
   "cell_type": "code",
   "execution_count": 36,
   "metadata": {},
   "outputs": [
    {
     "name": "stdout",
     "output_type": "stream",
     "text": [
      "99\n"
     ]
    }
   ],
   "source": [
    "from IPython.display import clear_output\n",
    "desE = np.zeros((150, 100))\n",
    "model = si(Ge)\n",
    "cfg = mc.Configuration()\n",
    "cfg.add_model_parameter('beta', 0.01)\n",
    "model.set_initial_status(cfg)\n",
    "\n",
    "for j in range(100):\n",
    "    model.reset()\n",
    "    for i in range(150):\n",
    "        stat = model.get_status_map()\n",
    "        it = model.iteration()\n",
    "        desE[i][j] = it['node_count'][1]\n",
    "    clear_output()\n",
    "    print(j)"
   ]
  },
  {
   "cell_type": "code",
   "execution_count": 45,
   "metadata": {
    "scrolled": true
   },
   "outputs": [
    {
     "name": "stdout",
     "output_type": "stream",
     "text": [
      "99\n"
     ]
    }
   ],
   "source": [
    "Gb = nx.barabasi_albert_graph(n, 10, seed=1234)\n",
    "desB = np.zeros((150, 100))\n",
    "model = si(Gb)\n",
    "cfg = mc.Configuration()\n",
    "cfg.add_model_parameter('beta', 0.01)\n",
    "model.set_initial_status(cfg)\n",
    "\n",
    "for j in range(100):\n",
    "    model.reset()\n",
    "    for i in range(150):\n",
    "        stat = model.get_status_map()\n",
    "        it = model.iteration()\n",
    "        desB[i][j] = it['node_count'][1]\n",
    "    clear_output()\n",
    "    print(j)"
   ]
  },
  {
   "cell_type": "code",
   "execution_count": 46,
   "metadata": {
    "scrolled": true
   },
   "outputs": [
    {
     "name": "stdout",
     "output_type": "stream",
     "text": [
      "99\n"
     ]
    }
   ],
   "source": [
    "Gw = nx.watts_strogatz_graph(n, 10, 0.5, seed=1234)\n",
    "desW = np.zeros((150, 100))\n",
    "model = si(Gw)\n",
    "cfg = mc.Configuration()\n",
    "cfg.add_model_parameter('beta', 0.01)\n",
    "cfg.add_model_parameter('lambda', 0.005)\n",
    "model.set_initial_status(cfg)\n",
    "\n",
    "for j in range(100):\n",
    "    model.reset()\n",
    "    for i in range(150):\n",
    "        stat = model.get_status_map()\n",
    "        it = model.iteration()\n",
    "        desW[i][j] = it['node_count'][1]\n",
    "    clear_output()\n",
    "    print(j)"
   ]
  },
  {
   "cell_type": "code",
   "execution_count": 59,
   "metadata": {},
   "outputs": [
    {
     "data": {
      "text/plain": [
       "<matplotlib.legend.Legend at 0x10a7cda7048>"
      ]
     },
     "execution_count": 59,
     "metadata": {},
     "output_type": "execute_result"
    },
    {
     "data": {
      "image/png": "[encoded data removed]",
      "text/plain": [
       "<Figure size 432x288 with 1 Axes>"
      ]
     },
     "metadata": {
      "needs_background": "light"
     },
     "output_type": "display_data"
    }
   ],
   "source": [
    "plt.plot(range(150), np.mean(desE, 1), label=\"erdos_renyi\")\n",
    "plt.plot(range(150), np.mean(desB, 1), label=\"barabasi_albert\")\n",
    "plt.plot(range(150), np.mean(desW, 1), label=\"watts_strogatz\")\n",
    "plt.legend()"
   ]
  },
  {
   "cell_type": "code",
   "execution_count": null,
   "metadata": {},
   "outputs": [],
   "source": [
    "Различие есть. Модель барбаши альберта "
   ]
  },
  {
   "cell_type": "markdown",
   "metadata": {},
   "source": [
    "### 2. Порог зажигания в модели SIS.\n",
    "Рассмотрим модель SIS с параметром $\\mu=1$ на двух графах из задания 1: Эрдеша-Реньи и Барабаши-Альберта. \n",
    "Так как $\\left< k\\right>\\approx10$ и $\\mu=1$, то пороговое значение $\\beta$, выше которого  эпидемия не затухает из приближения среднего поля:\n",
    "$$\n",
    "\\beta=\\frac{1}{\\left< k\\right>}\\approx 0.1,\n",
    "$$\n",
    "\n",
    "Постройте зависимость средней доли зараженных в сетях от параметра $\\beta$, $\\beta \\in\\left[0,0.2 \\right]$. Усреднение проводите по 100 запускам SIS. Число шагов по времени (итераций) определите самостоятельно. "
   ]
  },
  {
   "cell_type": "code",
   "execution_count": 66,
   "metadata": {},
   "outputs": [
    {
     "name": "stdout",
     "output_type": "stream",
     "text": [
      "0.18\n"
     ]
    }
   ],
   "source": [
    "Ge = nx.erdos_renyi_graph(n, 0.001, seed=1234)\n",
    "betas = np.arange(0, 0.22, 0.02)\n",
    "berd = []\n",
    "for b in betas:\n",
    "    model = sis(Ge)\n",
    "    cfg = mc.Configuration()\n",
    "    cfg.add_model_parameter('lambda', 1)\n",
    "    cfg.add_model_parameter('beta', b)\n",
    "    model.set_initial_status(cfg)\n",
    "    buf = []\n",
    "    for j in range(1):\n",
    "        model.reset()\n",
    "        buf.append(model.iteration_bunch(150)[-1]['node_count'][1])\n",
    "    berd.append(np.mean(buf))\n",
    "    clear_output()\n",
    "    print(b)"
   ]
  },
  {
   "cell_type": "code",
   "execution_count": 67,
   "metadata": {},
   "outputs": [
    {
     "name": "stdout",
     "output_type": "stream",
     "text": [
      "0.18\n"
     ]
    }
   ],
   "source": [
    "Gb = nx.barabasi_albert_graph(n, 10, seed=1234)\n",
    "betas = np.arange(0, 0.22, 0.02)\n",
    "barb = []\n",
    "for b in betas:\n",
    "    model = sis(Gb)\n",
    "    cfg = mc.Configuration()\n",
    "    cfg.add_model_parameter('lambda', 1)\n",
    "    cfg.add_model_parameter('beta', b)\n",
    "    model.set_initial_status(cfg)\n",
    "    buf = []\n",
    "    for j in range(100):\n",
    "        model.reset()\n",
    "        buf.append(model.iteration_bunch(150)[-1]['node_count'][1])\n",
    "    barb.append(np.mean(buf))\n",
    "    clear_output()\n",
    "    print(b)"
   ]
  },
  {
   "cell_type": "code",
   "execution_count": 68,
   "metadata": {},
   "outputs": [
    {
     "data": {
      "text/plain": [
       "<matplotlib.legend.Legend at 0x10a7ce944c8>"
      ]
     },
     "execution_count": 68,
     "metadata": {},
     "output_type": "execute_result"
    },
    {
     "data": {
      "image/png": "[encoded data removed]",
      "text/plain": [
       "<Figure size 432x288 with 1 Axes>"
      ]
     },
     "metadata": {
      "needs_background": "light"
     },
     "output_type": "display_data"
    }
   ],
   "source": [
    "plt.plot(betas, berd, label=\"erdos_renyi\")\n",
    "plt.plot(betas, barb, label=\"barabasi_albert\")\n",
    "plt.legend()"
   ]
  },
  {
   "cell_type": "markdown",
   "metadata": {},
   "source": [
    "### 3. Влияние топологии в модели SIR.\n",
    "Рассмотрим модель SIR на следующих сетях: "
   ]
  },
  {
   "cell_type": "code",
   "execution_count": 2,
   "metadata": {},
   "outputs": [],
   "source": [
    "G1=nx.read_graphml('graph1.graphml')\n",
    "G2=nx.read_graphml('graph2.graphml')"
   ]
  },
  {
   "cell_type": "markdown",
   "metadata": {},
   "source": [
    "* Постройте зависимости средней доли зараженных вершин в модели SIR для первого и второго графа.\n",
    "\n",
    "Параметры для моделирования:"
   ]
  },
  {
   "cell_type": "code",
   "execution_count": 3,
   "metadata": {},
   "outputs": [],
   "source": [
    "beta=0.005\n",
    "gamma=0.03\n",
    "percentage_infected=0.002\n",
    "n_iter=200 # число шагов моделирования\n",
    "n_run=100 # число запусков распространения для усреднения"
   ]
  },
  {
   "cell_type": "code",
   "execution_count": 6,
   "metadata": {},
   "outputs": [
    {
     "name": "stdout",
     "output_type": "stream",
     "text": [
      "99\n"
     ]
    }
   ],
   "source": [
    "from IPython.display import clear_output\n",
    "model = sir(G1)\n",
    "cfg = mc.Configuration()\n",
    "cfg.add_model_parameter('beta', beta)\n",
    "cfg.add_model_parameter('gamma', gamma)\n",
    "cfg.add_model_parameter('percentage_infected', percentage_infected)\n",
    "model.set_initial_status(cfg)\n",
    "\n",
    "des1 = np.zeros((n_iter, n_run))\n",
    "for j in range(n_run):\n",
    "    model.reset()\n",
    "    for i in range(n_iter):\n",
    "        stat = model.get_status_map()\n",
    "        it = model.iteration()\n",
    "        des1[i][j] = it['node_count'][1]\n",
    "    clear_output()\n",
    "    print(j)"
   ]
  },
  {
   "cell_type": "code",
   "execution_count": 9,
   "metadata": {},
   "outputs": [
    {
     "name": "stdout",
     "output_type": "stream",
     "text": [
      "99\n"
     ]
    }
   ],
   "source": [
    "model = sir(G2)\n",
    "cfg = mc.Configuration()\n",
    "cfg.add_model_parameter('beta', beta)\n",
    "cfg.add_model_parameter('gamma', gamma)\n",
    "cfg.add_model_parameter('percentage_infected', percentage_infected)\n",
    "model.set_initial_status(cfg)\n",
    "\n",
    "des2 = np.zeros((n_iter, n_run))\n",
    "for j in range(n_run):\n",
    "    model.reset()\n",
    "    for i in range(n_iter):\n",
    "        stat = model.get_status_map()\n",
    "        it = model.iteration()\n",
    "        des2[i][j] = it['node_count'][1]\n",
    "    clear_output()\n",
    "    print(j)"
   ]
  },
  {
   "cell_type": "code",
   "execution_count": 13,
   "metadata": {},
   "outputs": [
    {
     "data": {
      "text/plain": [
       "<matplotlib.legend.Legend at 0x2447287ecc8>"
      ]
     },
     "execution_count": 13,
     "metadata": {},
     "output_type": "execute_result"
    },
    {
     "data": {
      "image/png": "[encoded data removed]",
      "text/plain": [
       "<Figure size 432x288 with 1 Axes>"
      ]
     },
     "metadata": {
      "needs_background": "light"
     },
     "output_type": "display_data"
    }
   ],
   "source": [
    "plt.plot(range(n_iter), np.mean(des1, 1), label=\"erdos_renyi\")\n",
    "plt.plot(range(n_iter), np.mean(des2, 1), label=\"barabasi_albert\")\n",
    "plt.legend()"
   ]
  },
  {
   "cell_type": "markdown",
   "metadata": {},
   "source": [
    "* Отличаются ли построенные зависимости? \n",
    "Попробуйте понять, что влияет на распространение в сети, для этого исследуйте топологию G1, G2. "
   ]
  },
  {
   "cell_type": "code",
   "execution_count": 14,
   "metadata": {},
   "outputs": [],
   "source": [
    "beta=0.01\n",
    "gamma=0.05\n",
    "percentage_infected=0.002\n",
    "n_iter=200 # число шагов моделирования\n",
    "n_run=100 # число запусков распространения для усреднения"
   ]
  },
  {
   "cell_type": "code",
   "execution_count": 15,
   "metadata": {},
   "outputs": [
    {
     "name": "stdout",
     "output_type": "stream",
     "text": [
      "99\n"
     ]
    }
   ],
   "source": [
    "from IPython.display import clear_output\n",
    "model = sir(G1)\n",
    "cfg = mc.Configuration()\n",
    "cfg.add_model_parameter('beta', beta)\n",
    "cfg.add_model_parameter('gamma', gamma)\n",
    "cfg.add_model_parameter('percentage_infected', percentage_infected)\n",
    "model.set_initial_status(cfg)\n",
    "\n",
    "des1 = np.zeros((n_iter, n_run))\n",
    "for j in range(n_run):\n",
    "    model.reset()\n",
    "    for i in range(n_iter):\n",
    "        stat = model.get_status_map()\n",
    "        it = model.iteration()\n",
    "        des1[i][j] = it['node_count'][1]\n",
    "    clear_output()\n",
    "    print(j)"
   ]
  },
  {
   "cell_type": "code",
   "execution_count": 16,
   "metadata": {},
   "outputs": [
    {
     "name": "stdout",
     "output_type": "stream",
     "text": [
      "99\n"
     ]
    }
   ],
   "source": [
    "model = sir(G2)\n",
    "cfg = mc.Configuration()\n",
    "cfg.add_model_parameter('beta', beta)\n",
    "cfg.add_model_parameter('gamma', gamma)\n",
    "cfg.add_model_parameter('percentage_infected', percentage_infected)\n",
    "model.set_initial_status(cfg)\n",
    "\n",
    "des2 = np.zeros((n_iter, n_run))\n",
    "for j in range(n_run):\n",
    "    model.reset()\n",
    "    for i in range(n_iter):\n",
    "        stat = model.get_status_map()\n",
    "        it = model.iteration()\n",
    "        des2[i][j] = it['node_count'][1]\n",
    "    clear_output()\n",
    "    print(j)"
   ]
  },
  {
   "cell_type": "code",
   "execution_count": 17,
   "metadata": {},
   "outputs": [
    {
     "data": {
      "text/plain": [
       "<matplotlib.legend.Legend at 0x244728f9e08>"
      ]
     },
     "execution_count": 17,
     "metadata": {},
     "output_type": "execute_result"
    },
    {
     "data": {
      "image/png": "[encoded data removed]",
      "text/plain": [
       "<Figure size 432x288 with 1 Axes>"
      ]
     },
     "metadata": {
      "needs_background": "light"
     },
     "output_type": "display_data"
    }
   ],
   "source": [
    "plt.plot(range(n_iter), np.mean(des1, 1), label=\"erdos_renyi\")\n",
    "plt.plot(range(n_iter), np.mean(des2, 1), label=\"barabasi_albert\")\n",
    "plt.legend()"
   ]
  },
  {
   "cell_type": "code",
   "execution_count": 18,
   "metadata": {},
   "outputs": [],
   "source": [
    "beta=0.05\n",
    "gamma=0.1\n",
    "percentage_infected=0.01\n",
    "n_iter=200 # число шагов моделирования\n",
    "n_run=100 # число запусков распространения для усреднения"
   ]
  },
  {
   "cell_type": "code",
   "execution_count": 19,
   "metadata": {},
   "outputs": [
    {
     "name": "stdout",
     "output_type": "stream",
     "text": [
      "99\n"
     ]
    }
   ],
   "source": [
    "from IPython.display import clear_output\n",
    "model = sir(G1)\n",
    "cfg = mc.Configuration()\n",
    "cfg.add_model_parameter('beta', beta)\n",
    "cfg.add_model_parameter('gamma', gamma)\n",
    "cfg.add_model_parameter('percentage_infected', percentage_infected)\n",
    "model.set_initial_status(cfg)\n",
    "\n",
    "des1 = np.zeros((n_iter, n_run))\n",
    "for j in range(n_run):\n",
    "    model.reset()\n",
    "    for i in range(n_iter):\n",
    "        stat = model.get_status_map()\n",
    "        it = model.iteration()\n",
    "        des1[i][j] = it['node_count'][1]\n",
    "    clear_output()\n",
    "    print(j)"
   ]
  },
  {
   "cell_type": "code",
   "execution_count": 20,
   "metadata": {},
   "outputs": [
    {
     "name": "stdout",
     "output_type": "stream",
     "text": [
      "99\n"
     ]
    }
   ],
   "source": [
    "model = sir(G2)\n",
    "cfg = mc.Configuration()\n",
    "cfg.add_model_parameter('beta', beta)\n",
    "cfg.add_model_parameter('gamma', gamma)\n",
    "cfg.add_model_parameter('percentage_infected', percentage_infected)\n",
    "model.set_initial_status(cfg)\n",
    "\n",
    "des2 = np.zeros((n_iter, n_run))\n",
    "for j in range(n_run):\n",
    "    model.reset()\n",
    "    for i in range(n_iter):\n",
    "        stat = model.get_status_map()\n",
    "        it = model.iteration()\n",
    "        des2[i][j] = it['node_count'][1]\n",
    "    clear_output()\n",
    "    print(j)"
   ]
  },
  {
   "cell_type": "code",
   "execution_count": 21,
   "metadata": {},
   "outputs": [
    {
     "data": {
      "text/plain": [
       "<matplotlib.legend.Legend at 0x2447297dd48>"
      ]
     },
     "execution_count": 21,
     "metadata": {},
     "output_type": "execute_result"
    },
    {
     "data": {
      "image/png": "[encoded data removed]",
      "text/plain": [
       "<Figure size 432x288 with 1 Axes>"
      ]
     },
     "metadata": {
      "needs_background": "light"
     },
     "output_type": "display_data"
    }
   ],
   "source": [
    "plt.plot(range(n_iter), np.mean(des1, 1), label=\"erdos_renyi\")\n",
    "plt.plot(range(n_iter), np.mean(des2, 1), label=\"barabasi_albert\")\n",
    "plt.legend()"
   ]
  },
  {
   "cell_type": "markdown",
   "metadata": {},
   "source": [
    "* Поменяйте параметры модели, всегда ли распространение \"чувствительно\" к топологии сети?"
   ]
  },
  {
   "cell_type": "markdown",
   "metadata": {},
   "source": [
    "### 4. Моделирование распространения Covid-19. \n",
    "Будем работать с [данными](https://www.kaggle.com/sudalairajkumar/novel-corona-virus-2019-dataset) по распространению коронавируса в мире. \n",
    "\n",
    "* Визуализируйте данные для выбранных стран, например в виде зависимостей логарифма числа зараженных от времени. \n",
    "\n",
    "* Оцените коэффициет роста числа зараженных - коэффициент в экспоненциальной зависимости, как его можно интерпретировать? \n",
    "\n",
    "* (дополнительно) Попробуйте смоделировать распространение в рамках SIR модели (в приближении среднего поля) для провинции Хубей (Китай). \n",
    "\n",
    "* (дополнительно) Какие прогнозы можно сделать по ситуации в России? "
   ]
  },
  {
   "cell_type": "code",
   "execution_count": 23,
   "metadata": {},
   "outputs": [
    {
     "data": {
      "text/html": [
       "<div>\n",
       "<style scoped>\n",
       "    .dataframe tbody tr th:only-of-type {\n",
       "        vertical-align: middle;\n",
       "    }\n",
       "\n",
       "    .dataframe tbody tr th {\n",
       "        vertical-align: top;\n",
       "    }\n",
       "\n",
       "    .dataframe thead th {\n",
       "        text-align: right;\n",
       "    }\n",
       "</style>\n",
       "<table border=\"1\" class=\"dataframe\">\n",
       "  <thead>\n",
       "    <tr style=\"text-align: right;\">\n",
       "      <th></th>\n",
       "      <th>UID</th>\n",
       "      <th>iso2</th>\n",
       "      <th>iso3</th>\n",
       "      <th>code3</th>\n",
       "      <th>FIPS</th>\n",
       "      <th>Admin2</th>\n",
       "      <th>Province_State</th>\n",
       "      <th>Country_Region</th>\n",
       "      <th>Lat</th>\n",
       "      <th>Long_</th>\n",
       "      <th>...</th>\n",
       "      <th>3/28/20</th>\n",
       "      <th>3/29/20</th>\n",
       "      <th>3/30/20</th>\n",
       "      <th>3/31/20</th>\n",
       "      <th>4/1/20</th>\n",
       "      <th>4/2/20</th>\n",
       "      <th>4/3/20</th>\n",
       "      <th>4/4/20</th>\n",
       "      <th>4/5/20</th>\n",
       "      <th>4/6/20</th>\n",
       "    </tr>\n",
       "  </thead>\n",
       "  <tbody>\n",
       "    <tr>\n",
       "      <td>0</td>\n",
       "      <td>16</td>\n",
       "      <td>AS</td>\n",
       "      <td>ASM</td>\n",
       "      <td>16</td>\n",
       "      <td>60.0</td>\n",
       "      <td>NaN</td>\n",
       "      <td>American Samoa</td>\n",
       "      <td>US</td>\n",
       "      <td>-14.2710</td>\n",
       "      <td>-170.1320</td>\n",
       "      <td>...</td>\n",
       "      <td>0</td>\n",
       "      <td>0</td>\n",
       "      <td>0</td>\n",
       "      <td>0</td>\n",
       "      <td>0</td>\n",
       "      <td>0</td>\n",
       "      <td>0</td>\n",
       "      <td>0</td>\n",
       "      <td>0</td>\n",
       "      <td>0</td>\n",
       "    </tr>\n",
       "    <tr>\n",
       "      <td>1</td>\n",
       "      <td>316</td>\n",
       "      <td>GU</td>\n",
       "      <td>GUM</td>\n",
       "      <td>316</td>\n",
       "      <td>66.0</td>\n",
       "      <td>NaN</td>\n",
       "      <td>Guam</td>\n",
       "      <td>US</td>\n",
       "      <td>13.4443</td>\n",
       "      <td>144.7937</td>\n",
       "      <td>...</td>\n",
       "      <td>55</td>\n",
       "      <td>56</td>\n",
       "      <td>58</td>\n",
       "      <td>69</td>\n",
       "      <td>77</td>\n",
       "      <td>82</td>\n",
       "      <td>84</td>\n",
       "      <td>93</td>\n",
       "      <td>112</td>\n",
       "      <td>113</td>\n",
       "    </tr>\n",
       "    <tr>\n",
       "      <td>2</td>\n",
       "      <td>580</td>\n",
       "      <td>MP</td>\n",
       "      <td>MNP</td>\n",
       "      <td>580</td>\n",
       "      <td>69.0</td>\n",
       "      <td>NaN</td>\n",
       "      <td>Northern Mariana Islands</td>\n",
       "      <td>US</td>\n",
       "      <td>15.0979</td>\n",
       "      <td>145.6739</td>\n",
       "      <td>...</td>\n",
       "      <td>0</td>\n",
       "      <td>0</td>\n",
       "      <td>0</td>\n",
       "      <td>2</td>\n",
       "      <td>6</td>\n",
       "      <td>6</td>\n",
       "      <td>6</td>\n",
       "      <td>6</td>\n",
       "      <td>6</td>\n",
       "      <td>6</td>\n",
       "    </tr>\n",
       "    <tr>\n",
       "      <td>3</td>\n",
       "      <td>630</td>\n",
       "      <td>PR</td>\n",
       "      <td>PRI</td>\n",
       "      <td>630</td>\n",
       "      <td>72.0</td>\n",
       "      <td>NaN</td>\n",
       "      <td>Puerto Rico</td>\n",
       "      <td>US</td>\n",
       "      <td>18.2208</td>\n",
       "      <td>-66.5901</td>\n",
       "      <td>...</td>\n",
       "      <td>100</td>\n",
       "      <td>127</td>\n",
       "      <td>174</td>\n",
       "      <td>239</td>\n",
       "      <td>286</td>\n",
       "      <td>316</td>\n",
       "      <td>316</td>\n",
       "      <td>452</td>\n",
       "      <td>475</td>\n",
       "      <td>513</td>\n",
       "    </tr>\n",
       "    <tr>\n",
       "      <td>4</td>\n",
       "      <td>850</td>\n",
       "      <td>VI</td>\n",
       "      <td>VIR</td>\n",
       "      <td>850</td>\n",
       "      <td>78.0</td>\n",
       "      <td>NaN</td>\n",
       "      <td>Virgin Islands</td>\n",
       "      <td>US</td>\n",
       "      <td>18.3358</td>\n",
       "      <td>-64.8963</td>\n",
       "      <td>...</td>\n",
       "      <td>22</td>\n",
       "      <td>0</td>\n",
       "      <td>0</td>\n",
       "      <td>30</td>\n",
       "      <td>30</td>\n",
       "      <td>30</td>\n",
       "      <td>37</td>\n",
       "      <td>40</td>\n",
       "      <td>42</td>\n",
       "      <td>43</td>\n",
       "    </tr>\n",
       "  </tbody>\n",
       "</table>\n",
       "<p>5 rows × 87 columns</p>\n",
       "</div>"
      ],
      "text/plain": [
       "   UID iso2 iso3  code3  FIPS Admin2            Province_State Country_Region  \\\n",
       "0   16   AS  ASM     16  60.0    NaN            American Samoa             US   \n",
       "1  316   GU  GUM    316  66.0    NaN                      Guam             US   \n",
       "2  580   MP  MNP    580  69.0    NaN  Northern Mariana Islands             US   \n",
       "3  630   PR  PRI    630  72.0    NaN               Puerto Rico             US   \n",
       "4  850   VI  VIR    850  78.0    NaN            Virgin Islands             US   \n",
       "\n",
       "       Lat     Long_  ... 3/28/20  3/29/20  3/30/20  3/31/20  4/1/20  4/2/20  \\\n",
       "0 -14.2710 -170.1320  ...       0        0        0        0       0       0   \n",
       "1  13.4443  144.7937  ...      55       56       58       69      77      82   \n",
       "2  15.0979  145.6739  ...       0        0        0        2       6       6   \n",
       "3  18.2208  -66.5901  ...     100      127      174      239     286     316   \n",
       "4  18.3358  -64.8963  ...      22        0        0       30      30      30   \n",
       "\n",
       "   4/3/20  4/4/20  4/5/20  4/6/20  \n",
       "0       0       0       0       0  \n",
       "1      84      93     112     113  \n",
       "2       6       6       6       6  \n",
       "3     316     452     475     513  \n",
       "4      37      40      42      43  \n",
       "\n",
       "[5 rows x 87 columns]"
      ]
     },
     "execution_count": 23,
     "metadata": {},
     "output_type": "execute_result"
    }
   ],
   "source": [
    "import pandas as pd\n",
    "data = pd.read_csv(\"covid.csv\")\n",
    "data.head()"
   ]
  },
  {
   "cell_type": "code",
   "execution_count": 28,
   "metadata": {},
   "outputs": [
    {
     "data": {
      "text/html": [
       "<div>\n",
       "<style scoped>\n",
       "    .dataframe tbody tr th:only-of-type {\n",
       "        vertical-align: middle;\n",
       "    }\n",
       "\n",
       "    .dataframe tbody tr th {\n",
       "        vertical-align: top;\n",
       "    }\n",
       "\n",
       "    .dataframe thead th {\n",
       "        text-align: right;\n",
       "    }\n",
       "</style>\n",
       "<table border=\"1\" class=\"dataframe\">\n",
       "  <thead>\n",
       "    <tr style=\"text-align: right;\">\n",
       "      <th></th>\n",
       "      <th>1/22/20</th>\n",
       "      <th>1/23/20</th>\n",
       "      <th>1/24/20</th>\n",
       "      <th>1/25/20</th>\n",
       "      <th>1/26/20</th>\n",
       "      <th>1/27/20</th>\n",
       "      <th>1/28/20</th>\n",
       "      <th>1/29/20</th>\n",
       "      <th>1/30/20</th>\n",
       "      <th>1/31/20</th>\n",
       "      <th>...</th>\n",
       "      <th>3/28/20</th>\n",
       "      <th>3/29/20</th>\n",
       "      <th>3/30/20</th>\n",
       "      <th>3/31/20</th>\n",
       "      <th>4/1/20</th>\n",
       "      <th>4/2/20</th>\n",
       "      <th>4/3/20</th>\n",
       "      <th>4/4/20</th>\n",
       "      <th>4/5/20</th>\n",
       "      <th>4/6/20</th>\n",
       "    </tr>\n",
       "  </thead>\n",
       "  <tbody>\n",
       "    <tr>\n",
       "      <td>0</td>\n",
       "      <td>0</td>\n",
       "      <td>0</td>\n",
       "      <td>0</td>\n",
       "      <td>0</td>\n",
       "      <td>0</td>\n",
       "      <td>0</td>\n",
       "      <td>0</td>\n",
       "      <td>0</td>\n",
       "      <td>0</td>\n",
       "      <td>0</td>\n",
       "      <td>...</td>\n",
       "      <td>0</td>\n",
       "      <td>0</td>\n",
       "      <td>0</td>\n",
       "      <td>0</td>\n",
       "      <td>0</td>\n",
       "      <td>0</td>\n",
       "      <td>0</td>\n",
       "      <td>0</td>\n",
       "      <td>0</td>\n",
       "      <td>0</td>\n",
       "    </tr>\n",
       "    <tr>\n",
       "      <td>1</td>\n",
       "      <td>0</td>\n",
       "      <td>0</td>\n",
       "      <td>0</td>\n",
       "      <td>0</td>\n",
       "      <td>0</td>\n",
       "      <td>0</td>\n",
       "      <td>0</td>\n",
       "      <td>0</td>\n",
       "      <td>0</td>\n",
       "      <td>0</td>\n",
       "      <td>...</td>\n",
       "      <td>55</td>\n",
       "      <td>56</td>\n",
       "      <td>58</td>\n",
       "      <td>69</td>\n",
       "      <td>77</td>\n",
       "      <td>82</td>\n",
       "      <td>84</td>\n",
       "      <td>93</td>\n",
       "      <td>112</td>\n",
       "      <td>113</td>\n",
       "    </tr>\n",
       "    <tr>\n",
       "      <td>2</td>\n",
       "      <td>0</td>\n",
       "      <td>0</td>\n",
       "      <td>0</td>\n",
       "      <td>0</td>\n",
       "      <td>0</td>\n",
       "      <td>0</td>\n",
       "      <td>0</td>\n",
       "      <td>0</td>\n",
       "      <td>0</td>\n",
       "      <td>0</td>\n",
       "      <td>...</td>\n",
       "      <td>0</td>\n",
       "      <td>0</td>\n",
       "      <td>0</td>\n",
       "      <td>2</td>\n",
       "      <td>6</td>\n",
       "      <td>6</td>\n",
       "      <td>6</td>\n",
       "      <td>6</td>\n",
       "      <td>6</td>\n",
       "      <td>6</td>\n",
       "    </tr>\n",
       "    <tr>\n",
       "      <td>3</td>\n",
       "      <td>0</td>\n",
       "      <td>0</td>\n",
       "      <td>0</td>\n",
       "      <td>0</td>\n",
       "      <td>0</td>\n",
       "      <td>0</td>\n",
       "      <td>0</td>\n",
       "      <td>0</td>\n",
       "      <td>0</td>\n",
       "      <td>0</td>\n",
       "      <td>...</td>\n",
       "      <td>100</td>\n",
       "      <td>127</td>\n",
       "      <td>174</td>\n",
       "      <td>239</td>\n",
       "      <td>286</td>\n",
       "      <td>316</td>\n",
       "      <td>316</td>\n",
       "      <td>452</td>\n",
       "      <td>475</td>\n",
       "      <td>513</td>\n",
       "    </tr>\n",
       "    <tr>\n",
       "      <td>4</td>\n",
       "      <td>0</td>\n",
       "      <td>0</td>\n",
       "      <td>0</td>\n",
       "      <td>0</td>\n",
       "      <td>0</td>\n",
       "      <td>0</td>\n",
       "      <td>0</td>\n",
       "      <td>0</td>\n",
       "      <td>0</td>\n",
       "      <td>0</td>\n",
       "      <td>...</td>\n",
       "      <td>22</td>\n",
       "      <td>0</td>\n",
       "      <td>0</td>\n",
       "      <td>30</td>\n",
       "      <td>30</td>\n",
       "      <td>30</td>\n",
       "      <td>37</td>\n",
       "      <td>40</td>\n",
       "      <td>42</td>\n",
       "      <td>43</td>\n",
       "    </tr>\n",
       "  </tbody>\n",
       "</table>\n",
       "<p>5 rows × 76 columns</p>\n",
       "</div>"
      ],
      "text/plain": [
       "   1/22/20  1/23/20  1/24/20  1/25/20  1/26/20  1/27/20  1/28/20  1/29/20  \\\n",
       "0        0        0        0        0        0        0        0        0   \n",
       "1        0        0        0        0        0        0        0        0   \n",
       "2        0        0        0        0        0        0        0        0   \n",
       "3        0        0        0        0        0        0        0        0   \n",
       "4        0        0        0        0        0        0        0        0   \n",
       "\n",
       "   1/30/20  1/31/20  ...  3/28/20  3/29/20  3/30/20  3/31/20  4/1/20  4/2/20  \\\n",
       "0        0        0  ...        0        0        0        0       0       0   \n",
       "1        0        0  ...       55       56       58       69      77      82   \n",
       "2        0        0  ...        0        0        0        2       6       6   \n",
       "3        0        0  ...      100      127      174      239     286     316   \n",
       "4        0        0  ...       22        0        0       30      30      30   \n",
       "\n",
       "   4/3/20  4/4/20  4/5/20  4/6/20  \n",
       "0       0       0       0       0  \n",
       "1      84      93     112     113  \n",
       "2       6       6       6       6  \n",
       "3     316     452     475     513  \n",
       "4      37      40      42      43  \n",
       "\n",
       "[5 rows x 76 columns]"
      ]
     },
     "execution_count": 28,
     "metadata": {},
     "output_type": "execute_result"
    }
   ],
   "source": [
    "dsum = data.iloc[:,11:]\n",
    "dsum.head()"
   ]
  },
  {
   "cell_type": "code",
   "execution_count": 34,
   "metadata": {},
   "outputs": [],
   "source": [
    "cor = np.array(dsum.sum(axis=0))"
   ]
  },
  {
   "cell_type": "code",
   "execution_count": 40,
   "metadata": {},
   "outputs": [
    {
     "data": {
      "image/png": "[encoded data removed]",
      "text/plain": [
       "<Figure size 432x288 with 1 Axes>"
      ]
     },
     "metadata": {
      "needs_background": "light"
     },
     "output_type": "display_data"
    }
   ],
   "source": [
    "plt.plot(range(len(cor)), cor)\n",
    "plt.yscale(\"log\")\n",
    "plt.title(\"US\")\n",
    "plt.show()"
   ]
  },
  {
   "cell_type": "code",
   "execution_count": null,
   "metadata": {},
   "outputs": [],
   "source": []
  }
 ],
 "metadata": {
  "kernelspec": {
   "display_name": "Python 3",
   "language": "python",
   "name": "python3"
  },
  "language_info": {
   "codemirror_mode": {
    "name": "ipython",
    "version": 3
   },
   "file_extension": ".py",
   "mimetype": "text/x-python",
   "name": "python",
   "nbconvert_exporter": "python",
   "pygments_lexer": "ipython3",
   "version": "3.6.9"
  },
  "latex_envs": {
   "LaTeX_envs_menu_present": true,
   "autoclose": false,
   "autocomplete": true,
   "bibliofile": "biblio.bib",
   "cite_by": "apalike",
   "current_citInitial": 1,
   "eqLabelWithNumbers": true,
   "eqNumInitial": 1,
   "hotkeys": {
    "equation": "Ctrl-E",
    "itemize": "Ctrl-I"
   },
   "labels_anchors": false,
   "latex_user_defs": false,
   "report_style_numbering": false,
   "user_envs_cfg": false
  }
 },
 "nbformat": 4,
 "nbformat_minor": 2
}
