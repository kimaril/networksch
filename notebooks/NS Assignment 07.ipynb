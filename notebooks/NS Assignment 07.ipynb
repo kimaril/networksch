{
 "cells": [
  {
   "cell_type": "markdown",
   "metadata": {},
   "source": [
    "## Задание 07 "
   ]
  },
  {
   "cell_type": "code",
   "execution_count": 1,
   "metadata": {},
   "outputs": [],
   "source": [
    "%load_ext autoreload\n",
    "%autoreload 2"
   ]
  },
  {
   "cell_type": "code",
   "execution_count": 10,
   "metadata": {},
   "outputs": [],
   "source": [
    "import matplotlib.pyplot as plt\n",
    "\n",
    "import numpy as np\n",
    "import networkx as nx\n",
    "import pandas as pd\n",
    "import seaborn as sns\n",
    "from tqdm.notebook import tqdm\n",
    "\n",
    "import ndlib.models.epidemics.SIModel as si\n",
    "import ndlib.models.epidemics.SISModel as sis\n",
    "import ndlib.models.epidemics.SIRModel as sir\n",
    "import ndlib.models.ModelConfig as mc"
   ]
  },
  {
   "cell_type": "markdown",
   "metadata": {},
   "source": [
    "### 1. Влияние топологии на характерное время распространение эпидемии в SI модели.\n",
    "\n",
    "* Сгенерируйте случайные графы из разных моделей: Эрдеша-Реньи, Барабаши-Альберта, Ваттса-Строгатца. \n",
    "\n",
    "Число вершин всех графов $N=10^4$, а средняя степень у всех примерно одинакова и, например, $\\left< k\\right>\\approx10$. \n",
    "\n",
    "* Смоделируйте SI модель, изобразите на одном графике среднюю долю инфицированных от времени для разных графов.  \n",
    "\n",
    "Параметры модели SI - $\\beta$ и число шагов по времени - подберите самостоятельно. Усреднение можно проводить по 100 запускам SI (Не по графам!!!).\n",
    "\n",
    "На этом же графике изобразите кривую, отвечающую приближению среднего поля. \n",
    "\n",
    "* Видите ли вы отличия в распространении эпидемии? Объясните результаты. "
   ]
  },
  {
   "cell_type": "code",
   "execution_count": 9,
   "metadata": {},
   "outputs": [],
   "source": [
    "n = 10000\n",
    "Ge = nx.erdos_renyi_graph(n, 0.001, seed=1234)\n",
    "Gb = nx.barabasi_albert_graph(n, 10, seed=1234)\n",
    "Gw = nx.watts_strogatz_graph(n, 10, 0.5, seed=1234)\n",
    "graphs = [Ge, Gb, Gw]"
   ]
  },
  {
   "cell_type": "code",
   "execution_count": 12,
   "metadata": {},
   "outputs": [],
   "source": [
    "def SI(G, beta_=0.01, lambda_=None): \n",
    "    desc = np.zeros((150, 100))\n",
    "    model = si(G)\n",
    "    cfg = mc.Configuration()\n",
    "    cfg.add_model_parameter('beta', beta_)\n",
    "    if lambda_:\n",
    "        cfg.add_model_parameter('lambda', lambda_)\n",
    "    model.set_initial_status(cfg)\n",
    "\n",
    "    for j in tqdm(range(100)):\n",
    "        model.reset()\n",
    "        for i in range(150):\n",
    "            stat = model.get_status_map()\n",
    "            it = model.iteration()\n",
    "            desc[i][j] = it['node_count'][1]\n",
    "            \n",
    "    return desc"
   ]
  },
  {
   "cell_type": "code",
   "execution_count": 14,
   "metadata": {},
   "outputs": [
    {
     "data": {
      "application/vnd.jupyter.widget-view+json": {
       "model_id": "f2bbc7f1f2f8490588ea10aac480ede1",
       "version_major": 2,
       "version_minor": 0
      },
      "text/plain": [
       "HBox(children=(FloatProgress(value=0.0), HTML(value='')))"
      ]
     },
     "metadata": {},
     "output_type": "display_data"
    },
    {
     "name": "stdout",
     "output_type": "stream",
     "text": [
      "\n"
     ]
    },
    {
     "data": {
      "application/vnd.jupyter.widget-view+json": {
       "model_id": "63016e87650e4e78813b65bf42938aa2",
       "version_major": 2,
       "version_minor": 0
      },
      "text/plain": [
       "HBox(children=(FloatProgress(value=0.0), HTML(value='')))"
      ]
     },
     "metadata": {},
     "output_type": "display_data"
    },
    {
     "name": "stdout",
     "output_type": "stream",
     "text": [
      "\n"
     ]
    },
    {
     "data": {
      "application/vnd.jupyter.widget-view+json": {
       "model_id": "d8aae38f253d4aab914ccc1821b60470",
       "version_major": 2,
       "version_minor": 0
      },
      "text/plain": [
       "HBox(children=(FloatProgress(value=0.0), HTML(value='')))"
      ]
     },
     "metadata": {},
     "output_type": "display_data"
    },
    {
     "name": "stdout",
     "output_type": "stream",
     "text": [
      "\n"
     ]
    }
   ],
   "source": [
    "des = [SI(g) for g in graphs]"
   ]
  },
  {
   "cell_type": "code",
   "execution_count": 15,
   "metadata": {},
   "outputs": [
    {
     "data": {
      "image/png": "[encoded data removed]",
      "text/plain": [
       "<Figure size 432x288 with 1 Axes>"
      ]
     },
     "metadata": {
      "needs_background": "light"
     },
     "output_type": "display_data"
    }
   ],
   "source": [
    "sns.lineplot(range(150), np.mean(des[0], 1), label=\"Erdos-Renyi\")\n",
    "sns.lineplot(range(150), np.mean(des[1], 1), label=\"Barabasi-Albert\")\n",
    "sns.lineplot(range(150), np.mean(des[2], 1), label=\"Watts-Strogatz\")\n",
    "plt.legend()\n",
    "plt.show()"
   ]
  },
  {
   "cell_type": "code",
   "execution_count": null,
   "metadata": {},
   "outputs": [],
   "source": [
    "Различие есть. Модель барбаши альберта "
   ]
  },
  {
   "cell_type": "markdown",
   "metadata": {},
   "source": [
    "### 2. Порог зажигания в модели SIS.\n",
    "Рассмотрим модель SIS с параметром $\\mu=1$ на двух графах из задания 1: Эрдеша-Реньи и Барабаши-Альберта. \n",
    "Так как $\\left< k\\right>\\approx10$ и $\\mu=1$, то пороговое значение $\\beta$, выше которого  эпидемия не затухает из приближения среднего поля:\n",
    "$$\n",
    "\\beta=\\frac{1}{\\left< k\\right>}\\approx 0.1,\n",
    "$$\n",
    "\n",
    "Постройте зависимость средней доли зараженных в сетях от параметра $\\beta$, $\\beta \\in\\left[0,0.2 \\right]$. Усреднение проводите по 100 запускам SIS. Число шагов по времени (итераций) определите самостоятельно. "
   ]
  },
  {
   "cell_type": "code",
   "execution_count": 28,
   "metadata": {},
   "outputs": [],
   "source": [
    "def SIS(G, betas):\n",
    "    ratios = []\n",
    "    for b in tqdm(betas):\n",
    "        model = sis(Ge)\n",
    "        cfg = mc.Configuration()\n",
    "        cfg.add_model_parameter('lambda', 1)\n",
    "        cfg.add_model_parameter('beta', b)\n",
    "        model.set_initial_status(cfg)\n",
    "        buf = []\n",
    "        for j in range(1): \n",
    "            model.reset()\n",
    "            buf.append(model.iteration_bunch(150)[-1]['node_count'][1])\n",
    "        ratios.append(np.mean(buf))\n",
    "    return ratios"
   ]
  },
  {
   "cell_type": "code",
   "execution_count": 29,
   "metadata": {},
   "outputs": [
    {
     "data": {
      "application/vnd.jupyter.widget-view+json": {
       "model_id": "4f4bd8fb328349fca7fb5acda88730e3",
       "version_major": 2,
       "version_minor": 0
      },
      "text/plain": [
       "HBox(children=(FloatProgress(value=0.0, max=10.0), HTML(value='')))"
      ]
     },
     "metadata": {},
     "output_type": "display_data"
    },
    {
     "name": "stderr",
     "output_type": "stream",
     "text": [
      "/home/kim/juche/pet-projects/networksch/networks/lib/python3.6/site-packages/ndlib/models/DiffusionModel.py:116: UserWarning: Initial infection missing: a random sample of 5% of graph nodes will be set as infected\n",
      "  warnings.warn('Initial infection missing: a random sample of 5% of graph nodes will be set as infected')\n"
     ]
    },
    {
     "name": "stdout",
     "output_type": "stream",
     "text": [
      "\n"
     ]
    },
    {
     "data": {
      "application/vnd.jupyter.widget-view+json": {
       "model_id": "505a6846d5b245cc893431c1af7af1b0",
       "version_major": 2,
       "version_minor": 0
      },
      "text/plain": [
       "HBox(children=(FloatProgress(value=0.0, max=10.0), HTML(value='')))"
      ]
     },
     "metadata": {},
     "output_type": "display_data"
    },
    {
     "name": "stdout",
     "output_type": "stream",
     "text": [
      "\n"
     ]
    }
   ],
   "source": [
    "betas = np.arange(0, 0.2, 0.02)\n",
    "infratios = [SIS(g, betas) for g in graphs[:-1]]"
   ]
  },
  {
   "cell_type": "code",
   "execution_count": 31,
   "metadata": {},
   "outputs": [
    {
     "data": {
      "image/png": "[encoded data removed]",
      "text/plain": [
       "<Figure size 432x288 with 1 Axes>"
      ]
     },
     "metadata": {
      "needs_background": "light"
     },
     "output_type": "display_data"
    }
   ],
   "source": [
    "sns.lineplot(betas, infratios[0], label=\"erdos_renyi\")\n",
    "sns.lineplot(betas, infratios[1], label=\"barabasi_albert\")\n",
    "plt.legend()\n",
    "plt.show()"
   ]
  },
  {
   "cell_type": "markdown",
   "metadata": {},
   "source": [
    "### 3. Влияние топологии в модели SIR.\n",
    "Рассмотрим модель SIR на следующих сетях: "
   ]
  },
  {
   "cell_type": "code",
   "execution_count": 33,
   "metadata": {},
   "outputs": [],
   "source": [
    "G1 = nx.read_graphml('../data/graph1.graphml')\n",
    "G2 = nx.read_graphml('../data/graph2.graphml')"
   ]
  },
  {
   "cell_type": "markdown",
   "metadata": {},
   "source": [
    "* Постройте зависимости средней доли зараженных вершин в модели SIR для первого и второго графа.\n",
    "\n",
    "Параметры для моделирования:"
   ]
  },
  {
   "cell_type": "code",
   "execution_count": 34,
   "metadata": {},
   "outputs": [],
   "source": [
    "def SIR(G, n_iter=200, n_run=100, beta=0.005, gamma=0.3, percentage_infected=0.002):\n",
    "    model = sir(G)\n",
    "    cfg = mc.Configuration()\n",
    "    cfg.add_model_parameter('beta', beta)\n",
    "    cfg.add_model_parameter('gamma', gamma)\n",
    "    cfg.add_model_parameter('percentage_infected', percentage_infected)\n",
    "    model.set_initial_status(cfg)\n",
    "\n",
    "    des = np.zeros((n_iter, n_run))\n",
    "    for j in tqdm(range(n_run)):\n",
    "        model.reset()\n",
    "        for i in range(n_iter):\n",
    "            stat = model.get_status_map()\n",
    "            it = model.iteration()\n",
    "            des[i][j] = it['node_count'][1]\n",
    "    return des"
   ]
  },
  {
   "cell_type": "code",
   "execution_count": null,
   "metadata": {},
   "outputs": [
    {
     "data": {
      "application/vnd.jupyter.widget-view+json": {
       "model_id": "c1b91b7a7eb6463f8f6cac809523a427",
       "version_major": 2,
       "version_minor": 0
      },
      "text/plain": [
       "HBox(children=(FloatProgress(value=0.0), HTML(value='')))"
      ]
     },
     "metadata": {},
     "output_type": "display_data"
    },
    {
     "name": "stdout",
     "output_type": "stream",
     "text": [
      "\n"
     ]
    },
    {
     "data": {
      "application/vnd.jupyter.widget-view+json": {
       "model_id": "ce6649f71d0642039602098d4bc3ab48",
       "version_major": 2,
       "version_minor": 0
      },
      "text/plain": [
       "HBox(children=(FloatProgress(value=0.0), HTML(value='')))"
      ]
     },
     "metadata": {},
     "output_type": "display_data"
    }
   ],
   "source": [
    "sir_infected_beta_0005 = [SIR(g) for g in [G1, G2]]"
   ]
  },
  {
   "cell_type": "code",
   "execution_count": null,
   "metadata": {
    "scrolled": true
   },
   "outputs": [],
   "source": [
    "sns.lineplot(range(200), np.mean(sir_infected_beta_0005[0], 1), label=\"1st graph\")\n",
    "sns.lineplot(range(200), np.mean(sir_infected_beta_0005[1], 1), label=\"2nd graph\")\n",
    "plt.legend()\n",
    "pltlt.show"
   ]
  },
  {
   "cell_type": "markdown",
   "metadata": {},
   "source": [
    "* Отличаются ли построенные зависимости? \n",
    "Попробуйте понять, что влияет на распространение в сети, для этого исследуйте топологию G1, G2. "
   ]
  },
  {
   "cell_type": "code",
   "execution_count": null,
   "metadata": {},
   "outputs": [],
   "source": [
    "sir_infected_beta_001 = [SIR(g, beta=0.01, gamma=0.05) for g in [G1, G2]]"
   ]
  },
  {
   "cell_type": "code",
   "execution_count": null,
   "metadata": {},
   "outputs": [],
   "source": [
    "sns.lineplot(range(n_iter), np.mean(sir_infected_beta_001[0], 1), label=\"1st graph\")\n",
    "sns.lineplot(range(n_iter), np.mean(sir_infected_beta_001[1], 1), label=\"2nd graph\")\n",
    "plt.legend()\n",
    "plt.show()"
   ]
  },
  {
   "cell_type": "code",
   "execution_count": null,
   "metadata": {},
   "outputs": [],
   "source": [
    "sir_infected_beta_005 = [SIR(g, beta=0.05, gamma=0.1, percentage_infected=0.01) for g in [G1, G2]]"
   ]
  },
  {
   "cell_type": "code",
   "execution_count": null,
   "metadata": {},
   "outputs": [],
   "source": [
    "sns.lineplot(range(n_iter), np.mean(sir_infected_beta_005[0], 1), label=\"1st graph\")\n",
    "sns.lineplot(range(n_iter), np.mean(sir_infected_beta_005[1], 1), label=\"2nd graph\")\n",
    "plt.legend()\n",
    "plt.show()"
   ]
  },
  {
   "cell_type": "markdown",
   "metadata": {},
   "source": [
    "* Поменяйте параметры модели, всегда ли распространение \"чувствительно\" к топологии сети?"
   ]
  },
  {
   "cell_type": "markdown",
   "metadata": {},
   "source": [
    "### 4. Моделирование распространения Covid-19. \n",
    "Будем работать с [данными](https://www.kaggle.com/sudalairajkumar/novel-corona-virus-2019-dataset) по распространению коронавируса в мире. \n",
    "\n",
    "* Визуализируйте данные для выбранных стран, например в виде зависимостей логарифма числа зараженных от времени. \n",
    "\n",
    "* Оцените коэффициет роста числа зараженных - коэффициент в экспоненциальной зависимости, как его можно интерпретировать? \n",
    "\n",
    "* (дополнительно) Попробуйте смоделировать распространение в рамках SIR модели (в приближении среднего поля) для провинции Хубей (Китай). \n",
    "\n",
    "* (дополнительно) Какие прогнозы можно сделать по ситуации в России? "
   ]
  },
  {
   "cell_type": "code",
   "execution_count": null,
   "metadata": {},
   "outputs": [],
   "source": [
    "data = pd.read_csv(\"covid.csv\")\n",
    "data.head()"
   ]
  },
  {
   "cell_type": "code",
   "execution_count": null,
   "metadata": {
    "scrolled": true
   },
   "outputs": [],
   "source": [
    "dsum = data.iloc[:,11:]\n",
    "dsum.head()"
   ]
  },
  {
   "cell_type": "code",
   "execution_count": null,
   "metadata": {},
   "outputs": [],
   "source": [
    "cor = np.array(dsum.sum(axis=0))"
   ]
  },
  {
   "cell_type": "code",
   "execution_count": null,
   "metadata": {},
   "outputs": [],
   "source": [
    "x, y = range(len(cor)), cor\n",
    "plt.plot(x, y)\n",
    "plt.yscale(\"log\")\n",
    "plt.title(\"US\")\n",
    "plt.show()"
   ]
  },
  {
   "cell_type": "code",
   "execution_count": null,
   "metadata": {},
   "outputs": [],
   "source": [
    "np.polyfit(np.log(x), y, 1)"
   ]
  }
 ],
 "metadata": {
  "kernelspec": {
   "display_name": "networks",
   "language": "python",
   "name": "networks"
  },
  "language_info": {
   "codemirror_mode": {
    "name": "ipython",
    "version": 3
   },
   "file_extension": ".py",
   "mimetype": "text/x-python",
   "name": "python",
   "nbconvert_exporter": "python",
   "pygments_lexer": "ipython3",
   "version": "3.6.9"
  },
  "latex_envs": {
   "LaTeX_envs_menu_present": true,
   "autoclose": false,
   "autocomplete": true,
   "bibliofile": "biblio.bib",
   "cite_by": "apalike",
   "current_citInitial": 1,
   "eqLabelWithNumbers": true,
   "eqNumInitial": 1,
   "hotkeys": {
    "equation": "Ctrl-E",
    "itemize": "Ctrl-I"
   },
   "labels_anchors": false,
   "latex_user_defs": false,
   "report_style_numbering": false,
   "user_envs_cfg": false
  }
 },
 "nbformat": 4,
 "nbformat_minor": 2
}
