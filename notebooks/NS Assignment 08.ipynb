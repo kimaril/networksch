{
 "cells": [
  {
   "cell_type": "markdown",
   "metadata": {},
   "source": [
    "# Задание 08"
   ]
  },
  {
   "cell_type": "code",
   "execution_count": 2,
   "metadata": {
    "collapsed": true
   },
   "outputs": [],
   "source": [
    "import numpy as np\n",
    "import matplotlib.pyplot as plt\n",
    "%matplotlib inline\n",
    "import networkx as nx\n",
    "\n",
    "from numpy import linalg as LA"
   ]
  },
  {
   "cell_type": "markdown",
   "metadata": {},
   "source": [
    "## 1. Random walk normalized Laplacian\n",
    "Нормализованный Лапласиан определяется:  \n",
    "\n",
    "$$\n",
    "L^{norm}=D^{-1}L= I-D^{-1}A, $$\n",
    "\n",
    "$$\n",
    "L^{norm}_{ij}=\n",
    " \\begin{cases}\n",
    "   1, &\\text{  $i=j$, $k_i \\neq 0$},\\\\\n",
    "   -\\displaystyle \\frac{1}{k_i}, &\\text{  $ i \\neq j,  (i,j) \\in E$},\\\\\n",
    "   0, &\\text{  otherwise}.\\\\\n",
    " \\end{cases}\n",
    "$$\n",
    "\n",
    "* напишите функцию, вычисляющую матрицу $L_{norm}$ для сети;"
   ]
  },
  {
   "cell_type": "code",
   "execution_count": 3,
   "metadata": {
    "collapsed": true
   },
   "outputs": [],
   "source": [
    "def normalized_laplacian_matrix(G):\n",
    "    return L"
   ]
  },
  {
   "cell_type": "markdown",
   "metadata": {},
   "source": [
    "* убедитесь, что все собственные значения такой матрицы лежат $\\left[0,2 \\right]$.\n",
    "* постройте спектры (огибающие гистограмм) сложных сетей, описывающие разные организмы (см. картинку 1 [статьи](https://www.ncbi.nlm.nih.gov/pmc/articles/PMC3888935/#B19)).\n",
    "\n",
    "Если сети направленные или имеют мультиребра, предварительно сделайте их простыми (удалите направления и мультиребра). \n",
    "\n",
    "Похожи ли спектры различных организмов между собой? "
   ]
  },
  {
   "cell_type": "code",
   "execution_count": 11,
   "metadata": {},
   "outputs": [
    {
     "name": "stdout",
     "output_type": "stream",
     "text": [
      "65 1139 0.27379807692307695\n"
     ]
    }
   ],
   "source": [
    "cat=nx.read_graphml('cat.graphml')\n",
    "print(nx.number_of_nodes(cat),nx.number_of_edges(cat),nx.density(cat))"
   ]
  },
  {
   "cell_type": "code",
   "execution_count": 13,
   "metadata": {},
   "outputs": [
    {
     "name": "stdout",
     "output_type": "stream",
     "text": [
      "1781 33641 0.010611700282002914\n"
     ]
    }
   ],
   "source": [
    "drs=nx.read_graphml('drosophila.graphml')\n",
    "print(nx.number_of_nodes(drs),nx.number_of_edges(drs),nx.density(drs))"
   ]
  },
  {
   "cell_type": "markdown",
   "metadata": {},
   "source": [
    "## 2. Устойчивость коннектомов\n",
    "Будем генерировать шум в сети двумы способами:\n",
    "\n",
    "1) удалять ребро и ставить новое ребро между парой случайно выбранных вершин;\n",
    "\n",
    "2) рандомизировать сеть, сохраняя степени вершин. \n",
    "\n",
    "* Постройте зависимости расстояния между исходным и зашумленным спектрами от числа шагов генерации шума. \n",
    "\n",
    "Расстояние определяется Евклидовой метрикой:\n",
    "\n",
    "$$\n",
    "s=\\sum_{i}(\\lambda_i-\\lambda^{noise}_i)^2,\n",
    "$$\n",
    "\n",
    "Число шагов генерации шума измеряйте в количестве ребер графа: $N_{noise} = 0,~0.1E,~02E, ~ \\dots E.$  "
   ]
  },
  {
   "cell_type": "markdown",
   "metadata": {},
   "source": [
    "## 3. Схожесть спектров различных организмов\n",
    "\n",
    "* Вычислите расстояние между спектрами коннектомов различных организмов;\n",
    "\n",
    "Так как спектры имеют различную размерность, то Евклидова метрика не годится для измерения расстояния. Можно использовать [Earth mover distance](https://en.wikipedia.org/wiki/Earth_mover%27s_distance). \n",
    "\n",
    "Полезная функция (нужен scipy версии 1.0 и выше):"
   ]
  },
  {
   "cell_type": "code",
   "execution_count": 1,
   "metadata": {
    "collapsed": true
   },
   "outputs": [],
   "source": [
    "from scipy.stats import wasserstein_distance"
   ]
  },
  {
   "cell_type": "markdown",
   "metadata": {},
   "source": [
    "* с чем можно сравнить найденные расстояния? "
   ]
  }
 ],
 "metadata": {
  "kernelspec": {
   "display_name": "Python 3",
   "language": "python",
   "name": "python3"
  },
  "language_info": {
   "codemirror_mode": {
    "name": "ipython",
    "version": 3
   },
   "file_extension": ".py",
   "mimetype": "text/x-python",
   "name": "python",
   "nbconvert_exporter": "python",
   "pygments_lexer": "ipython3",
   "version": "3.6.9"
  },
  "latex_envs": {
   "LaTeX_envs_menu_present": true,
   "autoclose": false,
   "autocomplete": true,
   "bibliofile": "biblio.bib",
   "cite_by": "apalike",
   "current_citInitial": 1,
   "eqLabelWithNumbers": true,
   "eqNumInitial": 1,
   "hotkeys": {
    "equation": "Ctrl-E",
    "itemize": "Ctrl-I"
   },
   "labels_anchors": false,
   "latex_user_defs": false,
   "report_style_numbering": false,
   "user_envs_cfg": false
  }
 },
 "nbformat": 4,
 "nbformat_minor": 2
}
