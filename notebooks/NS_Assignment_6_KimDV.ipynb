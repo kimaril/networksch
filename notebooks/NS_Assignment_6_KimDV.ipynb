{
 "cells": [
  {
   "cell_type": "code",
   "execution_count": 73,
   "metadata": {
    "colab": {},
    "colab_type": "code",
    "id": "bNzfRHRgP8-I"
   },
   "outputs": [],
   "source": [
    "import numpy as np\n",
    "import matplotlib.pyplot as plt\n",
    "from collections import Counter\n",
    "import networkx as nx\n",
    "import seaborn as sns\n",
    "import copy\n",
    "from tqdm.notebook import tqdm\n",
    "from itertools import combinations\n",
    "import sys\n",
    "import random\n",
    "%matplotlib inline"
   ]
  },
  {
   "cell_type": "markdown",
   "metadata": {
    "colab_type": "text",
    "id": "H33cNBvGP8-O"
   },
   "source": [
    "#### Данные:\n",
    "\n",
    "* Neutral Network"
   ]
  },
  {
   "cell_type": "code",
   "execution_count": 2,
   "metadata": {
    "colab": {},
    "colab_type": "code",
    "id": "kmrgwAUhP8-P",
    "outputId": "2a8e12dd-16f0-4afb-8777-b3a312247dc4"
   },
   "outputs": [
    {
     "name": "stdout",
     "output_type": "stream",
     "text": [
      "-0.0817\n"
     ]
    }
   ],
   "source": [
    "NN = nx.read_edgelist('../data/ca-netscience.txt')\n",
    "print(round(nx.degree_assortativity_coefficient(NN), 4))"
   ]
  },
  {
   "cell_type": "markdown",
   "metadata": {
    "colab_type": "text",
    "id": "ptnXxF-0P8-U"
   },
   "source": [
    "* Assortative Network"
   ]
  },
  {
   "cell_type": "code",
   "execution_count": 3,
   "metadata": {
    "colab": {},
    "colab_type": "code",
    "id": "bFqIeUdvP8-V",
    "outputId": "0eceae2f-d660-4632-c626-1095ce1f0c59"
   },
   "outputs": [
    {
     "name": "stdout",
     "output_type": "stream",
     "text": [
      "0.3968\n"
     ]
    }
   ],
   "source": [
    "AS = nx.read_edgelist('../data/proteins.txt') \n",
    "print(round(nx.degree_assortativity_coefficient(AS), 4))"
   ]
  },
  {
   "cell_type": "markdown",
   "metadata": {
    "colab_type": "text",
    "id": "BbpyIoHGP8-Z"
   },
   "source": [
    "* Disassortative Network"
   ]
  },
  {
   "cell_type": "code",
   "execution_count": 4,
   "metadata": {
    "colab": {},
    "colab_type": "code",
    "id": "QwGBLje4P8-a",
    "outputId": "32a6f70b-7c67-4b96-97c1-c08ca2464dd1"
   },
   "outputs": [
    {
     "name": "stdout",
     "output_type": "stream",
     "text": [
      "-0.2095\n"
     ]
    }
   ],
   "source": [
    "DS = nx.read_edgelist('../data/bio-yeast.txt') \n",
    "print(round(nx.degree_assortativity_coefficient(DS), 4))"
   ]
  },
  {
   "cell_type": "markdown",
   "metadata": {
    "colab_type": "text",
    "id": "qVxcT51mP8-f"
   },
   "source": [
    "#### 1. Матрица корреляций степеней вершин (3 балла)\n",
    "* напишите функцию, вычисляющую матрицу корреляции степеней $e_{ij}$;\n",
    "* напишите функцию, вычисляющую коэффициент ассортативности по матрице корреляций $e_{ij}$:\n",
    "$$\n",
    "r=\\sum_{jk}\\frac{jk\\left[e_{jk}-q_jq_k\\right]}{\\sigma_q^2},\n",
    "$$\n",
    "$$\n",
    "\\sigma_q^2=\\sum_k k^2q_k-(\\sum_k kq_k)^2,\n",
    "$$\n",
    "$$\n",
    "q_j=\\sum_{i} e_{ji},\n",
    "$$\n",
    "\n",
    "* для заданных сетей постройте матрицы корреляций и вычислите коэффициент ассортативности, сравните со значениями, вычисленными с помощью [функции](https://networkx.github.io/documentation/networkx-1.10/reference/generated/networkx.algorithms.assortativity.degree_assortativity_coefficient.html#networkx.algorithms.assortativity.degree_assortativity_coefficient)."
   ]
  },
  {
   "cell_type": "code",
   "execution_count": 5,
   "metadata": {},
   "outputs": [],
   "source": [
    "def get_degree_correlation_matrix(G):\n",
    "    degrees = dict(G.degree())\n",
    "    max_degree = max(list(degrees.values()))\n",
    "    E = np.zeros((max_degree + 1,  max_degree + 1))\n",
    "    for i in G.edges():\n",
    "        E[degrees[i[0]], degrees[i[1]]] += 1\n",
    "        E[degrees[i[1]], degrees[i[0]]] += 1\n",
    "    E /= np.sum(E)\n",
    "    return E\n",
    "    \n",
    "def get_assortativity_from_E(E):\n",
    "    n = len(E)\n",
    "    q = np.sum(E, axis=1)\n",
    "    s = np.sum(np.multiply(np.arange(1, len(q)+1)**2, q)) - np.sum(np.multiply(np.arange(1, len(q)+1), q))**2\n",
    "    r = 0\n",
    "    for j in range(n):\n",
    "        for k in range(n):\n",
    "            r += j * k * (E[j][k] - q[j] * q[k])\n",
    "    r /= s\n",
    "    return r"
   ]
  },
  {
   "cell_type": "code",
   "execution_count": 6,
   "metadata": {},
   "outputs": [],
   "source": [
    "def compare(G):\n",
    "    crafted_r = get_assortativity_from_E(get_degree_correlation_matrix(G))\n",
    "    networkx_r = nx.degree_assortativity_coefficient(G)\n",
    "    print(f'Crafted method: {crafted_r}\\nNX method: { networkx_r}')"
   ]
  },
  {
   "cell_type": "code",
   "execution_count": 7,
   "metadata": {},
   "outputs": [
    {
     "name": "stdout",
     "output_type": "stream",
     "text": [
      "Crafted method: -0.08167784834672827\n",
      "NX method: -0.08167784834672846\n"
     ]
    }
   ],
   "source": [
    "compare(NN)"
   ]
  },
  {
   "cell_type": "code",
   "execution_count": 8,
   "metadata": {},
   "outputs": [
    {
     "name": "stdout",
     "output_type": "stream",
     "text": [
      "Crafted method: 0.39677721250363623\n",
      "NX method: 0.39677721250363557\n"
     ]
    }
   ],
   "source": [
    "compare(AS)"
   ]
  },
  {
   "cell_type": "code",
   "execution_count": 9,
   "metadata": {},
   "outputs": [
    {
     "name": "stdout",
     "output_type": "stream",
     "text": [
      "Crafted method: -0.20954054116464865\n",
      "NX method: -0.20954054116464868\n"
     ]
    }
   ],
   "source": [
    "compare(DS)"
   ]
  },
  {
   "cell_type": "code",
   "execution_count": 10,
   "metadata": {
    "colab": {},
    "colab_type": "code",
    "id": "yZZLZCphP8-g",
    "outputId": "2b77c1fd-a2b8-43a6-dabd-c3e91701336b"
   },
   "outputs": [],
   "source": [
    "def viz_E(E, net_name):\n",
    "    plt.imshow(E, cmap='PiYG') # для визуализации матрицы корреляций\n",
    "    plt.title(net_name)\n",
    "    plt.colorbar()\n",
    "    plt.show()"
   ]
  },
  {
   "cell_type": "code",
   "execution_count": 11,
   "metadata": {
    "scrolled": true
   },
   "outputs": [
    {
     "data": {
      "image/png": "[encoded data removed]",
      "text/plain": [
       "<Figure size 432x288 with 2 Axes>"
      ]
     },
     "metadata": {
      "needs_background": "light"
     },
     "output_type": "display_data"
    }
   ],
   "source": [
    "viz_E(get_degree_correlation_matrix(NN), 'Ca-NetScience Neutral Network')"
   ]
  },
  {
   "cell_type": "code",
   "execution_count": 12,
   "metadata": {},
   "outputs": [
    {
     "data": {
      "image/png": "[encoded data removed]",
      "text/plain": [
       "<Figure size 432x288 with 2 Axes>"
      ]
     },
     "metadata": {
      "needs_background": "light"
     },
     "output_type": "display_data"
    }
   ],
   "source": [
    "viz_E(get_degree_correlation_matrix(AS), 'Proteins Assortative Network')"
   ]
  },
  {
   "cell_type": "code",
   "execution_count": 13,
   "metadata": {},
   "outputs": [
    {
     "data": {
      "image/png": "[encoded data removed]",
      "text/plain": [
       "<Figure size 432x288 with 2 Axes>"
      ]
     },
     "metadata": {
      "needs_background": "light"
     },
     "output_type": "display_data"
    }
   ],
   "source": [
    "viz_E(get_degree_correlation_matrix(DS), 'Bio-Yeast Disassortative Network')"
   ]
  },
  {
   "cell_type": "markdown",
   "metadata": {
    "colab_type": "text",
    "id": "sTHvkVe4P8-k"
   },
   "source": [
    "#### 2. Функция корреляции степеней (3 балла)\n",
    "* напишите функцию, вычисляющую функцию корреляции $k_{nn}(k)$ для сети:\n",
    "$$\n",
    "k_{nn}(k)=\\sum_{k'}k'P(k'|k)=\\frac{\\sum_i{k_{nn,i}}}{N(k)};\n",
    "$$\n",
    "$N(k)$ - число вершин степени $k$.\n",
    "* постройте функции корреляций $k_{nn}(k)$ для заданных сетей. Аппроксимируйте в двойном логарифмическом масштабе полученные зависимости прямой:\n",
    "$$\n",
    "\\log(k_{nn}(k))=\\log(a)+\\mu \\log k\n",
    "$$\n",
    "Чему равны значения $\\mu$ для разных сетей? "
   ]
  },
  {
   "cell_type": "code",
   "execution_count": 14,
   "metadata": {},
   "outputs": [],
   "source": [
    "def corr(G):\n",
    "    knni = list(nx.average_neighbor_degree(G).values())\n",
    "    degrees = dict(G.degree())\n",
    "    degrees = dict(Counter(sorted(degrees.values())))\n",
    "    knn = np.zeros(len(degrees.keys()))\n",
    "    keys = list(degrees.keys())\n",
    "    for i in range(len(knn)):\n",
    "        k = degrees[keys[i]]\n",
    "        knn[i] = np.sum(knni) / k\n",
    "    return np.array(list(map(int, degrees.keys()))), np.array(knn)"
   ]
  },
  {
   "cell_type": "code",
   "execution_count": 15,
   "metadata": {},
   "outputs": [
    {
     "data": {
      "image/png": "[encoded data removed]",
      "text/plain": [
       "<Figure size 432x288 with 1 Axes>"
      ]
     },
     "metadata": {
      "needs_background": "light"
     },
     "output_type": "display_data"
    }
   ],
   "source": [
    "x, y = corr(NN)\n",
    "sns.scatterplot(x, y, color='tab:pink')\n",
    "coefs = np.polyfit(x, y, 1)\n",
    "sns.lineplot(x, coefs[0]*x + coefs[1], color='tab:purple')\n",
    "plt.yscale(\"log\")\n",
    "plt.xscale(\"log\")\n",
    "plt.show()"
   ]
  },
  {
   "cell_type": "markdown",
   "metadata": {
    "colab_type": "text",
    "id": "_T4JUdWKP8-q"
   },
   "source": [
    "#### 3. Алгоритм [Xalvi-Brunet & Sokolov](https://en.wikipedia.org/wiki/Xulvi-Brunet%E2%80%93Sokolov_algorithm) (4 балла)\n",
    "* измените функцию рандомизации сети (предыдущий семинар) так, чтобы рандомизированная сеть была ассортативна/диссортативна ($\\rho=1$);\n",
    "\n",
    "На каждом шаге из вершин $(P,Q), (R,S)$ соединяйте вершины наибольших степеней (ассортативность) или вершину наибольшей степени с вершиной наименьшей степени (диссортативность). Второе ребро соединяет оставшиеся вершины выбранной четверки. \n",
    "* проверьте, что алгоритм строит ассортативную/диссортативную сеть на случайных/реальных сетях. \n",
    "\n",
    "Исследуйте как влияет ассортативность сети на порог перколяции в случайных графах Эрдеша-Реньи:\n",
    "* для разных значений $p \\in\\left[10^{-4},5  \\centerdot 10^{-3} \\right]$ сгенерируйте ансамбль случайных сетей $G(N,p)$, $N=10^3$, число сетей в ансамбле 10;\n",
    "* постройте зависимость среднего значения гигантской компоненты в ансамбле как функцию $p$ (см. NS Seminar 03).\n",
    "* с помощью вашего алгоритма сделайте сети ансамбля ассортативными/диссортативными;\n",
    "* постройте зависимость среднего значения гигантской компоненты в ансамбле как функцию $p$ для смоделированных сетей (три зависимости на одном графике);\n",
    "\n",
    "Как изменился порог перколяции? "
   ]
  },
  {
   "cell_type": "code",
   "execution_count": 69,
   "metadata": {
    "colab": {},
    "colab_type": "code",
    "id": "pEK17MLGP8-r"
   },
   "outputs": [],
   "source": [
    "def degreesToList(G):\n",
    "    return [d for n, d in G.degree()]\n",
    "\n",
    "def step(edges, degrees, p, state):\n",
    "    nodes = np.ones((4,), dtype=str)\n",
    "    while any([_[0]==_[1] for _ in combinations(nodes,2)]):\n",
    "        edges_to_swap = random.choices(edges, k=2)\n",
    "        nodes = [edges_to_swap[0][0], edges_to_swap[0][1], \n",
    "                 edges_to_swap[1][0], edges_to_swap[1][1]]\n",
    "    \n",
    "    sdegrees = sorted([(n, degrees[n]) for n in nodes], key=lambda x: x[-1], reverse=False)\n",
    "    \n",
    "    if state:\n",
    "        if np.random.rand() > p:\n",
    "            edges = (sdegrees[0][0], sdegrees[1][0]), (sdegrees[2][0], sdegrees[3][0])\n",
    "        else:\n",
    "            edges = (nodes[0], nodes[-1]), (nodes[2], nodes[1])\n",
    "    else:\n",
    "        if np.random.rand() < p:\n",
    "            edges = (sdegrees[0][0], sdegrees[-1][0]), (sdegrees[1][0], sdegrees[3][0])\n",
    "        else:\n",
    "            edges = (nodes[0], nodes[-1]), (nodes[2], nodes[1])\n",
    "            \n",
    "    return edges, edges_to_swap\n",
    "\n",
    "def rewire(G, p, state):\n",
    "    edges = list(G.edges())\n",
    "    degrees = dict(G.degree())\n",
    "    edges_new, edges_old = step(edges, degrees, p, state)\n",
    "    while any([_ in edges for _ in edges_new]):\n",
    "        edges_new, edges_old = step(edges, degrees, p, state)\n",
    "    G.remove_edges_from(edges_old)\n",
    "    G.add_edges_from(edges_new)\n",
    "\n",
    "def randomize(G, N_steps, p, state):\n",
    "    for i in range(N_steps):\n",
    "        rewire(G, p, state)\n",
    "    return G\n",
    "        \n",
    "def check_degrees(G1: nx.Graph, G2: nx.Graph) -> bool:\n",
    "    return all(np.array(degreesToList(G1))==np.array(degreesToList(G2)))"
   ]
  },
  {
   "cell_type": "code",
   "execution_count": 70,
   "metadata": {},
   "outputs": [],
   "source": [
    "def experiment(G):\n",
    "    N_steps = len(dict(G.edges()))*10\n",
    "    GA = randomize(copy.deepcopy(G), N_steps, p, True)\n",
    "    GD = randomize(copy.deepcopy(G), N_steps, p, False)\n",
    "    \n",
    "    return len(max(nx.connected_components(G), key=len))/n,\\\n",
    "           len(max(nx.connected_components(GA), key=len))/n,\\\n",
    "           len(max(nx.connected_components(GD), key=len))/n"
   ]
  },
  {
   "cell_type": "code",
   "execution_count": null,
   "metadata": {},
   "outputs": [
    {
     "data": {
      "application/vnd.jupyter.widget-view+json": {
       "model_id": "51ca3d66dd0c4f3f8576322d654f7f06",
       "version_major": 2,
       "version_minor": 0
      },
      "text/plain": [
       "HBox(children=(FloatProgress(value=0.0, max=10.0), HTML(value='')))"
      ]
     },
     "metadata": {},
     "output_type": "display_data"
    }
   ],
   "source": [
    "res = []\n",
    "for p in tqdm(np.arange(0.0001, 0.005, 0.0005)):\n",
    "    n = 1000\n",
    "    buf = []\n",
    "    for i in range(10):\n",
    "        G = nx.erdos_renyi_graph(n, p)    \n",
    "        buf.append(experiment(G))\n",
    "        \n",
    "    res.append(np.mean(np.array(buf), axis=1))"
   ]
  },
  {
   "cell_type": "code",
   "execution_count": null,
   "metadata": {},
   "outputs": [],
   "source": [
    "res = np.array(res)\n",
    "plt.figure(figsize=(10,5))\n",
    "plt.plot(np.arange(0.0001, 0.005, 0.0005), res[0, :], label='Normal')\n",
    "plt.plot(np.arange(0.0001, 0.005, 0.0005), res[1, :], label='Assortative')\n",
    "plt.plot(np.arange(0.0001, 0.005, 0.0005), res[2, :], label='Disassortative')\n",
    "plt.legend()\n",
    "plt.grid()\n",
    "plt.show()"
   ]
  }
 ],
 "metadata": {
  "colab": {
   "name": "NS Seminar 08.ipynb",
   "provenance": []
  },
  "kernelspec": {
   "display_name": "Python 3",
   "language": "python",
   "name": "python3"
  },
  "language_info": {
   "codemirror_mode": {
    "name": "ipython",
    "version": 3
   },
   "file_extension": ".py",
   "mimetype": "text/x-python",
   "name": "python",
   "nbconvert_exporter": "python",
   "pygments_lexer": "ipython3",
   "version": "3.6.9"
  },
  "latex_envs": {
   "LaTeX_envs_menu_present": true,
   "autoclose": false,
   "autocomplete": true,
   "bibliofile": "biblio.bib",
   "cite_by": "apalike",
   "current_citInitial": 1,
   "eqLabelWithNumbers": true,
   "eqNumInitial": 1,
   "hotkeys": {
    "equation": "Ctrl-E",
    "itemize": "Ctrl-I"
   },
   "labels_anchors": false,
   "latex_user_defs": false,
   "report_style_numbering": false,
   "user_envs_cfg": false
  }
 },
 "nbformat": 4,
 "nbformat_minor": 1
}
