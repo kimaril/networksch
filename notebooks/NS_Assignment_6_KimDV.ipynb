{
 "cells": [
  {
   "cell_type": "code",
   "execution_count": 1,
   "metadata": {
    "colab": {},
    "colab_type": "code",
    "id": "bNzfRHRgP8-I"
   },
   "outputs": [],
   "source": [
    "import numpy as np\n",
    "import matplotlib.pyplot as plt\n",
    "\n",
    "\n",
    "%matplotlib inline\n",
    "import networkx as nx"
   ]
  },
  {
   "cell_type": "markdown",
   "metadata": {
    "colab_type": "text",
    "id": "H33cNBvGP8-O"
   },
   "source": [
    "#### Данные:\n",
    "\n",
    "* Neutral Network"
   ]
  },
  {
   "cell_type": "code",
   "execution_count": 2,
   "metadata": {
    "colab": {},
    "colab_type": "code",
    "id": "kmrgwAUhP8-P",
    "outputId": "2a8e12dd-16f0-4afb-8777-b3a312247dc4"
   },
   "outputs": [
    {
     "name": "stdout",
     "output_type": "stream",
     "text": [
      "-0.08167784834672846\n"
     ]
    }
   ],
   "source": [
    "NN = nx.read_edgelist('ca-netscience.txt')\n",
    "print(nx.degree_assortativity_coefficient(NN))"
   ]
  },
  {
   "cell_type": "markdown",
   "metadata": {
    "colab_type": "text",
    "id": "ptnXxF-0P8-U"
   },
   "source": [
    "* Assortative Network"
   ]
  },
  {
   "cell_type": "code",
   "execution_count": 3,
   "metadata": {
    "colab": {},
    "colab_type": "code",
    "id": "bFqIeUdvP8-V",
    "outputId": "0eceae2f-d660-4632-c626-1095ce1f0c59"
   },
   "outputs": [
    {
     "name": "stdout",
     "output_type": "stream",
     "text": [
      "0.39677721250363557\n"
     ]
    }
   ],
   "source": [
    "AS = nx.read_edgelist('proteins.txt') \n",
    "print(nx.degree_assortativity_coefficient(AS))"
   ]
  },
  {
   "cell_type": "markdown",
   "metadata": {
    "colab_type": "text",
    "id": "BbpyIoHGP8-Z"
   },
   "source": [
    "* Disassortative Network"
   ]
  },
  {
   "cell_type": "code",
   "execution_count": 4,
   "metadata": {
    "colab": {},
    "colab_type": "code",
    "id": "QwGBLje4P8-a",
    "outputId": "32a6f70b-7c67-4b96-97c1-c08ca2464dd1"
   },
   "outputs": [
    {
     "name": "stdout",
     "output_type": "stream",
     "text": [
      "-0.20954054116464868\n"
     ]
    }
   ],
   "source": [
    "DS = nx.read_edgelist('bio-yeast.txt') \n",
    "print(nx.degree_assortativity_coefficient(DS))"
   ]
  },
  {
   "cell_type": "markdown",
   "metadata": {
    "colab_type": "text",
    "id": "qVxcT51mP8-f"
   },
   "source": [
    "#### 1. Матрица корреляций степеней вершин (3 балла)\n",
    "* напишите функцию, вычисляющую матрицу корреляции степеней $e_{ij}$;\n",
    "* напишите функцию, вычисляющую коэффициент ассортативности по матрице корреляций $e_{ij}$:\n",
    "$$\n",
    "r=\\sum_{jk}\\frac{jk\\left[e_{jk}-q_jq_k\\right]}{\\sigma_q^2},\n",
    "$$\n",
    "$$\n",
    "\\sigma_q^2=\\sum_k k^2q_k-(\\sum_k kq_k)^2,\n",
    "$$\n",
    "$$\n",
    "q_j=\\sum_{i} e_{ji},\n",
    "$$\n",
    "\n",
    "* для заданных сетей постройте матрицы корреляций и вычислите коэффициент ассортативности, сравните со значениями, вычисленными с помощью [функции](https://networkx.github.io/documentation/networkx-1.10/reference/generated/networkx.algorithms.assortativity.degree_assortativity_coefficient.html#networkx.algorithms.assortativity.degree_assortativity_coefficient)."
   ]
  },
  {
   "cell_type": "code",
   "execution_count": 41,
   "metadata": {},
   "outputs": [],
   "source": [
    "import collections, numpy\n",
    "def er(G):\n",
    "    degrees = dict(G.degree)\n",
    "    m = max(list(degrees.values()))\n",
    "    e = np.zeros((m + 1,  m + 1))\n",
    "    for i in G.edges():\n",
    "        e[degrees[i[0]], degrees[i[1]]] += 1\n",
    "        e[degrees[i[1]], degrees[i[0]]] += 1\n",
    "    e /= np.sum(e)\n",
    "    q = []\n",
    "    for i in range(len(e)):\n",
    "        q.append(np.sum(e[i]))\n",
    "    s = 0\n",
    "    for i in range(len(e)):\n",
    "        s += i * i * q[i]\n",
    "    s2 = 0\n",
    "    for i in range(len(e)):\n",
    "        s2 += i * q[i]\n",
    "    s2 *= s2\n",
    "    s -= s2\n",
    "    r = 0\n",
    "    for j in range(len(e)):\n",
    "        for k in range(len(e)):\n",
    "            r += j * k * (e[j][k] - q[j] * q[k])\n",
    "    r /= s\n",
    "    return e, r"
   ]
  },
  {
   "cell_type": "code",
   "execution_count": 42,
   "metadata": {},
   "outputs": [
    {
     "name": "stdout",
     "output_type": "stream",
     "text": [
      "-0.08167784834672827 -0.08167784834672846\n"
     ]
    }
   ],
   "source": [
    "_, r = er(NN)\n",
    "print(r, nx.degree_assortativity_coefficient(NN))"
   ]
  },
  {
   "cell_type": "code",
   "execution_count": 43,
   "metadata": {},
   "outputs": [
    {
     "name": "stdout",
     "output_type": "stream",
     "text": [
      "0.39677721250363623 0.39677721250363557\n"
     ]
    }
   ],
   "source": [
    "_, r = er(AS)\n",
    "print(r, nx.degree_assortativity_coefficient(AS))"
   ]
  },
  {
   "cell_type": "code",
   "execution_count": 44,
   "metadata": {},
   "outputs": [
    {
     "name": "stdout",
     "output_type": "stream",
     "text": [
      "-0.20954054116464868 -0.20954054116464868\n"
     ]
    }
   ],
   "source": [
    "_, r = er(DS)\n",
    "print(r, nx.degree_assortativity_coefficient(DS))"
   ]
  },
  {
   "cell_type": "code",
   "execution_count": 0,
   "metadata": {
    "colab": {},
    "colab_type": "code",
    "id": "yZZLZCphP8-g",
    "outputId": "2b77c1fd-a2b8-43a6-dabd-c3e91701336b"
   },
   "outputs": [
    {
     "data": {
      "text/plain": [
       "<matplotlib.colorbar.Colorbar at 0x13e4ada86d8>"
      ]
     },
     "execution_count": 21,
     "metadata": {
      "tags": []
     },
     "output_type": "execute_result"
    },
    {
     "data": {
      "image/png": "[encoded data removed]",
      "text/plain": [
       "<matplotlib.figure.Figure at 0x13e4f1064e0>"
      ]
     },
     "metadata": {
      "tags": []
     },
     "output_type": "display_data"
    }
   ],
   "source": [
    "plt.imshow([[1,2,3],[0,1,0],[2,0,3]],cmap='binary') # для визуализации матрицы корреляций\n",
    "plt.colorbar()"
   ]
  },
  {
   "cell_type": "markdown",
   "metadata": {
    "colab_type": "text",
    "id": "sTHvkVe4P8-k"
   },
   "source": [
    "#### 2. Функция корреляции степеней (3 балла)\n",
    "* напишите функцию, вычисляющую функцию корреляции $k_{nn}(k)$ для сети:\n",
    "$$\n",
    "k_{nn}(k)=\\sum_{k'}k'P(k'|k)=\\frac{\\sum_i{k_{nn,i}}}{N(k)};\n",
    "$$\n",
    "$N(k)$ - число вершин степени $k$.\n",
    "* постройте функции корреляций $k_{nn}(k)$ для заданных сетей. Аппроксимируйте в двойном логарифмическом масштабе полученные зависимости прямой:\n",
    "$$\n",
    "\\log(k_{nn}(k))=\\log(a)+\\mu \\log k\n",
    "$$\n",
    "Чему равны значения $\\mu$ для разных сетей? "
   ]
  },
  {
   "cell_type": "code",
   "execution_count": 73,
   "metadata": {},
   "outputs": [
    {
     "data": {
      "image/png": "[encoded data removed]",
      "text/plain": [
       "<Figure size 432x288 with 1 Axes>"
      ]
     },
     "metadata": {
      "needs_background": "light"
     },
     "output_type": "display_data"
    }
   ],
   "source": [
    "def corr(G):\n",
    "    knni = nx.average_neighbor_degree(G)\n",
    "    s = np.sum(list(knni.values()))\n",
    "    degrees = dict(G.degree())\n",
    "    degrees = dict(collections.Counter(sorted(degrees.values())))\n",
    "    knn = np.zeros(len(degrees.keys()))\n",
    "    keys = list(degrees.keys())\n",
    "    for i in range(len(knn)):\n",
    "        k = degrees[keys[i]]\n",
    "        knn[i] = s / k\n",
    "    return np.array(list(map(int, degrees.keys()))), np.array(knn)\n",
    "        \n",
    "x, y = corr(NN)\n",
    "plt.scatter(x, y)\n",
    "plt.yscale(\"log\")\n",
    "plt.xscale(\"log\")\n",
    "plt.show()"
   ]
  },
  {
   "cell_type": "code",
   "execution_count": 64,
   "metadata": {
    "colab": {},
    "colab_type": "code",
    "id": "AMASXxlEP8-n",
    "outputId": "b0448927-c7cd-4db3-fcb6-9d6832a0ca39"
   },
   "outputs": [
    {
     "data": {
      "text/plain": [
       "array([ 126.43933698, -349.19368597])"
      ]
     },
     "execution_count": 64,
     "metadata": {},
     "output_type": "execute_result"
    }
   ],
   "source": [
    "np.polyfit(x, y, 1) #для аппроксимации"
   ]
  },
  {
   "cell_type": "markdown",
   "metadata": {
    "colab_type": "text",
    "id": "_T4JUdWKP8-q"
   },
   "source": [
    "#### 3. Алгоритм [Xalvi-Brunet & Sokolov](https://en.wikipedia.org/wiki/Xulvi-Brunet%E2%80%93Sokolov_algorithm) (4 балла)\n",
    "* измените функцию рандомизации сети (предыдущий семинар) так, чтобы рандомизированная сеть была ассортативна/диссортативна ($\\rho=1$);\n",
    "\n",
    "На каждом шаге из вершин $(P,Q), (R,S)$ соединяйте вершины наибольших степеней (ассортативность) или вершину наибольшей степени с вершиной наименьшей степени (диссортативность). Второе ребро соединяет оставшиеся вершины выбранной четверки. \n",
    "* проверьте, что алгоритм строит ассортативную/диссортативную сеть на случайных/реальных сетях. \n",
    "\n",
    "Исследуйте как влияет ассортативность сети на порог перколяции в случайных графах Эрдеша-Реньи:\n",
    "* для разных значений $p \\in\\left[10^{-4},5  \\centerdot 10^{-3} \\right]$ сгенерируйте ансамбль случайных сетей $G(N,p)$, $N=10^3$, число сетей в ансамбле 10;\n",
    "* постройте зависимость среднего значения гигантской компоненты в ансамбле как функцию $p$ (см. NS Seminar 03).\n",
    "* с помощью вашего алгоритма сделайте сети ансамбля ассортативными/диссортативными;\n",
    "* постройте зависимость среднего значения гигантской компоненты в ансамбле как функцию $p$ для смоделированных сетей (три зависимости на одном графике);\n",
    "\n",
    "Как изменился порог перколяции? "
   ]
  },
  {
   "cell_type": "code",
   "execution_count": 0,
   "metadata": {
    "colab": {},
    "colab_type": "code",
    "id": "pEK17MLGP8-r"
   },
   "outputs": [],
   "source": []
  }
 ],
 "metadata": {
  "colab": {
   "name": "NS Seminar 08.ipynb",
   "provenance": []
  },
  "kernelspec": {
   "display_name": "Python 3",
   "language": "python",
   "name": "python3"
  },
  "language_info": {
   "codemirror_mode": {
    "name": "ipython",
    "version": 3
   },
   "file_extension": ".py",
   "mimetype": "text/x-python",
   "name": "python",
   "nbconvert_exporter": "python",
   "pygments_lexer": "ipython3",
   "version": "3.6.9"
  },
  "latex_envs": {
   "LaTeX_envs_menu_present": true,
   "autoclose": false,
   "autocomplete": true,
   "bibliofile": "biblio.bib",
   "cite_by": "apalike",
   "current_citInitial": 1,
   "eqLabelWithNumbers": true,
   "eqNumInitial": 1,
   "hotkeys": {
    "equation": "Ctrl-E",
    "itemize": "Ctrl-I"
   },
   "labels_anchors": false,
   "latex_user_defs": false,
   "report_style_numbering": false,
   "user_envs_cfg": false
  }
 },
 "nbformat": 4,
 "nbformat_minor": 1
}
